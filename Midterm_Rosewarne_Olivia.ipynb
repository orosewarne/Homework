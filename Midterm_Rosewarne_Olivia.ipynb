{
  "nbformat": 4,
  "nbformat_minor": 0,
  "metadata": {
    "colab": {
      "provenance": [],
      "authorship_tag": "ABX9TyPw7J94rACfCbsvvyXUs8Nl",
      "include_colab_link": true
    },
    "kernelspec": {
      "name": "python3",
      "display_name": "Python 3"
    },
    "language_info": {
      "name": "python"
    }
  },
  "cells": [
    {
      "cell_type": "markdown",
      "metadata": {
        "id": "view-in-github",
        "colab_type": "text"
      },
      "source": [
        "<a href=\"https://colab.research.google.com/github/orosewarne/Homework/blob/main/Midterm_Rosewarne_Olivia.ipynb\" target=\"_parent\"><img src=\"https://colab.research.google.com/assets/colab-badge.svg\" alt=\"Open In Colab\"/></a>"
      ]
    },
    {
      "cell_type": "code",
      "source": [
        "f = open('numbers.txt','r')\n",
        "g = f.read()\n",
        "g"
      ],
      "metadata": {
        "colab": {
          "base_uri": "https://localhost:8080/",
          "height": 73
        },
        "id": "ogWdvPSjU-AG",
        "outputId": "5b02eda9-78da-4c44-9263-5686d6092e6d"
      },
      "execution_count": 69,
      "outputs": [
        {
          "output_type": "execute_result",
          "data": {
            "text/plain": [
              "'2,4,6,8,4,5,2,1,9,0,4,6,7,4,3,2,1,9,10,3,7,9,6,0,1,3,5,6,7,8,9,10,2,3,6,8,9,10,6,7,4,3\\n2,1,9,10,3,7,9,6,0,1,3,5,6,7,8,9,10,2,3,6,8,9,10,2,4,6,8,4,5,2,1,9,0,4,6,7,4,3,2,1,9,10,3,7,9,6\\n4,5,2,1,9,0,4,6,7,4,3,2,1,9,10,3,7,9,6,0,1,3,5,6,7,8,9,10,2,3,6,8,9,10,6,7,4,3,6,8,4,5,2\\n10,3,7,9,6,0,1,3,5,6,7,8,9,10,2,3,6,8,9,10,2,4,6,8,4,5,2,1,9,0,4,6,7,4\\n2,4,6,8,4,5,2,1,9,0,4,6,7,4,3,2,1,9,10,3,7,9,6'"
            ],
            "application/vnd.google.colaboratory.intrinsic+json": {
              "type": "string"
            }
          },
          "metadata": {},
          "execution_count": 69
        }
      ]
    },
    {
      "cell_type": "code",
      "source": [
        "f_list = g.replace('\\n', ',')\n",
        "f_list"
      ],
      "metadata": {
        "colab": {
          "base_uri": "https://localhost:8080/",
          "height": 73
        },
        "id": "MP56cQFuj171",
        "outputId": "bda6aa8f-5758-44c2-9184-f030f20a5199"
      },
      "execution_count": 70,
      "outputs": [
        {
          "output_type": "execute_result",
          "data": {
            "text/plain": [
              "'2,4,6,8,4,5,2,1,9,0,4,6,7,4,3,2,1,9,10,3,7,9,6,0,1,3,5,6,7,8,9,10,2,3,6,8,9,10,6,7,4,3,2,1,9,10,3,7,9,6,0,1,3,5,6,7,8,9,10,2,3,6,8,9,10,2,4,6,8,4,5,2,1,9,0,4,6,7,4,3,2,1,9,10,3,7,9,6,4,5,2,1,9,0,4,6,7,4,3,2,1,9,10,3,7,9,6,0,1,3,5,6,7,8,9,10,2,3,6,8,9,10,6,7,4,3,6,8,4,5,2,10,3,7,9,6,0,1,3,5,6,7,8,9,10,2,3,6,8,9,10,2,4,6,8,4,5,2,1,9,0,4,6,7,4,2,4,6,8,4,5,2,1,9,0,4,6,7,4,3,2,1,9,10,3,7,9,6'"
            ],
            "application/vnd.google.colaboratory.intrinsic+json": {
              "type": "string"
            }
          },
          "metadata": {},
          "execution_count": 70
        }
      ]
    },
    {
      "cell_type": "code",
      "source": [
        "frequency = {}\n",
        "for item in f_list: \n",
        "  if item in frequency:\n",
        "    frequency[item] += 1 \n",
        "\n",
        "  else:\n",
        "    frequency[item] = 1 \n",
        "\n",
        "print(frequency)"
      ],
      "metadata": {
        "colab": {
          "base_uri": "https://localhost:8080/"
        },
        "id": "_uA2nrt6fx5O",
        "outputId": "017fec58-3f0d-4c7d-c441-912ee9509c9f"
      },
      "execution_count": 71,
      "outputs": [
        {
          "output_type": "stream",
          "name": "stdout",
          "text": [
            "{'2': 19, ',': 187, '4': 22, '6': 26, '8': 13, '5': 10, '1': 28, '9': 24, '0': 23, '7': 17, '3': 20}\n"
          ]
        }
      ]
    },
    {
      "cell_type": "code",
      "source": [
        "import pandas as pd\n",
        "df = pd.Series(frequency)\n",
        "df"
      ],
      "metadata": {
        "colab": {
          "base_uri": "https://localhost:8080/"
        },
        "id": "kP-nLQSKm-sU",
        "outputId": "333c2a8e-67f1-4947-e3a7-68339116b62c"
      },
      "execution_count": 72,
      "outputs": [
        {
          "output_type": "execute_result",
          "data": {
            "text/plain": [
              "2     19\n",
              ",    187\n",
              "4     22\n",
              "6     26\n",
              "8     13\n",
              "5     10\n",
              "1     28\n",
              "9     24\n",
              "0     23\n",
              "7     17\n",
              "3     20\n",
              "dtype: int64"
            ]
          },
          "metadata": {},
          "execution_count": 72
        }
      ]
    },
    {
      "cell_type": "code",
      "source": [
        "df2 = df.drop(',')\n",
        "df2"
      ],
      "metadata": {
        "colab": {
          "base_uri": "https://localhost:8080/"
        },
        "id": "AmiHm3avnx9D",
        "outputId": "37bc7cae-ccd2-4351-eb49-a06101052e05"
      },
      "execution_count": 73,
      "outputs": [
        {
          "output_type": "execute_result",
          "data": {
            "text/plain": [
              "2    19\n",
              "4    22\n",
              "6    26\n",
              "8    13\n",
              "5    10\n",
              "1    28\n",
              "9    24\n",
              "0    23\n",
              "7    17\n",
              "3    20\n",
              "dtype: int64"
            ]
          },
          "metadata": {},
          "execution_count": 73
        }
      ]
    },
    {
      "cell_type": "code",
      "source": [
        "df3 = df2.sort_index(axis = 0, ascending = True)\n",
        "print(df3)"
      ],
      "metadata": {
        "colab": {
          "base_uri": "https://localhost:8080/"
        },
        "id": "FxiKxVLBodik",
        "outputId": "58202281-a06b-4231-9855-226685cbd0b7"
      },
      "execution_count": 74,
      "outputs": [
        {
          "output_type": "stream",
          "name": "stdout",
          "text": [
            "0    23\n",
            "1    28\n",
            "2    19\n",
            "3    20\n",
            "4    22\n",
            "5    10\n",
            "6    26\n",
            "7    17\n",
            "8    13\n",
            "9    24\n",
            "dtype: int64\n"
          ]
        }
      ]
    },
    {
      "cell_type": "code",
      "source": [
        "import matplotlib.pyplot as plt\n",
        "\n",
        "df3.plot(kind = 'hist')"
      ],
      "metadata": {
        "colab": {
          "base_uri": "https://localhost:8080/",
          "height": 284
        },
        "id": "nTTxO_bB3vyw",
        "outputId": "2be32f6c-a133-420c-b7b3-2f3dbbd9317a"
      },
      "execution_count": 75,
      "outputs": [
        {
          "output_type": "execute_result",
          "data": {
            "text/plain": [
              "<matplotlib.axes._subplots.AxesSubplot at 0x7f9c69f6e290>"
            ]
          },
          "metadata": {},
          "execution_count": 75
        },
        {
          "output_type": "display_data",
          "data": {
            "text/plain": [
              "<Figure size 432x288 with 1 Axes>"
            ],
            "image/png": "[encoded data removed]"
          },
          "metadata": {
            "needs_background": "light"
          }
        }
      ]
    },
    {
      "cell_type": "code",
      "source": [
        "dict3 = df3.to_dict()\n",
        "print(dict3)"
      ],
      "metadata": {
        "colab": {
          "base_uri": "https://localhost:8080/"
        },
        "id": "4FzGGiNsCCOp",
        "outputId": "c94acde6-87d5-45a5-f155-c320c6a2c5f9"
      },
      "execution_count": 76,
      "outputs": [
        {
          "output_type": "stream",
          "name": "stdout",
          "text": [
            "{'0': 23, '1': 28, '2': 19, '3': 20, '4': 22, '5': 10, '6': 26, '7': 17, '8': 13, '9': 24}\n"
          ]
        }
      ]
    },
    {
      "cell_type": "code",
      "source": [
        "import json \n",
        "json_dict3 = json.dumps(dict3)\n",
        "print(json_dict3)"
      ],
      "metadata": {
        "colab": {
          "base_uri": "https://localhost:8080/"
        },
        "id": "SkXcRE1fCWQM",
        "outputId": "a4dc4b49-0a8a-4239-d1fd-2d33bc17ea44"
      },
      "execution_count": 77,
      "outputs": [
        {
          "output_type": "stream",
          "name": "stdout",
          "text": [
            "{\"0\": 23, \"1\": 28, \"2\": 19, \"3\": 20, \"4\": 22, \"5\": 10, \"6\": 26, \"7\": 17, \"8\": 13, \"9\": 24}\n"
          ]
        }
      ]
    },
    {
      "cell_type": "code",
      "source": [
        "open('json_dict3', 'x')\n",
        "print('json_dict')"
      ],
      "metadata": {
        "colab": {
          "base_uri": "https://localhost:8080/"
        },
        "id": "cZ3N9tMy96ym",
        "outputId": "5a7af2e2-f3ff-4f20-9780-ff8c78408c2c"
      },
      "execution_count": 78,
      "outputs": [
        {
          "output_type": "stream",
          "name": "stdout",
          "text": [
            "json_dict\n"
          ]
        }
      ]
    },
    {
      "cell_type": "markdown",
      "source": [
        "AMAZON ORDERS"
      ],
      "metadata": {
        "id": "J_InSVb8EiKA"
      }
    },
    {
      "cell_type": "code",
      "source": [
        "import pandas as pd\n",
        "df5 = pd.read_csv('amazon-orders-done.csv')\n",
        "df5.replace('/', '-')\n",
        "print(df5.to_string())"
      ],
      "metadata": {
        "colab": {
          "base_uri": "https://localhost:8080/"
        },
        "id": "mEfmLeYywiQh",
        "outputId": "6b22dfc7-58ff-4718-aa9b-63387e2402e6"
      },
      "execution_count": 79,
      "outputs": [
        {
          "output_type": "stream",
          "name": "stdout",
          "text": [
            "   Order Date             Order ID Payment Instrument Type     Website  Purchase Order Number Ordering Customer Email Shipment Date Shipping Address Name Shipping Address Street 1  Shipping Address Street 2 Shipping Address City Shipping Address State Shipping Address Zip Order Status Carrier Name & Tracking Number  Subtotal  Shipping Charge  Tax Before Promotions  Total Promotions  Tax Charged  Total Charged Buyer Name\n",
            "0    04/01/19  112-0000000-0000001             Visa - 0001  Amazon.com                    NaN    your_email@gmail.com      04/01/19             Your Name             1 YOUR STREET                        NaN               ANYTOWN                     ME           00001-0001      Shipped                     USPS(0001)     35.00             0.00                   1.93                 0         1.93          36.93  Your Name\n",
            "1    04/01/19  112-0000000-0000002             Visa - 0001  Amazon.com                    NaN    your_email@gmail.com      04/01/19             Your Name             1 YOUR STREET                        NaN               ANYTOWN                     ME           00001-0001      Shipped                     USPS(0001)     16.99             0.00                   0.00                 0         0.00          16.99  Your Name\n",
            "2    04/01/19  112-0000000-0000003             Visa - 0001  Amazon.com                    NaN    your_email@gmail.com      04/01/19             Your Name             1 YOUR STREET                        NaN               ANYTOWN                     ME           00001-0001      Shipped                     USPS(0001)      9.99             0.00                   0.00                 0         0.00           9.99  Your Name\n",
            "3    04/04/19  112-0000000-0000004             Visa - 0001  Amazon.com                    NaN    your_email@gmail.com      04/05/19             Your Name             1 YOUR STREET                        NaN               ANYTOWN                     ME           00001-0001      Shipped                      UPS(0002)    147.98             0.00                   8.14                 0         8.14         156.12  Your Name\n",
            "4    04/05/19  112-0000000-0000005             Visa - 0001  Amazon.com                    NaN    your_email@gmail.com      04/07/19             Your Name             1 YOUR STREET                        NaN               ANYTOWN                     ME           00001-0001      Shipped                     USPS(0001)     14.99             0.00                   0.00                 0         0.00          14.99  Your Name\n",
            "5    04/05/19  112-0000000-0000006             Visa - 0001  Amazon.com                    NaN    your_email@gmail.com      04/08/19             Your Name             1 YOUR STREET                        NaN               ANYTOWN                     ME           00001-0001      Shipped                     USPS(0001)     11.99             0.00                   0.66                 0         0.66          12.65  Your Name\n",
            "6    04/07/19  112-0000000-0000007             Visa - 0001  Amazon.com                    NaN    your_email@gmail.com      04/08/19             Your Name             1 YOUR STREET                        NaN               ANYTOWN                     ME           00001-0001      Shipped                     USPS(0001)     38.98             0.00                   1.65                 0         1.65          40.63  Your Name\n",
            "7    04/08/19  112-0000000-0000008             Visa - 0001  Amazon.com                    NaN    your_email@gmail.com      04/08/19             Your Name             1 YOUR STREET                        NaN               ANYTOWN                     ME           00001-0001      Shipped                      UPS(0002)     44.99             0.00                   0.00                 0         0.00          44.99  Your Name\n",
            "8    04/20/19  112-0000000-0000009             Visa - 0001  Amazon.com                    NaN    your_email@gmail.com      04/21/19             Your Name             1 YOUR STREET                        NaN               ANYTOWN                     ME           00001-0001      Shipped                     USPS(0001)     27.30             0.00                   1.50                 0         1.50          28.80  Your Name\n",
            "9    04/23/19  112-0000000-0000010             Visa - 0001  Amazon.com                    NaN    your_email@gmail.com      04/24/19             Your Name             1 YOUR STREET                        NaN               ANYTOWN                     ME           00001-0001      Shipped                      UPS(0002)     37.08             0.00                   0.00                 0         0.00          37.08  Your Name\n",
            "10   05/05/19  112-0000000-0000011             Visa - 0001  Amazon.com                    NaN    your_email@gmail.com      05/07/19             Your Name             1 YOUR STREET                        NaN               ANYTOWN                     ME           00001-0001      Shipped               China Post(0003)     12.99             0.00                   0.00                 0         0.00          12.99  Your Name\n",
            "11   05/06/19  112-0000000-0000012             Visa - 0001  Amazon.com                    NaN    your_email@gmail.com      05/07/19             Your Name             1 YOUR STREET                        NaN               ANYTOWN                     ME           00001-0001      Shipped                     USPS(0001)      7.20             0.00                   0.40                 0         0.40           7.60  Your Name\n",
            "12   05/10/19  112-0000000-0000013             Visa - 0001  Amazon.com                    NaN    your_email@gmail.com      05/12/19             Your Name             1 YOUR STREET                        NaN               ANYTOWN                     ME           00001-0001      Shipped                     USPS(0001)     27.99             0.00                   0.00                 0         0.00          27.99  Your Name\n",
            "13   05/14/19  112-0000000-0000014             Visa - 0001  Amazon.com                    NaN    your_email@gmail.com      05/15/19             Your Name             1 YOUR STREET                        NaN               ANYTOWN                     ME           00001-0001      Shipped                     USPS(0001)     15.32             0.00                   0.84                 0         0.84          16.16  Your Name\n",
            "14   05/18/19  112-0000000-0000015             Visa - 0001  Amazon.com                    NaN    your_email@gmail.com      05/19/19             Your Name             1 YOUR STREET                        NaN               ANYTOWN                     ME           00001-0001      Shipped                     USPS(0001)      9.95             0.00                   0.55                 0         0.55          10.50  Your Name\n",
            "15   05/19/19  112-0000000-0000016             Visa - 0001  Amazon.com                    NaN    your_email@gmail.com      05/20/19             Your Name             1 YOUR STREET                        NaN               ANYTOWN                     ME           00001-0001      Shipped                     USPS(0001)     38.89             0.00                   0.00                 0         0.00          38.89  Your Name\n",
            "16   05/21/19  112-0000000-0000017             Visa - 0001  Amazon.com                    NaN    your_email@gmail.com      05/22/19             Your Name             1 YOUR STREET                        NaN               ANYTOWN                     ME           00001-0001      Shipped                     USPS(0001)      8.95             0.00                   0.49                 0         0.49           9.44  Your Name\n",
            "17   05/21/19  112-0000000-0000018             Visa - 0001  Amazon.com                    NaN    your_email@gmail.com      05/22/19             Your Name             1 YOUR STREET                        NaN               ANYTOWN                     ME           00001-0001      Shipped                     USPS(0001)     12.99             0.00                   0.00                 0         0.00          12.99  Your Name\n",
            "18   05/21/19  112-0000000-0000019             Visa - 5555  Amazon.com                    NaN    your_email@gmail.com      05/22/19             Your Name             1 YOUR STREET                        NaN               ANYTOWN                     ME           00001-0001      Shipped                     USPS(0001)      7.99             0.00                   0.00                 0         0.00           7.99  Your Name\n",
            "19   05/22/19  112-0000000-0000020             Visa - 5555  Amazon.com                    NaN    your_email@gmail.com      05/22/19             Your Name             1 YOUR STREET                        NaN               ANYTOWN                     ME           00001-0001      Shipped                     USPS(0001)     16.98             0.00                   0.93                 0         0.93          17.91  Your Name\n",
            "20   05/22/19  112-0000000-0000021             Visa - 5555  Amazon.com                    NaN    your_email@gmail.com      05/23/19             Your Name             1 YOUR STREET                        NaN               ANYTOWN                     ME           00001-0001      Shipped                     USPS(0001)     35.00             0.00                   1.92                 0         1.92          36.92  Your Name\n",
            "21   05/22/19  112-0000000-0000022             Visa - 5555  Amazon.com                    NaN    your_email@gmail.com      05/23/19             Your Name             1 YOUR STREET                        NaN               ANYTOWN                     ME           00001-0001      Shipped                     USPS(0001)      7.50             0.00                   0.41                 0         0.41           7.91  Your Name\n",
            "22   05/24/19  112-0000000-0000023             Visa - 0001  Amazon.com                    NaN    your_email@gmail.com      05/25/19             Your Name             1 YOUR STREET                        NaN               ANYTOWN                     ME           00001-0001      Shipped                     USPS(0001)      7.67             0.00                   0.00                 0         0.00           7.67  Your Name\n",
            "23   05/25/19  112-0000000-0000024             Visa - 0001  Amazon.com                    NaN    your_email@gmail.com      05/27/19             Your Name             1 YOUR STREET                        NaN               ANYTOWN                     ME           00001-0001      Shipped                     USPS(0001)      9.80             0.00                   0.00                 0         0.00           9.80  Your Name\n",
            "24   05/28/19  112-0000000-0000025             Visa - 0001  Amazon.com                    NaN    your_email@gmail.com      05/28/19             Your Name             1 YOUR STREET                        NaN               ANYTOWN                     ME           00001-0001      Shipped                     USPS(0001)     13.95             0.00                   0.00                 0         0.00          13.95  Your Name\n",
            "25   05/29/19  112-0000000-0000026             Visa - 0001  Amazon.com                    NaN    your_email@gmail.com      05/30/19             Your Name             1 YOUR STREET                        NaN               ANYTOWN                     ME           00001-0001      Shipped                     USPS(0001)      9.99             0.00                   0.00                 0         0.00           9.99  Your Name\n",
            "26   05/30/19  112-0000000-0000027             Visa - 0001  Amazon.com                    NaN    your_email@gmail.com      06/01/19             Your Name             1 YOUR STREET                        NaN               ANYTOWN                     ME           00001-0001      Shipped                      UPS(0002)     10.98             0.00                   0.60                 0         0.60          11.58  Your Name\n",
            "27   05/30/19  112-0000000-0000028             Visa - 0001  Amazon.com                    NaN    your_email@gmail.com      05/30/19             Your Name             1 YOUR STREET                        NaN               ANYTOWN                     ME           00001-0001      Shipped                     USPS(0001)     32.98             0.00                   0.82                 0         0.82          33.80  Your Name\n",
            "28   06/03/19  112-0000000-0000029             Visa - 0001  Amazon.com                    NaN    your_email@gmail.com      06/05/19             Your Name             1 YOUR STREET                        NaN               ANYTOWN                     ME           00001-0001      Shipped                     USPS(0001)     28.99             0.00                   0.00                 0         0.00          28.99  Your Name\n",
            "29   06/03/19  112-0000000-0000030             Visa - 0001  Amazon.com                    NaN    your_email@gmail.com      06/05/19             Your Name             1 YOUR STREET                        NaN               ANYTOWN                     ME           00001-0001      Shipped                      UPS(0002)     13.88             0.00                   0.00                 0         0.00          13.88  Your Name\n",
            "30   06/05/19  112-0000000-0000031             Visa - 0001  Amazon.com                    NaN    your_email@gmail.com      06/05/19             Your Name             1 YOUR STREET                        NaN               ANYTOWN                     ME           00001-0001      Shipped                     USPS(0001)     11.62             0.00                   0.64                 0         0.64          12.26  Your Name\n",
            "31   06/18/19  112-0000000-0000032             Visa - 0001  Amazon.com                    NaN    your_email@gmail.com      06/19/19             Your Name             1 YOUR STREET                        NaN               ANYTOWN                     ME           00001-0001      Shipped                     USPS(0001)     11.98             0.00                   0.66                 0         0.66          12.64  Your Name\n",
            "32   06/25/19  112-0000000-0000033             Visa - 0001  Amazon.com                    NaN    your_email@gmail.com      06/26/19             Your Name             1 YOUR STREET                        NaN               ANYTOWN                     ME           00001-0001      Shipped                      UPS(0002)     51.99             0.00                   0.00                 0         0.00          51.99  Your Name\n",
            "33   06/25/19  112-0000000-0000034             Visa - 0001  Amazon.com                    NaN    your_email@gmail.com      06/26/19             Your Name             1 YOUR STREET                        NaN               ANYTOWN                     ME           00001-0001      Shipped                     USPS(0001)     10.59             0.00                   0.00                 0         0.00          10.59  Your Name\n",
            "34   07/03/19  112-0000000-0000035             Visa - 0001  Amazon.com                    NaN    your_email@gmail.com      07/04/19             Your Name             1 YOUR STREET                        NaN               ANYTOWN                     ME           00001-0001      Shipped                     USPS(0001)      7.94             3.99                   0.00                 0         0.00          11.93  Your Name\n",
            "35   07/03/19  112-0000000-0000036             Visa - 0001  Amazon.com                    NaN    your_email@gmail.com      07/05/19             Your Name             1 YOUR STREET                        NaN               ANYTOWN                     ME           00001-0001      Shipped                     USPS(0001)      8.32             7.96                   0.00                 0         0.00          16.28  Your Name\n",
            "36   07/03/19  112-0000000-0000037             Visa - 0001  Amazon.com                    NaN    your_email@gmail.com      07/08/19             Your Name             1 YOUR STREET                        NaN               ANYTOWN                     ME           00001-0001      Shipped                     USPS(0001)     25.62             0.00                   0.85                 0         0.85          26.47  Your Name\n",
            "37   07/03/19  112-0000000-0000038             Visa - 0001  Amazon.com                    NaN    your_email@gmail.com      07/05/19             Your Name             1 YOUR STREET                        NaN               ANYTOWN                     ME           00001-0001      Shipped                     USPS(0001)      0.52             4.95                   0.00                 0         0.00           5.47  Your Name\n",
            "38   07/03/19  112-0000000-0000039             Visa - 0001  Amazon.com                    NaN    your_email@gmail.com      07/04/19             Your Name             1 YOUR STREET                        NaN               ANYTOWN                     ME           00001-0001      Shipped                     USPS(0001)      5.43             3.99                   0.00                 0         0.00           9.42  Your Name\n",
            "39   07/06/19  112-0000000-0000040             Visa - 5555  Amazon.com                    NaN    your_email@gmail.com      07/07/19             Your Name             1 YOUR STREET                        NaN               ANYTOWN                     ME           00001-0001      Shipped                     USPS(0001)     12.99             0.00                   0.00                 0         0.00          12.99  Your Name\n",
            "40   07/06/19  112-0000000-0000041             Visa - 5555  Amazon.com                    NaN    your_email@gmail.com      07/08/19             Your Name             1 YOUR STREET                        NaN               ANYTOWN                     ME           00001-0001      Shipped                     USPS(0001)    102.47             0.00                   4.95                 0         4.95         107.42  Your Name\n",
            "41   07/06/19  112-0000000-0000042             Visa - 5555  Amazon.com                    NaN    your_email@gmail.com      07/07/19             Your Name             1 YOUR STREET                        NaN               ANYTOWN                     ME           00001-0001      Shipped                      UPS(0002)     79.97             0.00                   0.00                10         0.00          69.97  Your Name\n",
            "42   07/06/19  112-0000000-0000043             Visa - 5555  Amazon.com                    NaN    your_email@gmail.com      07/08/19             Your Name             1 YOUR STREET                        NaN               ANYTOWN                     ME           00001-0001      Shipped                     USPS(0001)     49.99             0.00                   0.00                 4         0.00          45.99  Your Name\n",
            "43   07/06/19  112-0000000-0000044             Visa - 0001  Amazon.com                    NaN    your_email@gmail.com      07/07/19             Your Name             1 YOUR STREET                        NaN               ANYTOWN                     ME           00001-0001      Shipped                     USPS(0001)    199.99             0.00                  11.00                 0        11.00         210.99  Your Name\n",
            "44   07/07/19  112-0000000-0000045             Visa - 0001  Amazon.com                    NaN    your_email@gmail.com      07/08/19             Your Name             1 YOUR STREET                        NaN               ANYTOWN                     ME           00001-0001      Shipped                      UPS(0002)     41.97             0.00                   0.00                 0         0.00          41.97  Your Name\n",
            "45   07/09/19  112-0000000-0000046             Visa - 0001  Amazon.com                    NaN    your_email@gmail.com      07/09/19             Your Name             1 YOUR STREET                        NaN               ANYTOWN                     ME           00001-0001      Shipped                     USPS(0001)     15.60             0.00                   0.86                 0         0.86          16.46  Your Name\n",
            "46   07/17/19  112-0000000-0000047             Visa - 0001  Amazon.com                    NaN    your_email@gmail.com      07/18/19             Your Name             1 YOUR STREET                        NaN               ANYTOWN                     ME           00001-0001      Shipped                     USPS(0001)     36.49             0.00                   2.01                 0         2.01          38.50  Your Name\n",
            "47   07/18/19  112-0000000-0000048             Visa - 0001  Amazon.com                    NaN    your_email@gmail.com      07/19/19             Your Name             1 YOUR STREET                        NaN               ANYTOWN                     ME           00001-0001      Shipped                      UPS(0002)     15.95             0.00                   0.00                 0         0.00          15.95  Your Name\n",
            "48   07/18/19  112-0000000-0000049             Visa - 0001  Amazon.com                    NaN    your_email@gmail.com      07/18/19             Your Name             1 YOUR STREET                        NaN               ANYTOWN                     ME           00001-0001      Shipped                     USPS(0001)     99.63             0.00                   3.34                 0         3.34         102.97  Your Name\n",
            "49   07/18/19  112-0000000-0000050             Visa - 0001  Amazon.com                    NaN    your_email@gmail.com      07/18/19             Your Name             1 YOUR STREET                        NaN               ANYTOWN                     ME           00001-0001      Shipped                     USPS(0001)     12.78             0.00                   0.70                 0         0.70          13.48  Your Name\n",
            "50   07/18/19  112-0000000-0000051             Visa - 0001  Amazon.com                    NaN    your_email@gmail.com      07/18/19             Your Name             1 YOUR STREET                        NaN               ANYTOWN                     ME           00001-0001      Shipped                     USPS(0001)     12.78             0.00                   0.70                 0         0.70          13.48  Your Name\n",
            "51   07/21/19  112-0000000-0000052             Visa - 0001  Amazon.com                    NaN    your_email@gmail.com      07/21/19             Your Name             1 YOUR STREET                        NaN               ANYTOWN                     ME           00001-0001      Shipped                     USPS(0001)      6.49             0.00                   0.36                 0         0.36           6.85  Your Name\n",
            "52   07/21/19  112-0000000-0000053             Visa - 0001  Amazon.com                    NaN    your_email@gmail.com      07/22/19             Your Name             1 YOUR STREET                        NaN               ANYTOWN                     ME           00001-0001      Shipped                     USPS(0001)      5.76             0.00                   0.00                 0         0.00           5.76  Your Name\n",
            "53   07/23/19  112-0000000-0000054             Visa - 0001  Amazon.com                    NaN    your_email@gmail.com      07/23/19             Your Name             1 YOUR STREET                        NaN               ANYTOWN                     ME           00001-0001      Shipped                      UPS(0002)     42.93             0.00                   2.36                 0         2.36          45.29  Your Name\n",
            "54   07/30/19  112-0000000-0000055             Visa - 0001  Amazon.com                    NaN    your_email@gmail.com      07/31/19             Your Name             1 YOUR STREET                        NaN               ANYTOWN                     ME           00001-0001      Shipped                     USPS(0001)     49.99             0.00                   0.00                15         0.00          34.99  Your Name\n",
            "55   07/30/19  112-0000000-0000056             Visa - 0001  Amazon.com                    NaN    your_email@gmail.com      08/01/19             Your Name             1 YOUR STREET                        NaN               ANYTOWN                     ME           00001-0001      Shipped                     USPS(0001)      6.30             0.00                   0.00                 0         0.00           6.30  Your Name\n",
            "56   07/30/19  112-0000000-0000057             Visa - 0001  Amazon.com                    NaN    your_email@gmail.com      08/01/19             Your Name             1 YOUR STREET                        NaN               ANYTOWN                     ME           00001-0001      Shipped                     USPS(0001)      5.99             0.00                   0.05                 5         0.05           1.04  Your Name\n",
            "57   07/31/19  112-0000000-0000058             Visa - 0001  Amazon.com                    NaN    your_email@gmail.com      07/31/19             Your Name             1 YOUR STREET                        NaN               ANYTOWN                     ME           00001-0001      Shipped                      UPS(0002)     35.99             0.00                   0.00                 0         0.00          35.99  Your Name\n",
            "58   07/31/19  112-0000000-0000059             Visa - 0001  Amazon.com                    NaN    your_email@gmail.com      08/01/19           Your Friend    5 FRIEND STREET APT. 1                        NaN            WASHINGTON                     DC           20001-5497      Shipped                      UPS(0002)     54.88             0.00                   3.29                 0         3.29          58.17  Your Name\n"
          ]
        }
      ]
    },
    {
      "cell_type": "code",
      "source": [
        "df_april = df5.loc[0: 9]\n",
        "print(df_april.to_string())"
      ],
      "metadata": {
        "colab": {
          "base_uri": "https://localhost:8080/"
        },
        "id": "tud8warWC7JU",
        "outputId": "8181142b-7c91-42b7-eed3-4541a60963e3"
      },
      "execution_count": 80,
      "outputs": [
        {
          "output_type": "stream",
          "name": "stdout",
          "text": [
            "  Order Date             Order ID Payment Instrument Type     Website  Purchase Order Number Ordering Customer Email Shipment Date Shipping Address Name Shipping Address Street 1  Shipping Address Street 2 Shipping Address City Shipping Address State Shipping Address Zip Order Status Carrier Name & Tracking Number  Subtotal  Shipping Charge  Tax Before Promotions  Total Promotions  Tax Charged  Total Charged Buyer Name\n",
            "0   04/01/19  112-0000000-0000001             Visa - 0001  Amazon.com                    NaN    your_email@gmail.com      04/01/19             Your Name             1 YOUR STREET                        NaN               ANYTOWN                     ME           00001-0001      Shipped                     USPS(0001)     35.00              0.0                   1.93                 0         1.93          36.93  Your Name\n",
            "1   04/01/19  112-0000000-0000002             Visa - 0001  Amazon.com                    NaN    your_email@gmail.com      04/01/19             Your Name             1 YOUR STREET                        NaN               ANYTOWN                     ME           00001-0001      Shipped                     USPS(0001)     16.99              0.0                   0.00                 0         0.00          16.99  Your Name\n",
            "2   04/01/19  112-0000000-0000003             Visa - 0001  Amazon.com                    NaN    your_email@gmail.com      04/01/19             Your Name             1 YOUR STREET                        NaN               ANYTOWN                     ME           00001-0001      Shipped                     USPS(0001)      9.99              0.0                   0.00                 0         0.00           9.99  Your Name\n",
            "3   04/04/19  112-0000000-0000004             Visa - 0001  Amazon.com                    NaN    your_email@gmail.com      04/05/19             Your Name             1 YOUR STREET                        NaN               ANYTOWN                     ME           00001-0001      Shipped                      UPS(0002)    147.98              0.0                   8.14                 0         8.14         156.12  Your Name\n",
            "4   04/05/19  112-0000000-0000005             Visa - 0001  Amazon.com                    NaN    your_email@gmail.com      04/07/19             Your Name             1 YOUR STREET                        NaN               ANYTOWN                     ME           00001-0001      Shipped                     USPS(0001)     14.99              0.0                   0.00                 0         0.00          14.99  Your Name\n",
            "5   04/05/19  112-0000000-0000006             Visa - 0001  Amazon.com                    NaN    your_email@gmail.com      04/08/19             Your Name             1 YOUR STREET                        NaN               ANYTOWN                     ME           00001-0001      Shipped                     USPS(0001)     11.99              0.0                   0.66                 0         0.66          12.65  Your Name\n",
            "6   04/07/19  112-0000000-0000007             Visa - 0001  Amazon.com                    NaN    your_email@gmail.com      04/08/19             Your Name             1 YOUR STREET                        NaN               ANYTOWN                     ME           00001-0001      Shipped                     USPS(0001)     38.98              0.0                   1.65                 0         1.65          40.63  Your Name\n",
            "7   04/08/19  112-0000000-0000008             Visa - 0001  Amazon.com                    NaN    your_email@gmail.com      04/08/19             Your Name             1 YOUR STREET                        NaN               ANYTOWN                     ME           00001-0001      Shipped                      UPS(0002)     44.99              0.0                   0.00                 0         0.00          44.99  Your Name\n",
            "8   04/20/19  112-0000000-0000009             Visa - 0001  Amazon.com                    NaN    your_email@gmail.com      04/21/19             Your Name             1 YOUR STREET                        NaN               ANYTOWN                     ME           00001-0001      Shipped                     USPS(0001)     27.30              0.0                   1.50                 0         1.50          28.80  Your Name\n",
            "9   04/23/19  112-0000000-0000010             Visa - 0001  Amazon.com                    NaN    your_email@gmail.com      04/24/19             Your Name             1 YOUR STREET                        NaN               ANYTOWN                     ME           00001-0001      Shipped                      UPS(0002)     37.08              0.0                   0.00                 0         0.00          37.08  Your Name\n"
          ]
        }
      ]
    },
    {
      "cell_type": "code",
      "source": [
        "spent_in_april = df_april[\"Total Charged\"].mean()\n",
        "print(spent_in_april)"
      ],
      "metadata": {
        "colab": {
          "base_uri": "https://localhost:8080/"
        },
        "id": "HUNBS1EzDINB",
        "outputId": "d6b6a1ce-bb0f-4688-f15e-7b6f43980239"
      },
      "execution_count": 81,
      "outputs": [
        {
          "output_type": "stream",
          "name": "stdout",
          "text": [
            "39.917\n"
          ]
        }
      ]
    },
    {
      "cell_type": "code",
      "source": [
        "df_may = df5.loc[10:27]\n",
        "print(df_may.to_string())"
      ],
      "metadata": {
        "colab": {
          "base_uri": "https://localhost:8080/"
        },
        "id": "KR2Qbf75DVBT",
        "outputId": "49c2f227-c346-4a78-daa7-fe6feb011f00"
      },
      "execution_count": 82,
      "outputs": [
        {
          "output_type": "stream",
          "name": "stdout",
          "text": [
            "   Order Date             Order ID Payment Instrument Type     Website  Purchase Order Number Ordering Customer Email Shipment Date Shipping Address Name Shipping Address Street 1  Shipping Address Street 2 Shipping Address City Shipping Address State Shipping Address Zip Order Status Carrier Name & Tracking Number  Subtotal  Shipping Charge  Tax Before Promotions  Total Promotions  Tax Charged  Total Charged Buyer Name\n",
            "10   05/05/19  112-0000000-0000011             Visa - 0001  Amazon.com                    NaN    your_email@gmail.com      05/07/19             Your Name             1 YOUR STREET                        NaN               ANYTOWN                     ME           00001-0001      Shipped               China Post(0003)     12.99              0.0                   0.00                 0         0.00          12.99  Your Name\n",
            "11   05/06/19  112-0000000-0000012             Visa - 0001  Amazon.com                    NaN    your_email@gmail.com      05/07/19             Your Name             1 YOUR STREET                        NaN               ANYTOWN                     ME           00001-0001      Shipped                     USPS(0001)      7.20              0.0                   0.40                 0         0.40           7.60  Your Name\n",
            "12   05/10/19  112-0000000-0000013             Visa - 0001  Amazon.com                    NaN    your_email@gmail.com      05/12/19             Your Name             1 YOUR STREET                        NaN               ANYTOWN                     ME           00001-0001      Shipped                     USPS(0001)     27.99              0.0                   0.00                 0         0.00          27.99  Your Name\n",
            "13   05/14/19  112-0000000-0000014             Visa - 0001  Amazon.com                    NaN    your_email@gmail.com      05/15/19             Your Name             1 YOUR STREET                        NaN               ANYTOWN                     ME           00001-0001      Shipped                     USPS(0001)     15.32              0.0                   0.84                 0         0.84          16.16  Your Name\n",
            "14   05/18/19  112-0000000-0000015             Visa - 0001  Amazon.com                    NaN    your_email@gmail.com      05/19/19             Your Name             1 YOUR STREET                        NaN               ANYTOWN                     ME           00001-0001      Shipped                     USPS(0001)      9.95              0.0                   0.55                 0         0.55          10.50  Your Name\n",
            "15   05/19/19  112-0000000-0000016             Visa - 0001  Amazon.com                    NaN    your_email@gmail.com      05/20/19             Your Name             1 YOUR STREET                        NaN               ANYTOWN                     ME           00001-0001      Shipped                     USPS(0001)     38.89              0.0                   0.00                 0         0.00          38.89  Your Name\n",
            "16   05/21/19  112-0000000-0000017             Visa - 0001  Amazon.com                    NaN    your_email@gmail.com      05/22/19             Your Name             1 YOUR STREET                        NaN               ANYTOWN                     ME           00001-0001      Shipped                     USPS(0001)      8.95              0.0                   0.49                 0         0.49           9.44  Your Name\n",
            "17   05/21/19  112-0000000-0000018             Visa - 0001  Amazon.com                    NaN    your_email@gmail.com      05/22/19             Your Name             1 YOUR STREET                        NaN               ANYTOWN                     ME           00001-0001      Shipped                     USPS(0001)     12.99              0.0                   0.00                 0         0.00          12.99  Your Name\n",
            "18   05/21/19  112-0000000-0000019             Visa - 5555  Amazon.com                    NaN    your_email@gmail.com      05/22/19             Your Name             1 YOUR STREET                        NaN               ANYTOWN                     ME           00001-0001      Shipped                     USPS(0001)      7.99              0.0                   0.00                 0         0.00           7.99  Your Name\n",
            "19   05/22/19  112-0000000-0000020             Visa - 5555  Amazon.com                    NaN    your_email@gmail.com      05/22/19             Your Name             1 YOUR STREET                        NaN               ANYTOWN                     ME           00001-0001      Shipped                     USPS(0001)     16.98              0.0                   0.93                 0         0.93          17.91  Your Name\n",
            "20   05/22/19  112-0000000-0000021             Visa - 5555  Amazon.com                    NaN    your_email@gmail.com      05/23/19             Your Name             1 YOUR STREET                        NaN               ANYTOWN                     ME           00001-0001      Shipped                     USPS(0001)     35.00              0.0                   1.92                 0         1.92          36.92  Your Name\n",
            "21   05/22/19  112-0000000-0000022             Visa - 5555  Amazon.com                    NaN    your_email@gmail.com      05/23/19             Your Name             1 YOUR STREET                        NaN               ANYTOWN                     ME           00001-0001      Shipped                     USPS(0001)      7.50              0.0                   0.41                 0         0.41           7.91  Your Name\n",
            "22   05/24/19  112-0000000-0000023             Visa - 0001  Amazon.com                    NaN    your_email@gmail.com      05/25/19             Your Name             1 YOUR STREET                        NaN               ANYTOWN                     ME           00001-0001      Shipped                     USPS(0001)      7.67              0.0                   0.00                 0         0.00           7.67  Your Name\n",
            "23   05/25/19  112-0000000-0000024             Visa - 0001  Amazon.com                    NaN    your_email@gmail.com      05/27/19             Your Name             1 YOUR STREET                        NaN               ANYTOWN                     ME           00001-0001      Shipped                     USPS(0001)      9.80              0.0                   0.00                 0         0.00           9.80  Your Name\n",
            "24   05/28/19  112-0000000-0000025             Visa - 0001  Amazon.com                    NaN    your_email@gmail.com      05/28/19             Your Name             1 YOUR STREET                        NaN               ANYTOWN                     ME           00001-0001      Shipped                     USPS(0001)     13.95              0.0                   0.00                 0         0.00          13.95  Your Name\n",
            "25   05/29/19  112-0000000-0000026             Visa - 0001  Amazon.com                    NaN    your_email@gmail.com      05/30/19             Your Name             1 YOUR STREET                        NaN               ANYTOWN                     ME           00001-0001      Shipped                     USPS(0001)      9.99              0.0                   0.00                 0         0.00           9.99  Your Name\n",
            "26   05/30/19  112-0000000-0000027             Visa - 0001  Amazon.com                    NaN    your_email@gmail.com      06/01/19             Your Name             1 YOUR STREET                        NaN               ANYTOWN                     ME           00001-0001      Shipped                      UPS(0002)     10.98              0.0                   0.60                 0         0.60          11.58  Your Name\n",
            "27   05/30/19  112-0000000-0000028             Visa - 0001  Amazon.com                    NaN    your_email@gmail.com      05/30/19             Your Name             1 YOUR STREET                        NaN               ANYTOWN                     ME           00001-0001      Shipped                     USPS(0001)     32.98              0.0                   0.82                 0         0.82          33.80  Your Name\n"
          ]
        }
      ]
    },
    {
      "cell_type": "code",
      "source": [
        "spent_in_may = df_may[\"Total Charged\"].mean()\n",
        "print(spent_in_may)"
      ],
      "metadata": {
        "colab": {
          "base_uri": "https://localhost:8080/"
        },
        "id": "5434PSOsDXcQ",
        "outputId": "7c9c1d2a-a0bb-4f60-cf2f-7428fd8f6f4f"
      },
      "execution_count": 83,
      "outputs": [
        {
          "output_type": "stream",
          "name": "stdout",
          "text": [
            "16.337777777777777\n"
          ]
        }
      ]
    },
    {
      "cell_type": "code",
      "source": [
        "df_june = df5.loc[28:33]\n",
        "print(df_june.to_string())"
      ],
      "metadata": {
        "colab": {
          "base_uri": "https://localhost:8080/"
        },
        "id": "MWkFwsqfDlVa",
        "outputId": "1af2a48f-1c9d-4a41-a043-1bc7982dc855"
      },
      "execution_count": 84,
      "outputs": [
        {
          "output_type": "stream",
          "name": "stdout",
          "text": [
            "   Order Date             Order ID Payment Instrument Type     Website  Purchase Order Number Ordering Customer Email Shipment Date Shipping Address Name Shipping Address Street 1  Shipping Address Street 2 Shipping Address City Shipping Address State Shipping Address Zip Order Status Carrier Name & Tracking Number  Subtotal  Shipping Charge  Tax Before Promotions  Total Promotions  Tax Charged  Total Charged Buyer Name\n",
            "28   06/03/19  112-0000000-0000029             Visa - 0001  Amazon.com                    NaN    your_email@gmail.com      06/05/19             Your Name             1 YOUR STREET                        NaN               ANYTOWN                     ME           00001-0001      Shipped                     USPS(0001)     28.99              0.0                   0.00                 0         0.00          28.99  Your Name\n",
            "29   06/03/19  112-0000000-0000030             Visa - 0001  Amazon.com                    NaN    your_email@gmail.com      06/05/19             Your Name             1 YOUR STREET                        NaN               ANYTOWN                     ME           00001-0001      Shipped                      UPS(0002)     13.88              0.0                   0.00                 0         0.00          13.88  Your Name\n",
            "30   06/05/19  112-0000000-0000031             Visa - 0001  Amazon.com                    NaN    your_email@gmail.com      06/05/19             Your Name             1 YOUR STREET                        NaN               ANYTOWN                     ME           00001-0001      Shipped                     USPS(0001)     11.62              0.0                   0.64                 0         0.64          12.26  Your Name\n",
            "31   06/18/19  112-0000000-0000032             Visa - 0001  Amazon.com                    NaN    your_email@gmail.com      06/19/19             Your Name             1 YOUR STREET                        NaN               ANYTOWN                     ME           00001-0001      Shipped                     USPS(0001)     11.98              0.0                   0.66                 0         0.66          12.64  Your Name\n",
            "32   06/25/19  112-0000000-0000033             Visa - 0001  Amazon.com                    NaN    your_email@gmail.com      06/26/19             Your Name             1 YOUR STREET                        NaN               ANYTOWN                     ME           00001-0001      Shipped                      UPS(0002)     51.99              0.0                   0.00                 0         0.00          51.99  Your Name\n",
            "33   06/25/19  112-0000000-0000034             Visa - 0001  Amazon.com                    NaN    your_email@gmail.com      06/26/19             Your Name             1 YOUR STREET                        NaN               ANYTOWN                     ME           00001-0001      Shipped                     USPS(0001)     10.59              0.0                   0.00                 0         0.00          10.59  Your Name\n"
          ]
        }
      ]
    },
    {
      "cell_type": "code",
      "source": [
        "spent_in_june = df_june[\"Total Charged\"].mean()\n",
        "print(spent_in_june)"
      ],
      "metadata": {
        "colab": {
          "base_uri": "https://localhost:8080/"
        },
        "id": "A-GtdMFBDo9V",
        "outputId": "8bd41fad-93dc-4b87-fd16-38116fd48ee7"
      },
      "execution_count": 85,
      "outputs": [
        {
          "output_type": "stream",
          "name": "stdout",
          "text": [
            "21.724999999999998\n"
          ]
        }
      ]
    },
    {
      "cell_type": "code",
      "source": [
        "df_july = df5.loc[34:]\n",
        "print(df_july.to_string())"
      ],
      "metadata": {
        "colab": {
          "base_uri": "https://localhost:8080/"
        },
        "id": "iuA3m-0IDt96",
        "outputId": "e740ef9b-52a9-404f-a7e2-8fe5055ad6d2"
      },
      "execution_count": 86,
      "outputs": [
        {
          "output_type": "stream",
          "name": "stdout",
          "text": [
            "   Order Date             Order ID Payment Instrument Type     Website  Purchase Order Number Ordering Customer Email Shipment Date Shipping Address Name Shipping Address Street 1  Shipping Address Street 2 Shipping Address City Shipping Address State Shipping Address Zip Order Status Carrier Name & Tracking Number  Subtotal  Shipping Charge  Tax Before Promotions  Total Promotions  Tax Charged  Total Charged Buyer Name\n",
            "34   07/03/19  112-0000000-0000035             Visa - 0001  Amazon.com                    NaN    your_email@gmail.com      07/04/19             Your Name             1 YOUR STREET                        NaN               ANYTOWN                     ME           00001-0001      Shipped                     USPS(0001)      7.94             3.99                   0.00                 0         0.00          11.93  Your Name\n",
            "35   07/03/19  112-0000000-0000036             Visa - 0001  Amazon.com                    NaN    your_email@gmail.com      07/05/19             Your Name             1 YOUR STREET                        NaN               ANYTOWN                     ME           00001-0001      Shipped                     USPS(0001)      8.32             7.96                   0.00                 0         0.00          16.28  Your Name\n",
            "36   07/03/19  112-0000000-0000037             Visa - 0001  Amazon.com                    NaN    your_email@gmail.com      07/08/19             Your Name             1 YOUR STREET                        NaN               ANYTOWN                     ME           00001-0001      Shipped                     USPS(0001)     25.62             0.00                   0.85                 0         0.85          26.47  Your Name\n",
            "37   07/03/19  112-0000000-0000038             Visa - 0001  Amazon.com                    NaN    your_email@gmail.com      07/05/19             Your Name             1 YOUR STREET                        NaN               ANYTOWN                     ME           00001-0001      Shipped                     USPS(0001)      0.52             4.95                   0.00                 0         0.00           5.47  Your Name\n",
            "38   07/03/19  112-0000000-0000039             Visa - 0001  Amazon.com                    NaN    your_email@gmail.com      07/04/19             Your Name             1 YOUR STREET                        NaN               ANYTOWN                     ME           00001-0001      Shipped                     USPS(0001)      5.43             3.99                   0.00                 0         0.00           9.42  Your Name\n",
            "39   07/06/19  112-0000000-0000040             Visa - 5555  Amazon.com                    NaN    your_email@gmail.com      07/07/19             Your Name             1 YOUR STREET                        NaN               ANYTOWN                     ME           00001-0001      Shipped                     USPS(0001)     12.99             0.00                   0.00                 0         0.00          12.99  Your Name\n",
            "40   07/06/19  112-0000000-0000041             Visa - 5555  Amazon.com                    NaN    your_email@gmail.com      07/08/19             Your Name             1 YOUR STREET                        NaN               ANYTOWN                     ME           00001-0001      Shipped                     USPS(0001)    102.47             0.00                   4.95                 0         4.95         107.42  Your Name\n",
            "41   07/06/19  112-0000000-0000042             Visa - 5555  Amazon.com                    NaN    your_email@gmail.com      07/07/19             Your Name             1 YOUR STREET                        NaN               ANYTOWN                     ME           00001-0001      Shipped                      UPS(0002)     79.97             0.00                   0.00                10         0.00          69.97  Your Name\n",
            "42   07/06/19  112-0000000-0000043             Visa - 5555  Amazon.com                    NaN    your_email@gmail.com      07/08/19             Your Name             1 YOUR STREET                        NaN               ANYTOWN                     ME           00001-0001      Shipped                     USPS(0001)     49.99             0.00                   0.00                 4         0.00          45.99  Your Name\n",
            "43   07/06/19  112-0000000-0000044             Visa - 0001  Amazon.com                    NaN    your_email@gmail.com      07/07/19             Your Name             1 YOUR STREET                        NaN               ANYTOWN                     ME           00001-0001      Shipped                     USPS(0001)    199.99             0.00                  11.00                 0        11.00         210.99  Your Name\n",
            "44   07/07/19  112-0000000-0000045             Visa - 0001  Amazon.com                    NaN    your_email@gmail.com      07/08/19             Your Name             1 YOUR STREET                        NaN               ANYTOWN                     ME           00001-0001      Shipped                      UPS(0002)     41.97             0.00                   0.00                 0         0.00          41.97  Your Name\n",
            "45   07/09/19  112-0000000-0000046             Visa - 0001  Amazon.com                    NaN    your_email@gmail.com      07/09/19             Your Name             1 YOUR STREET                        NaN               ANYTOWN                     ME           00001-0001      Shipped                     USPS(0001)     15.60             0.00                   0.86                 0         0.86          16.46  Your Name\n",
            "46   07/17/19  112-0000000-0000047             Visa - 0001  Amazon.com                    NaN    your_email@gmail.com      07/18/19             Your Name             1 YOUR STREET                        NaN               ANYTOWN                     ME           00001-0001      Shipped                     USPS(0001)     36.49             0.00                   2.01                 0         2.01          38.50  Your Name\n",
            "47   07/18/19  112-0000000-0000048             Visa - 0001  Amazon.com                    NaN    your_email@gmail.com      07/19/19             Your Name             1 YOUR STREET                        NaN               ANYTOWN                     ME           00001-0001      Shipped                      UPS(0002)     15.95             0.00                   0.00                 0         0.00          15.95  Your Name\n",
            "48   07/18/19  112-0000000-0000049             Visa - 0001  Amazon.com                    NaN    your_email@gmail.com      07/18/19             Your Name             1 YOUR STREET                        NaN               ANYTOWN                     ME           00001-0001      Shipped                     USPS(0001)     99.63             0.00                   3.34                 0         3.34         102.97  Your Name\n",
            "49   07/18/19  112-0000000-0000050             Visa - 0001  Amazon.com                    NaN    your_email@gmail.com      07/18/19             Your Name             1 YOUR STREET                        NaN               ANYTOWN                     ME           00001-0001      Shipped                     USPS(0001)     12.78             0.00                   0.70                 0         0.70          13.48  Your Name\n",
            "50   07/18/19  112-0000000-0000051             Visa - 0001  Amazon.com                    NaN    your_email@gmail.com      07/18/19             Your Name             1 YOUR STREET                        NaN               ANYTOWN                     ME           00001-0001      Shipped                     USPS(0001)     12.78             0.00                   0.70                 0         0.70          13.48  Your Name\n",
            "51   07/21/19  112-0000000-0000052             Visa - 0001  Amazon.com                    NaN    your_email@gmail.com      07/21/19             Your Name             1 YOUR STREET                        NaN               ANYTOWN                     ME           00001-0001      Shipped                     USPS(0001)      6.49             0.00                   0.36                 0         0.36           6.85  Your Name\n",
            "52   07/21/19  112-0000000-0000053             Visa - 0001  Amazon.com                    NaN    your_email@gmail.com      07/22/19             Your Name             1 YOUR STREET                        NaN               ANYTOWN                     ME           00001-0001      Shipped                     USPS(0001)      5.76             0.00                   0.00                 0         0.00           5.76  Your Name\n",
            "53   07/23/19  112-0000000-0000054             Visa - 0001  Amazon.com                    NaN    your_email@gmail.com      07/23/19             Your Name             1 YOUR STREET                        NaN               ANYTOWN                     ME           00001-0001      Shipped                      UPS(0002)     42.93             0.00                   2.36                 0         2.36          45.29  Your Name\n",
            "54   07/30/19  112-0000000-0000055             Visa - 0001  Amazon.com                    NaN    your_email@gmail.com      07/31/19             Your Name             1 YOUR STREET                        NaN               ANYTOWN                     ME           00001-0001      Shipped                     USPS(0001)     49.99             0.00                   0.00                15         0.00          34.99  Your Name\n",
            "55   07/30/19  112-0000000-0000056             Visa - 0001  Amazon.com                    NaN    your_email@gmail.com      08/01/19             Your Name             1 YOUR STREET                        NaN               ANYTOWN                     ME           00001-0001      Shipped                     USPS(0001)      6.30             0.00                   0.00                 0         0.00           6.30  Your Name\n",
            "56   07/30/19  112-0000000-0000057             Visa - 0001  Amazon.com                    NaN    your_email@gmail.com      08/01/19             Your Name             1 YOUR STREET                        NaN               ANYTOWN                     ME           00001-0001      Shipped                     USPS(0001)      5.99             0.00                   0.05                 5         0.05           1.04  Your Name\n",
            "57   07/31/19  112-0000000-0000058             Visa - 0001  Amazon.com                    NaN    your_email@gmail.com      07/31/19             Your Name             1 YOUR STREET                        NaN               ANYTOWN                     ME           00001-0001      Shipped                      UPS(0002)     35.99             0.00                   0.00                 0         0.00          35.99  Your Name\n",
            "58   07/31/19  112-0000000-0000059             Visa - 0001  Amazon.com                    NaN    your_email@gmail.com      08/01/19           Your Friend    5 FRIEND STREET APT. 1                        NaN            WASHINGTON                     DC           20001-5497      Shipped                      UPS(0002)     54.88             0.00                   3.29                 0         3.29          58.17  Your Name\n"
          ]
        }
      ]
    },
    {
      "cell_type": "code",
      "source": [
        "spent_in_july = df_july[\"Total Charged\"].mean()\n",
        "print(spent_in_july)"
      ],
      "metadata": {
        "colab": {
          "base_uri": "https://localhost:8080/"
        },
        "id": "02VCVdWeDxOg",
        "outputId": "314db1a0-5a4c-4ca8-b01a-56c839bcbe92"
      },
      "execution_count": 87,
      "outputs": [
        {
          "output_type": "stream",
          "name": "stdout",
          "text": [
            "38.1652\n"
          ]
        }
      ]
    },
    {
      "cell_type": "code",
      "source": [
        "average_total_spent = df5[\"Total Charged\"].mean()\n",
        "print(average_total_spent)"
      ],
      "metadata": {
        "colab": {
          "base_uri": "https://localhost:8080/"
        },
        "id": "jTFPH8BdD-CC",
        "outputId": "68b3136d-eb6d-4323-b044-199061f2a3b8"
      },
      "execution_count": 88,
      "outputs": [
        {
          "output_type": "stream",
          "name": "stdout",
          "text": [
            "30.131016949152546\n"
          ]
        }
      ]
    },
    {
      "cell_type": "code",
      "source": [
        "median_total_spent = df5[\"Total Charged\"].median()\n",
        "print(median_total_spent)"
      ],
      "metadata": {
        "colab": {
          "base_uri": "https://localhost:8080/"
        },
        "id": "yBbbFMVkEKDk",
        "outputId": "b6461b3f-1d91-41a9-ed79-621d2a73cd9d"
      },
      "execution_count": 89,
      "outputs": [
        {
          "output_type": "stream",
          "name": "stdout",
          "text": [
            "15.95\n"
          ]
        }
      ]
    },
    {
      "cell_type": "code",
      "source": [
        "max_total_spent = df5[\"Total Charged\"].max()\n",
        "print(max_total_spent)"
      ],
      "metadata": {
        "colab": {
          "base_uri": "https://localhost:8080/"
        },
        "id": "PXNImmASEN_p",
        "outputId": "6a1ebcfd-8c90-452e-bebb-c3fa924ef552"
      },
      "execution_count": 90,
      "outputs": [
        {
          "output_type": "stream",
          "name": "stdout",
          "text": [
            "210.99\n"
          ]
        }
      ]
    },
    {
      "cell_type": "code",
      "source": [
        "min_total_spent = df5[\"Total Charged\"].min()\n",
        "print(min_total_spent)"
      ],
      "metadata": {
        "colab": {
          "base_uri": "https://localhost:8080/"
        },
        "id": "ssPcm8FMESyJ",
        "outputId": "6260f259-34e5-4fcd-8e5a-7177654df8ae"
      },
      "execution_count": 91,
      "outputs": [
        {
          "output_type": "stream",
          "name": "stdout",
          "text": [
            "1.04\n"
          ]
        }
      ]
    },
    {
      "cell_type": "code",
      "source": [
        "std_total_spent = df5[\"Total Charged\"].std()\n",
        "std_total_spent"
      ],
      "metadata": {
        "colab": {
          "base_uri": "https://localhost:8080/"
        },
        "id": "x6qHPmnHEUgD",
        "outputId": "4e260e55-172d-45b9-9ee5-2e77d848a79d"
      },
      "execution_count": 92,
      "outputs": [
        {
          "output_type": "execute_result",
          "data": {
            "text/plain": [
              "36.42273246651456"
            ]
          },
          "metadata": {},
          "execution_count": 92
        }
      ]
    },
    {
      "cell_type": "code",
      "source": [
        "comparison = df5.loc[:, \"Tax Charged\":\"Total Charged\"]\n",
        "comparison"
      ],
      "metadata": {
        "colab": {
          "base_uri": "https://localhost:8080/",
          "height": 1000
        },
        "id": "Czkqd4NBLBT6",
        "outputId": "e2bf44c4-e921-426a-9080-4d4db201d654"
      },
      "execution_count": 93,
      "outputs": [
        {
          "output_type": "execute_result",
          "data": {
            "text/plain": [
              "    Tax Charged  Total Charged\n",
              "0          1.93          36.93\n",
              "1          0.00          16.99\n",
              "2          0.00           9.99\n",
              "3          8.14         156.12\n",
              "4          0.00          14.99\n",
              "5          0.66          12.65\n",
              "6          1.65          40.63\n",
              "7          0.00          44.99\n",
              "8          1.50          28.80\n",
              "9          0.00          37.08\n",
              "10         0.00          12.99\n",
              "11         0.40           7.60\n",
              "12         0.00          27.99\n",
              "13         0.84          16.16\n",
              "14         0.55          10.50\n",
              "15         0.00          38.89\n",
              "16         0.49           9.44\n",
              "17         0.00          12.99\n",
              "18         0.00           7.99\n",
              "19         0.93          17.91\n",
              "20         1.92          36.92\n",
              "21         0.41           7.91\n",
              "22         0.00           7.67\n",
              "23         0.00           9.80\n",
              "24         0.00          13.95\n",
              "25         0.00           9.99\n",
              "26         0.60          11.58\n",
              "27         0.82          33.80\n",
              "28         0.00          28.99\n",
              "29         0.00          13.88\n",
              "30         0.64          12.26\n",
              "31         0.66          12.64\n",
              "32         0.00          51.99\n",
              "33         0.00          10.59\n",
              "34         0.00          11.93\n",
              "35         0.00          16.28\n",
              "36         0.85          26.47\n",
              "37         0.00           5.47\n",
              "38         0.00           9.42\n",
              "39         0.00          12.99\n",
              "40         4.95         107.42\n",
              "41         0.00          69.97\n",
              "42         0.00          45.99\n",
              "43        11.00         210.99\n",
              "44         0.00          41.97\n",
              "45         0.86          16.46\n",
              "46         2.01          38.50\n",
              "47         0.00          15.95\n",
              "48         3.34         102.97\n",
              "49         0.70          13.48\n",
              "50         0.70          13.48\n",
              "51         0.36           6.85\n",
              "52         0.00           5.76\n",
              "53         2.36          45.29\n",
              "54         0.00          34.99\n",
              "55         0.00           6.30\n",
              "56         0.05           1.04\n",
              "57         0.00          35.99\n",
              "58         3.29          58.17"
            ],
            "text/html": [
              "\n",
              "  <div id=\"df-82a05fb1-e54b-45df-83de-ac5544cdec87\">\n",
              "    <div class=\"colab-df-container\">\n",
              "      <div>\n",
              "<style scoped>\n",
              "    .dataframe tbody tr th:only-of-type {\n",
              "        vertical-align: middle;\n",
              "    }\n",
              "\n",
              "    .dataframe tbody tr th {\n",
              "        vertical-align: top;\n",
              "    }\n",
              "\n",
              "    .dataframe thead th {\n",
              "        text-align: right;\n",
              "    }\n",
              "</style>\n",
              "<table border=\"1\" class=\"dataframe\">\n",
              "  <thead>\n",
              "    <tr style=\"text-align: right;\">\n",
              "      <th></th>\n",
              "      <th>Tax Charged</th>\n",
              "      <th>Total Charged</th>\n",
              "    </tr>\n",
              "  </thead>\n",
              "  <tbody>\n",
              "    <tr>\n",
              "      <th>0</th>\n",
              "      <td>1.93</td>\n",
              "      <td>36.93</td>\n",
              "    </tr>\n",
              "    <tr>\n",
              "      <th>1</th>\n",
              "      <td>0.00</td>\n",
              "      <td>16.99</td>\n",
              "    </tr>\n",
              "    <tr>\n",
              "      <th>2</th>\n",
              "      <td>0.00</td>\n",
              "      <td>9.99</td>\n",
              "    </tr>\n",
              "    <tr>\n",
              "      <th>3</th>\n",
              "      <td>8.14</td>\n",
              "      <td>156.12</td>\n",
              "    </tr>\n",
              "    <tr>\n",
              "      <th>4</th>\n",
              "      <td>0.00</td>\n",
              "      <td>14.99</td>\n",
              "    </tr>\n",
              "    <tr>\n",
              "      <th>5</th>\n",
              "      <td>0.66</td>\n",
              "      <td>12.65</td>\n",
              "    </tr>\n",
              "    <tr>\n",
              "      <th>6</th>\n",
              "      <td>1.65</td>\n",
              "      <td>40.63</td>\n",
              "    </tr>\n",
              "    <tr>\n",
              "      <th>7</th>\n",
              "      <td>0.00</td>\n",
              "      <td>44.99</td>\n",
              "    </tr>\n",
              "    <tr>\n",
              "      <th>8</th>\n",
              "      <td>1.50</td>\n",
              "      <td>28.80</td>\n",
              "    </tr>\n",
              "    <tr>\n",
              "      <th>9</th>\n",
              "      <td>0.00</td>\n",
              "      <td>37.08</td>\n",
              "    </tr>\n",
              "    <tr>\n",
              "      <th>10</th>\n",
              "      <td>0.00</td>\n",
              "      <td>12.99</td>\n",
              "    </tr>\n",
              "    <tr>\n",
              "      <th>11</th>\n",
              "      <td>0.40</td>\n",
              "      <td>7.60</td>\n",
              "    </tr>\n",
              "    <tr>\n",
              "      <th>12</th>\n",
              "      <td>0.00</td>\n",
              "      <td>27.99</td>\n",
              "    </tr>\n",
              "    <tr>\n",
              "      <th>13</th>\n",
              "      <td>0.84</td>\n",
              "      <td>16.16</td>\n",
              "    </tr>\n",
              "    <tr>\n",
              "      <th>14</th>\n",
              "      <td>0.55</td>\n",
              "      <td>10.50</td>\n",
              "    </tr>\n",
              "    <tr>\n",
              "      <th>15</th>\n",
              "      <td>0.00</td>\n",
              "      <td>38.89</td>\n",
              "    </tr>\n",
              "    <tr>\n",
              "      <th>16</th>\n",
              "      <td>0.49</td>\n",
              "      <td>9.44</td>\n",
              "    </tr>\n",
              "    <tr>\n",
              "      <th>17</th>\n",
              "      <td>0.00</td>\n",
              "      <td>12.99</td>\n",
              "    </tr>\n",
              "    <tr>\n",
              "      <th>18</th>\n",
              "      <td>0.00</td>\n",
              "      <td>7.99</td>\n",
              "    </tr>\n",
              "    <tr>\n",
              "      <th>19</th>\n",
              "      <td>0.93</td>\n",
              "      <td>17.91</td>\n",
              "    </tr>\n",
              "    <tr>\n",
              "      <th>20</th>\n",
              "      <td>1.92</td>\n",
              "      <td>36.92</td>\n",
              "    </tr>\n",
              "    <tr>\n",
              "      <th>21</th>\n",
              "      <td>0.41</td>\n",
              "      <td>7.91</td>\n",
              "    </tr>\n",
              "    <tr>\n",
              "      <th>22</th>\n",
              "      <td>0.00</td>\n",
              "      <td>7.67</td>\n",
              "    </tr>\n",
              "    <tr>\n",
              "      <th>23</th>\n",
              "      <td>0.00</td>\n",
              "      <td>9.80</td>\n",
              "    </tr>\n",
              "    <tr>\n",
              "      <th>24</th>\n",
              "      <td>0.00</td>\n",
              "      <td>13.95</td>\n",
              "    </tr>\n",
              "    <tr>\n",
              "      <th>25</th>\n",
              "      <td>0.00</td>\n",
              "      <td>9.99</td>\n",
              "    </tr>\n",
              "    <tr>\n",
              "      <th>26</th>\n",
              "      <td>0.60</td>\n",
              "      <td>11.58</td>\n",
              "    </tr>\n",
              "    <tr>\n",
              "      <th>27</th>\n",
              "      <td>0.82</td>\n",
              "      <td>33.80</td>\n",
              "    </tr>\n",
              "    <tr>\n",
              "      <th>28</th>\n",
              "      <td>0.00</td>\n",
              "      <td>28.99</td>\n",
              "    </tr>\n",
              "    <tr>\n",
              "      <th>29</th>\n",
              "      <td>0.00</td>\n",
              "      <td>13.88</td>\n",
              "    </tr>\n",
              "    <tr>\n",
              "      <th>30</th>\n",
              "      <td>0.64</td>\n",
              "      <td>12.26</td>\n",
              "    </tr>\n",
              "    <tr>\n",
              "      <th>31</th>\n",
              "      <td>0.66</td>\n",
              "      <td>12.64</td>\n",
              "    </tr>\n",
              "    <tr>\n",
              "      <th>32</th>\n",
              "      <td>0.00</td>\n",
              "      <td>51.99</td>\n",
              "    </tr>\n",
              "    <tr>\n",
              "      <th>33</th>\n",
              "      <td>0.00</td>\n",
              "      <td>10.59</td>\n",
              "    </tr>\n",
              "    <tr>\n",
              "      <th>34</th>\n",
              "      <td>0.00</td>\n",
              "      <td>11.93</td>\n",
              "    </tr>\n",
              "    <tr>\n",
              "      <th>35</th>\n",
              "      <td>0.00</td>\n",
              "      <td>16.28</td>\n",
              "    </tr>\n",
              "    <tr>\n",
              "      <th>36</th>\n",
              "      <td>0.85</td>\n",
              "      <td>26.47</td>\n",
              "    </tr>\n",
              "    <tr>\n",
              "      <th>37</th>\n",
              "      <td>0.00</td>\n",
              "      <td>5.47</td>\n",
              "    </tr>\n",
              "    <tr>\n",
              "      <th>38</th>\n",
              "      <td>0.00</td>\n",
              "      <td>9.42</td>\n",
              "    </tr>\n",
              "    <tr>\n",
              "      <th>39</th>\n",
              "      <td>0.00</td>\n",
              "      <td>12.99</td>\n",
              "    </tr>\n",
              "    <tr>\n",
              "      <th>40</th>\n",
              "      <td>4.95</td>\n",
              "      <td>107.42</td>\n",
              "    </tr>\n",
              "    <tr>\n",
              "      <th>41</th>\n",
              "      <td>0.00</td>\n",
              "      <td>69.97</td>\n",
              "    </tr>\n",
              "    <tr>\n",
              "      <th>42</th>\n",
              "      <td>0.00</td>\n",
              "      <td>45.99</td>\n",
              "    </tr>\n",
              "    <tr>\n",
              "      <th>43</th>\n",
              "      <td>11.00</td>\n",
              "      <td>210.99</td>\n",
              "    </tr>\n",
              "    <tr>\n",
              "      <th>44</th>\n",
              "      <td>0.00</td>\n",
              "      <td>41.97</td>\n",
              "    </tr>\n",
              "    <tr>\n",
              "      <th>45</th>\n",
              "      <td>0.86</td>\n",
              "      <td>16.46</td>\n",
              "    </tr>\n",
              "    <tr>\n",
              "      <th>46</th>\n",
              "      <td>2.01</td>\n",
              "      <td>38.50</td>\n",
              "    </tr>\n",
              "    <tr>\n",
              "      <th>47</th>\n",
              "      <td>0.00</td>\n",
              "      <td>15.95</td>\n",
              "    </tr>\n",
              "    <tr>\n",
              "      <th>48</th>\n",
              "      <td>3.34</td>\n",
              "      <td>102.97</td>\n",
              "    </tr>\n",
              "    <tr>\n",
              "      <th>49</th>\n",
              "      <td>0.70</td>\n",
              "      <td>13.48</td>\n",
              "    </tr>\n",
              "    <tr>\n",
              "      <th>50</th>\n",
              "      <td>0.70</td>\n",
              "      <td>13.48</td>\n",
              "    </tr>\n",
              "    <tr>\n",
              "      <th>51</th>\n",
              "      <td>0.36</td>\n",
              "      <td>6.85</td>\n",
              "    </tr>\n",
              "    <tr>\n",
              "      <th>52</th>\n",
              "      <td>0.00</td>\n",
              "      <td>5.76</td>\n",
              "    </tr>\n",
              "    <tr>\n",
              "      <th>53</th>\n",
              "      <td>2.36</td>\n",
              "      <td>45.29</td>\n",
              "    </tr>\n",
              "    <tr>\n",
              "      <th>54</th>\n",
              "      <td>0.00</td>\n",
              "      <td>34.99</td>\n",
              "    </tr>\n",
              "    <tr>\n",
              "      <th>55</th>\n",
              "      <td>0.00</td>\n",
              "      <td>6.30</td>\n",
              "    </tr>\n",
              "    <tr>\n",
              "      <th>56</th>\n",
              "      <td>0.05</td>\n",
              "      <td>1.04</td>\n",
              "    </tr>\n",
              "    <tr>\n",
              "      <th>57</th>\n",
              "      <td>0.00</td>\n",
              "      <td>35.99</td>\n",
              "    </tr>\n",
              "    <tr>\n",
              "      <th>58</th>\n",
              "      <td>3.29</td>\n",
              "      <td>58.17</td>\n",
              "    </tr>\n",
              "  </tbody>\n",
              "</table>\n",
              "</div>\n",
              "      <button class=\"colab-df-convert\" onclick=\"convertToInteractive('df-82a05fb1-e54b-45df-83de-ac5544cdec87')\"\n",
              "              title=\"Convert this dataframe to an interactive table.\"\n",
              "              style=\"display:none;\">\n",
              "        \n",
              "  <svg xmlns=\"http://www.w3.org/2000/svg\" height=\"24px\"viewBox=\"0 0 24 24\"\n",
              "       width=\"24px\">\n",
              "    <path d=\"M0 0h24v24H0V0z\" fill=\"none\"/>\n",
              "    <path d=\"M18.56 5.44l.94 2.06.94-2.06 2.06-.94-2.06-.94-.94-2.06-.94 2.06-2.06.94zm-11 1L8.5 8.5l.94-2.06 2.06-.94-2.06-.94L8.5 2.5l-.94 2.06-2.06.94zm10 10l.94 2.06.94-2.06 2.06-.94-2.06-.94-.94-2.06-.94 2.06-2.06.94z\"/><path d=\"M17.41 7.96l-1.37-1.37c-.4-.4-.92-.59-1.43-.59-.52 0-1.04.2-1.43.59L10.3 9.45l-7.72 7.72c-.78.78-.78 2.05 0 2.83L4 21.41c.39.39.9.59 1.41.59.51 0 1.02-.2 1.41-.59l7.78-7.78 2.81-2.81c.8-.78.8-2.07 0-2.86zM5.41 20L4 18.59l7.72-7.72 1.47 1.35L5.41 20z\"/>\n",
              "  </svg>\n",
              "      </button>\n",
              "      \n",
              "  <style>\n",
              "    .colab-df-container {\n",
              "      display:flex;\n",
              "      flex-wrap:wrap;\n",
              "      gap: 12px;\n",
              "    }\n",
              "\n",
              "    .colab-df-convert {\n",
              "      background-color: #E8F0FE;\n",
              "      border: none;\n",
              "      border-radius: 50%;\n",
              "      cursor: pointer;\n",
              "      display: none;\n",
              "      fill: #1967D2;\n",
              "      height: 32px;\n",
              "      padding: 0 0 0 0;\n",
              "      width: 32px;\n",
              "    }\n",
              "\n",
              "    .colab-df-convert:hover {\n",
              "      background-color: #E2EBFA;\n",
              "      box-shadow: 0px 1px 2px rgba(60, 64, 67, 0.3), 0px 1px 3px 1px rgba(60, 64, 67, 0.15);\n",
              "      fill: #174EA6;\n",
              "    }\n",
              "\n",
              "    [theme=dark] .colab-df-convert {\n",
              "      background-color: #3B4455;\n",
              "      fill: #D2E3FC;\n",
              "    }\n",
              "\n",
              "    [theme=dark] .colab-df-convert:hover {\n",
              "      background-color: #434B5C;\n",
              "      box-shadow: 0px 1px 3px 1px rgba(0, 0, 0, 0.15);\n",
              "      filter: drop-shadow(0px 1px 2px rgba(0, 0, 0, 0.3));\n",
              "      fill: #FFFFFF;\n",
              "    }\n",
              "  </style>\n",
              "\n",
              "      <script>\n",
              "        const buttonEl =\n",
              "          document.querySelector('#df-82a05fb1-e54b-45df-83de-ac5544cdec87 button.colab-df-convert');\n",
              "        buttonEl.style.display =\n",
              "          google.colab.kernel.accessAllowed ? 'block' : 'none';\n",
              "\n",
              "        async function convertToInteractive(key) {\n",
              "          const element = document.querySelector('#df-82a05fb1-e54b-45df-83de-ac5544cdec87');\n",
              "          const dataTable =\n",
              "            await google.colab.kernel.invokeFunction('convertToInteractive',\n",
              "                                                     [key], {});\n",
              "          if (!dataTable) return;\n",
              "\n",
              "          const docLinkHtml = 'Like what you see? Visit the ' +\n",
              "            '<a target=\"_blank\" href=https://colab.research.google.com/notebooks/data_table.ipynb>data table notebook</a>'\n",
              "            + ' to learn more about interactive tables.';\n",
              "          element.innerHTML = '';\n",
              "          dataTable['output_type'] = 'display_data';\n",
              "          await google.colab.output.renderOutput(dataTable, element);\n",
              "          const docLink = document.createElement('div');\n",
              "          docLink.innerHTML = docLinkHtml;\n",
              "          element.appendChild(docLink);\n",
              "        }\n",
              "      </script>\n",
              "    </div>\n",
              "  </div>\n",
              "  "
            ]
          },
          "metadata": {},
          "execution_count": 93
        }
      ]
    },
    {
      "cell_type": "code",
      "source": [
        "df11 = comparison.cumsum()\n",
        "comparison.plot()\n",
        "\n",
        "plt.xlabel(\"Dates of Amazon Orders\")\n",
        "plt.ylabel(\"Cost Charged\")\n",
        "plt.title(\"Comparison Between Tax Charged and Total Charged\")\n",
        "plt.show()"
      ],
      "metadata": {
        "colab": {
          "base_uri": "https://localhost:8080/",
          "height": 295
        },
        "id": "kDlOs5YTCTRg",
        "outputId": "ecb25f0f-0cfd-403a-feac-1ed8261f2eb3"
      },
      "execution_count": 94,
      "outputs": [
        {
          "output_type": "display_data",
          "data": {
            "text/plain": [
              "<Figure size 432x288 with 1 Axes>"
            ],
            "image/png": "[encoded data removed]"
          },
          "metadata": {
            "needs_background": "light"
          }
        }
      ]
    },
    {
      "cell_type": "code",
      "source": [
        "april_total_spent = df5.loc[0:9, \"Total Charged\"]\n",
        "df8 = april_total_spent.cumsum()\n",
        "april_total_spent.plot()\n",
        "plt.xlabel(\"Days in April\")\n",
        "plt.ylabel(\"Total Charged\")\n",
        "plt.title(\"Total Charged for Each Day of April\")\n",
        "\n",
        "plt.show()"
      ],
      "metadata": {
        "colab": {
          "base_uri": "https://localhost:8080/",
          "height": 295
        },
        "id": "zqhp2lSrQCAa",
        "outputId": "8bfca869-cc7b-41b5-f60e-974e51c98c59"
      },
      "execution_count": 95,
      "outputs": [
        {
          "output_type": "display_data",
          "data": {
            "text/plain": [
              "<Figure size 432x288 with 1 Axes>"
            ],
            "image/png": "[encoded data removed]"
          },
          "metadata": {
            "needs_background": "light"
          }
        }
      ]
    },
    {
      "cell_type": "code",
      "source": [
        "may_total_spent = df5.loc[10:27, \"Total Charged\"]\n",
        "df9 = may_total_spent.cumsum()\n",
        "may_total_spent.plot()\n",
        "plt.xlabel(\"Days in May\")\n",
        "plt.ylabel(\"Total Charged\")\n",
        "plt.title(\"Total Charged for Each Day of May\")\n",
        "\n",
        "plt.show()"
      ],
      "metadata": {
        "colab": {
          "base_uri": "https://localhost:8080/",
          "height": 295
        },
        "id": "aQ-Ojaa8QZtC",
        "outputId": "9be1f7b6-c217-42fb-b803-8189ba85e135"
      },
      "execution_count": 96,
      "outputs": [
        {
          "output_type": "display_data",
          "data": {
            "text/plain": [
              "<Figure size 432x288 with 1 Axes>"
            ],
            "image/png": "[encoded data removed]"
          },
          "metadata": {
            "needs_background": "light"
          }
        }
      ]
    },
    {
      "cell_type": "code",
      "source": [
        "june_total_spent = df5.loc[28:33, \"Total Charged\"]\n",
        "df10 = june_total_spent.cumsum()\n",
        "june_total_spent.plot()\n",
        "plt.xlabel(\"Days in June\")\n",
        "plt.ylabel(\"Total Charged\")\n",
        "plt.title(\"Total Charged for Each Day of June\")\n",
        "\n",
        "plt.show()"
      ],
      "metadata": {
        "colab": {
          "base_uri": "https://localhost:8080/",
          "height": 295
        },
        "id": "fi-5DoWOQlyo",
        "outputId": "b4578e0c-f045-4153-8bcc-f1684a255a9d"
      },
      "execution_count": 97,
      "outputs": [
        {
          "output_type": "display_data",
          "data": {
            "text/plain": [
              "<Figure size 432x288 with 1 Axes>"
            ],
            "image/png": "[encoded data removed]"
          },
          "metadata": {
            "needs_background": "light"
          }
        }
      ]
    },
    {
      "cell_type": "code",
      "source": [
        "july_total_spent = df5.loc[34:, \"Total Charged\"]\n",
        "df7 = july_total_spent.cumsum()\n",
        "july_total_spent.plot()\n",
        "plt.xlabel(\"Days in July\")\n",
        "plt.ylabel(\"Total Charged\")\n",
        "plt.title(\"Total Charged for Each Day of July\")\n",
        "\n",
        "plt.show()"
      ],
      "metadata": {
        "colab": {
          "base_uri": "https://localhost:8080/",
          "height": 295
        },
        "id": "lpymh8ATMXf9",
        "outputId": "40734cb3-7aab-4f52-e78b-4f73db3b57f0"
      },
      "execution_count": 98,
      "outputs": [
        {
          "output_type": "display_data",
          "data": {
            "text/plain": [
              "<Figure size 432x288 with 1 Axes>"
            ],
            "image/png": "[encoded data removed]"
          },
          "metadata": {
            "needs_background": "light"
          }
        }
      ]
    },
    {
      "cell_type": "code",
      "source": [
        "import matplotlib.pyplot as plt\n",
        "import numpy as np\n",
        "\n",
        "df5[\"Total Charged\"].plot(kind = 'hist')\n",
        "plt.xlabel(\"Total Charged\")\n",
        "plt.title(\"Frequency of Total Charged\")\n",
        "plt.show()"
      ],
      "metadata": {
        "colab": {
          "base_uri": "https://localhost:8080/",
          "height": 295
        },
        "id": "Gqjcyow0m4Sb",
        "outputId": "4c3f4c06-3140-4fd9-a2ff-2ce75eda1cd1"
      },
      "execution_count": 99,
      "outputs": [
        {
          "output_type": "display_data",
          "data": {
            "text/plain": [
              "<Figure size 432x288 with 1 Axes>"
            ],
            "image/png": "[encoded data removed]"
          },
          "metadata": {
            "needs_background": "light"
          }
        }
      ]
    }
  ]
}