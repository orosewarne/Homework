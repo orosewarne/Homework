{
  "nbformat": 4,
  "nbformat_minor": 0,
  "metadata": {
    "colab": {
      "provenance": [],
      "authorship_tag": "ABX9TyPm3vUBwpHNrKMpPPacbeKt",
      "include_colab_link": true
    },
    "kernelspec": {
      "name": "python3",
      "display_name": "Python 3"
    },
    "language_info": {
      "name": "python"
    }
  },
  "cells": [
    {
      "cell_type": "markdown",
      "metadata": {
        "id": "view-in-github",
        "colab_type": "text"
      },
      "source": [
        "<a href=\"https://colab.research.google.com/github/orosewarne/Homework/blob/main/ComputingMidtermupdated.ipynb\" target=\"_parent\"><img src=\"https://colab.research.google.com/assets/colab-badge.svg\" alt=\"Open In Colab\"/></a>"
      ]
    },
    {
      "cell_type": "code",
      "source": [
        "f = open('numbers.txt','r')\n",
        "g = f.read()\n",
        "g"
      ],
      "metadata": {
        "colab": {
          "base_uri": "https://localhost:8080/",
          "height": 107
        },
        "id": "ogWdvPSjU-AG",
        "outputId": "a461703f-197e-4fd3-9eca-79d91a5ca82e"
      },
      "execution_count": null,
      "outputs": [
        {
          "output_type": "execute_result",
          "data": {
            "text/plain": [
              "'2,4,6,8,4,5,2,1,9,0,4,6,7,4,3,2,1,9,10,3,7,9,6,0,1,3,5,6,7,8,9,10,2,3,6,8,9,10,6,7,4,3\\n2,1,9,10,3,7,9,6,0,1,3,5,6,7,8,9,10,2,3,6,8,9,10,2,4,6,8,4,5,2,1,9,0,4,6,7,4,3,2,1,9,10,3,7,9,6\\n4,5,2,1,9,0,4,6,7,4,3,2,1,9,10,3,7,9,6,0,1,3,5,6,7,8,9,10,2,3,6,8,9,10,6,7,4,3,6,8,4,5,2\\n10,3,7,9,6,0,1,3,5,6,7,8,9,10,2,3,6,8,9,10,2,4,6,8,4,5,2,1,9,0,4,6,7,4\\n2,4,6,8,4,5,2,1,9,0,4,6,7,4,3,2,1,9,10,3,7,9,6'"
            ],
            "application/vnd.google.colaboratory.intrinsic+json": {
              "type": "string"
            }
          },
          "metadata": {},
          "execution_count": 26
        }
      ]
    },
    {
      "cell_type": "code",
      "source": [
        "f_list = g.replace('\\n', ',')\n",
        "f_list"
      ],
      "metadata": {
        "colab": {
          "base_uri": "https://localhost:8080/",
          "height": 107
        },
        "id": "MP56cQFuj171",
        "outputId": "b3a85f43-bc91-4523-c446-65c42770f711"
      },
      "execution_count": null,
      "outputs": [
        {
          "output_type": "execute_result",
          "data": {
            "text/plain": [
              "'2,4,6,8,4,5,2,1,9,0,4,6,7,4,3,2,1,9,10,3,7,9,6,0,1,3,5,6,7,8,9,10,2,3,6,8,9,10,6,7,4,3,2,1,9,10,3,7,9,6,0,1,3,5,6,7,8,9,10,2,3,6,8,9,10,2,4,6,8,4,5,2,1,9,0,4,6,7,4,3,2,1,9,10,3,7,9,6,4,5,2,1,9,0,4,6,7,4,3,2,1,9,10,3,7,9,6,0,1,3,5,6,7,8,9,10,2,3,6,8,9,10,6,7,4,3,6,8,4,5,2,10,3,7,9,6,0,1,3,5,6,7,8,9,10,2,3,6,8,9,10,2,4,6,8,4,5,2,1,9,0,4,6,7,4,2,4,6,8,4,5,2,1,9,0,4,6,7,4,3,2,1,9,10,3,7,9,6'"
            ],
            "application/vnd.google.colaboratory.intrinsic+json": {
              "type": "string"
            }
          },
          "metadata": {},
          "execution_count": 27
        }
      ]
    },
    {
      "cell_type": "code",
      "source": [
        "f_list1 = []\n",
        "f_list1.append(f_list)\n",
        "f_list1"
      ],
      "metadata": {
        "colab": {
          "base_uri": "https://localhost:8080/"
        },
        "id": "1uiQAUr-u0WY",
        "outputId": "65ff1225-3202-4112-e26e-f3ce1619d6f8"
      },
      "execution_count": null,
      "outputs": [
        {
          "output_type": "execute_result",
          "data": {
            "text/plain": [
              "['2,4,6,8,4,5,2,1,9,0,4,6,7,4,3,2,1,9,10,3,7,9,6,0,1,3,5,6,7,8,9,10,2,3,6,8,9,10,6,7,4,3,2,1,9,10,3,7,9,6,0,1,3,5,6,7,8,9,10,2,3,6,8,9,10,2,4,6,8,4,5,2,1,9,0,4,6,7,4,3,2,1,9,10,3,7,9,6,4,5,2,1,9,0,4,6,7,4,3,2,1,9,10,3,7,9,6,0,1,3,5,6,7,8,9,10,2,3,6,8,9,10,6,7,4,3,6,8,4,5,2,10,3,7,9,6,0,1,3,5,6,7,8,9,10,2,3,6,8,9,10,2,4,6,8,4,5,2,1,9,0,4,6,7,4,2,4,6,8,4,5,2,1,9,0,4,6,7,4,3,2,1,9,10,3,7,9,6']"
            ]
          },
          "metadata": {},
          "execution_count": 30
        }
      ]
    },
    {
      "cell_type": "code",
      "source": [
        "frequency = {}\n",
        "for item in f_list: \n",
        "  if item in frequency:\n",
        "    frequency[item] += 1 \n",
        "\n",
        "  else:\n",
        "    frequency[item] = 1 \n",
        "\n",
        "print(frequency)"
      ],
      "metadata": {
        "colab": {
          "base_uri": "https://localhost:8080/"
        },
        "id": "_uA2nrt6fx5O",
        "outputId": "af036b15-adae-4ae1-8f7d-f0a46f9e5b50"
      },
      "execution_count": null,
      "outputs": [
        {
          "output_type": "stream",
          "name": "stdout",
          "text": [
            "{'2': 19, ',': 187, '4': 22, '6': 26, '8': 13, '5': 10, '1': 28, '9': 24, '0': 23, '7': 17, '3': 20}\n"
          ]
        }
      ]
    },
    {
      "cell_type": "code",
      "source": [
        "import pandas as pd\n",
        "df = pd.Series(frequency)\n",
        "df"
      ],
      "metadata": {
        "colab": {
          "base_uri": "https://localhost:8080/"
        },
        "id": "kP-nLQSKm-sU",
        "outputId": "6d1a5d6b-de07-47b7-efd6-8fe94324aee7"
      },
      "execution_count": null,
      "outputs": [
        {
          "output_type": "execute_result",
          "data": {
            "text/plain": [
              "2     19\n",
              ",    187\n",
              "4     22\n",
              "6     26\n",
              "8     13\n",
              "5     10\n",
              "1     28\n",
              "9     24\n",
              "0     23\n",
              "7     17\n",
              "3     20\n",
              "dtype: int64"
            ]
          },
          "metadata": {},
          "execution_count": 39
        }
      ]
    },
    {
      "cell_type": "code",
      "source": [
        "df2 = df.drop(',')\n",
        "df2"
      ],
      "metadata": {
        "colab": {
          "base_uri": "https://localhost:8080/"
        },
        "id": "AmiHm3avnx9D",
        "outputId": "7400a6c6-e1ff-4762-8258-156a75dca393"
      },
      "execution_count": null,
      "outputs": [
        {
          "output_type": "execute_result",
          "data": {
            "text/plain": [
              "2    19\n",
              "4    22\n",
              "6    26\n",
              "8    13\n",
              "5    10\n",
              "1    28\n",
              "9    24\n",
              "0    23\n",
              "7    17\n",
              "3    20\n",
              "dtype: int64"
            ]
          },
          "metadata": {},
          "execution_count": 40
        }
      ]
    },
    {
      "cell_type": "code",
      "source": [
        "df3 = df2.sort_index(axis = 0, ascending = True)\n",
        "df3"
      ],
      "metadata": {
        "colab": {
          "base_uri": "https://localhost:8080/"
        },
        "id": "FxiKxVLBodik",
        "outputId": "8cc522e3-b903-4ee1-b970-41ae71d2dc07"
      },
      "execution_count": null,
      "outputs": [
        {
          "output_type": "execute_result",
          "data": {
            "text/plain": [
              "0    23\n",
              "1    28\n",
              "2    19\n",
              "3    20\n",
              "4    22\n",
              "5    10\n",
              "6    26\n",
              "7    17\n",
              "8    13\n",
              "9    24\n",
              "dtype: int64"
            ]
          },
          "metadata": {},
          "execution_count": 41
        }
      ]
    },
    {
      "cell_type": "code",
      "source": [
        "import matplotlib.pyplot as plt\n",
        "\n",
        "df3.plt(kind = 'hist')"
      ],
      "metadata": {
        "colab": {
          "base_uri": "https://localhost:8080/",
          "height": 349
        },
        "id": "cZ3N9tMy96ym",
        "outputId": "6759c897-eb52-417e-b9e8-905390bbd3f6"
      },
      "execution_count": null,
      "outputs": [
        {
          "output_type": "error",
          "ename": "AttributeError",
          "evalue": "ignored",
          "traceback": [
            "\u001b[0;31m---------------------------------------------------------------------------\u001b[0m",
            "\u001b[0;31mAttributeError\u001b[0m                            Traceback (most recent call last)",
            "\u001b[0;32m<ipython-input-53-ac575710805a>\u001b[0m in \u001b[0;36m<module>\u001b[0;34m\u001b[0m\n\u001b[1;32m      1\u001b[0m \u001b[0;32mimport\u001b[0m \u001b[0mmatplotlib\u001b[0m\u001b[0;34m.\u001b[0m\u001b[0mpyplot\u001b[0m \u001b[0;32mas\u001b[0m \u001b[0mplt\u001b[0m\u001b[0;34m\u001b[0m\u001b[0;34m\u001b[0m\u001b[0m\n\u001b[1;32m      2\u001b[0m \u001b[0;34m\u001b[0m\u001b[0m\n\u001b[0;32m----> 3\u001b[0;31m \u001b[0mdf3\u001b[0m\u001b[0;34m.\u001b[0m\u001b[0mplt\u001b[0m\u001b[0;34m(\u001b[0m\u001b[0mkind\u001b[0m \u001b[0;34m=\u001b[0m \u001b[0;34m'hist'\u001b[0m\u001b[0;34m)\u001b[0m\u001b[0;34m\u001b[0m\u001b[0;34m\u001b[0m\u001b[0m\n\u001b[0m",
            "\u001b[0;32m/usr/local/lib/python3.7/dist-packages/pandas/core/generic.py\u001b[0m in \u001b[0;36m__getattr__\u001b[0;34m(self, name)\u001b[0m\n\u001b[1;32m   5485\u001b[0m         ):\n\u001b[1;32m   5486\u001b[0m             \u001b[0;32mreturn\u001b[0m \u001b[0mself\u001b[0m\u001b[0;34m[\u001b[0m\u001b[0mname\u001b[0m\u001b[0;34m]\u001b[0m\u001b[0;34m\u001b[0m\u001b[0;34m\u001b[0m\u001b[0m\n\u001b[0;32m-> 5487\u001b[0;31m         \u001b[0;32mreturn\u001b[0m \u001b[0mobject\u001b[0m\u001b[0;34m.\u001b[0m\u001b[0m__getattribute__\u001b[0m\u001b[0;34m(\u001b[0m\u001b[0mself\u001b[0m\u001b[0;34m,\u001b[0m \u001b[0mname\u001b[0m\u001b[0;34m)\u001b[0m\u001b[0;34m\u001b[0m\u001b[0;34m\u001b[0m\u001b[0m\n\u001b[0m\u001b[1;32m   5488\u001b[0m \u001b[0;34m\u001b[0m\u001b[0m\n\u001b[1;32m   5489\u001b[0m     \u001b[0;32mdef\u001b[0m \u001b[0m__setattr__\u001b[0m\u001b[0;34m(\u001b[0m\u001b[0mself\u001b[0m\u001b[0;34m,\u001b[0m \u001b[0mname\u001b[0m\u001b[0;34m:\u001b[0m \u001b[0mstr\u001b[0m\u001b[0;34m,\u001b[0m \u001b[0mvalue\u001b[0m\u001b[0;34m)\u001b[0m \u001b[0;34m->\u001b[0m \u001b[0;32mNone\u001b[0m\u001b[0;34m:\u001b[0m\u001b[0;34m\u001b[0m\u001b[0;34m\u001b[0m\u001b[0m\n",
            "\u001b[0;31mAttributeError\u001b[0m: 'Series' object has no attribute 'plt'"
          ]
        }
      ]
    },
    {
      "cell_type": "markdown",
      "source": [
        "AMAZON ORDERS"
      ],
      "metadata": {
        "id": "J_InSVb8EiKA"
      }
    },
    {
      "cell_type": "code",
      "source": [
        "import pandas as pd\n",
        "df5 = pd.read_csv('amazon-orders-done.csv')\n",
        "print(df5.to_string())"
      ],
      "metadata": {
        "colab": {
          "base_uri": "https://localhost:8080/"
        },
        "id": "mEfmLeYywiQh",
        "outputId": "2cfaae83-d07a-4476-a8dc-7856525c6024"
      },
      "execution_count": null,
      "outputs": [
        {
          "output_type": "stream",
          "name": "stdout",
          "text": [
            "   Order Date             Order ID Payment Instrument Type     Website  Purchase Order Number Ordering Customer Email Shipment Date Shipping Address Name Shipping Address Street 1  Shipping Address Street 2 Shipping Address City Shipping Address State Shipping Address Zip Order Status Carrier Name & Tracking Number  Subtotal  Shipping Charge  Tax Before Promotions  Total Promotions  Tax Charged  Total Charged Buyer Name\n",
            "0    04/01/19  112-0000000-0000001             Visa - 0001  Amazon.com                    NaN    your_email@gmail.com      04/01/19             Your Name             1 YOUR STREET                        NaN               ANYTOWN                     ME           00001-0001      Shipped                     USPS(0001)     35.00             0.00                   1.93                 0         1.93          36.93  Your Name\n",
            "1    04/01/19  112-0000000-0000002             Visa - 0001  Amazon.com                    NaN    your_email@gmail.com      04/01/19             Your Name             1 YOUR STREET                        NaN               ANYTOWN                     ME           00001-0001      Shipped                     USPS(0001)     16.99             0.00                   0.00                 0         0.00          16.99  Your Name\n",
            "2    04/01/19  112-0000000-0000003             Visa - 0001  Amazon.com                    NaN    your_email@gmail.com      04/01/19             Your Name             1 YOUR STREET                        NaN               ANYTOWN                     ME           00001-0001      Shipped                     USPS(0001)      9.99             0.00                   0.00                 0         0.00           9.99  Your Name\n",
            "3    04/04/19  112-0000000-0000004             Visa - 0001  Amazon.com                    NaN    your_email@gmail.com      04/05/19             Your Name             1 YOUR STREET                        NaN               ANYTOWN                     ME           00001-0001      Shipped                      UPS(0002)    147.98             0.00                   8.14                 0         8.14         156.12  Your Name\n",
            "4    04/05/19  112-0000000-0000005             Visa - 0001  Amazon.com                    NaN    your_email@gmail.com      04/07/19             Your Name             1 YOUR STREET                        NaN               ANYTOWN                     ME           00001-0001      Shipped                     USPS(0001)     14.99             0.00                   0.00                 0         0.00          14.99  Your Name\n",
            "5    04/05/19  112-0000000-0000006             Visa - 0001  Amazon.com                    NaN    your_email@gmail.com      04/08/19             Your Name             1 YOUR STREET                        NaN               ANYTOWN                     ME           00001-0001      Shipped                     USPS(0001)     11.99             0.00                   0.66                 0         0.66          12.65  Your Name\n",
            "6    04/07/19  112-0000000-0000007             Visa - 0001  Amazon.com                    NaN    your_email@gmail.com      04/08/19             Your Name             1 YOUR STREET                        NaN               ANYTOWN                     ME           00001-0001      Shipped                     USPS(0001)     38.98             0.00                   1.65                 0         1.65          40.63  Your Name\n",
            "7    04/08/19  112-0000000-0000008             Visa - 0001  Amazon.com                    NaN    your_email@gmail.com      04/08/19             Your Name             1 YOUR STREET                        NaN               ANYTOWN                     ME           00001-0001      Shipped                      UPS(0002)     44.99             0.00                   0.00                 0         0.00          44.99  Your Name\n",
            "8    04/20/19  112-0000000-0000009             Visa - 0001  Amazon.com                    NaN    your_email@gmail.com      04/21/19             Your Name             1 YOUR STREET                        NaN               ANYTOWN                     ME           00001-0001      Shipped                     USPS(0001)     27.30             0.00                   1.50                 0         1.50          28.80  Your Name\n",
            "9    04/23/19  112-0000000-0000010             Visa - 0001  Amazon.com                    NaN    your_email@gmail.com      04/24/19             Your Name             1 YOUR STREET                        NaN               ANYTOWN                     ME           00001-0001      Shipped                      UPS(0002)     37.08             0.00                   0.00                 0         0.00          37.08  Your Name\n",
            "10   05/05/19  112-0000000-0000011             Visa - 0001  Amazon.com                    NaN    your_email@gmail.com      05/07/19             Your Name             1 YOUR STREET                        NaN               ANYTOWN                     ME           00001-0001      Shipped               China Post(0003)     12.99             0.00                   0.00                 0         0.00          12.99  Your Name\n",
            "11   05/06/19  112-0000000-0000012             Visa - 0001  Amazon.com                    NaN    your_email@gmail.com      05/07/19             Your Name             1 YOUR STREET                        NaN               ANYTOWN                     ME           00001-0001      Shipped                     USPS(0001)      7.20             0.00                   0.40                 0         0.40           7.60  Your Name\n",
            "12   05/10/19  112-0000000-0000013             Visa - 0001  Amazon.com                    NaN    your_email@gmail.com      05/12/19             Your Name             1 YOUR STREET                        NaN               ANYTOWN                     ME           00001-0001      Shipped                     USPS(0001)     27.99             0.00                   0.00                 0         0.00          27.99  Your Name\n",
            "13   05/14/19  112-0000000-0000014             Visa - 0001  Amazon.com                    NaN    your_email@gmail.com      05/15/19             Your Name             1 YOUR STREET                        NaN               ANYTOWN                     ME           00001-0001      Shipped                     USPS(0001)     15.32             0.00                   0.84                 0         0.84          16.16  Your Name\n",
            "14   05/18/19  112-0000000-0000015             Visa - 0001  Amazon.com                    NaN    your_email@gmail.com      05/19/19             Your Name             1 YOUR STREET                        NaN               ANYTOWN                     ME           00001-0001      Shipped                     USPS(0001)      9.95             0.00                   0.55                 0         0.55          10.50  Your Name\n",
            "15   05/19/19  112-0000000-0000016             Visa - 0001  Amazon.com                    NaN    your_email@gmail.com      05/20/19             Your Name             1 YOUR STREET                        NaN               ANYTOWN                     ME           00001-0001      Shipped                     USPS(0001)     38.89             0.00                   0.00                 0         0.00          38.89  Your Name\n",
            "16   05/21/19  112-0000000-0000017             Visa - 0001  Amazon.com                    NaN    your_email@gmail.com      05/22/19             Your Name             1 YOUR STREET                        NaN               ANYTOWN                     ME           00001-0001      Shipped                     USPS(0001)      8.95             0.00                   0.49                 0         0.49           9.44  Your Name\n",
            "17   05/21/19  112-0000000-0000018             Visa - 0001  Amazon.com                    NaN    your_email@gmail.com      05/22/19             Your Name             1 YOUR STREET                        NaN               ANYTOWN                     ME           00001-0001      Shipped                     USPS(0001)     12.99             0.00                   0.00                 0         0.00          12.99  Your Name\n",
            "18   05/21/19  112-0000000-0000019             Visa - 5555  Amazon.com                    NaN    your_email@gmail.com      05/22/19             Your Name             1 YOUR STREET                        NaN               ANYTOWN                     ME           00001-0001      Shipped                     USPS(0001)      7.99             0.00                   0.00                 0         0.00           7.99  Your Name\n",
            "19   05/22/19  112-0000000-0000020             Visa - 5555  Amazon.com                    NaN    your_email@gmail.com      05/22/19             Your Name             1 YOUR STREET                        NaN               ANYTOWN                     ME           00001-0001      Shipped                     USPS(0001)     16.98             0.00                   0.93                 0         0.93          17.91  Your Name\n",
            "20   05/22/19  112-0000000-0000021             Visa - 5555  Amazon.com                    NaN    your_email@gmail.com      05/23/19             Your Name             1 YOUR STREET                        NaN               ANYTOWN                     ME           00001-0001      Shipped                     USPS(0001)     35.00             0.00                   1.92                 0         1.92          36.92  Your Name\n",
            "21   05/22/19  112-0000000-0000022             Visa - 5555  Amazon.com                    NaN    your_email@gmail.com      05/23/19             Your Name             1 YOUR STREET                        NaN               ANYTOWN                     ME           00001-0001      Shipped                     USPS(0001)      7.50             0.00                   0.41                 0         0.41           7.91  Your Name\n",
            "22   05/24/19  112-0000000-0000023             Visa - 0001  Amazon.com                    NaN    your_email@gmail.com      05/25/19             Your Name             1 YOUR STREET                        NaN               ANYTOWN                     ME           00001-0001      Shipped                     USPS(0001)      7.67             0.00                   0.00                 0         0.00           7.67  Your Name\n",
            "23   05/25/19  112-0000000-0000024             Visa - 0001  Amazon.com                    NaN    your_email@gmail.com      05/27/19             Your Name             1 YOUR STREET                        NaN               ANYTOWN                     ME           00001-0001      Shipped                     USPS(0001)      9.80             0.00                   0.00                 0         0.00           9.80  Your Name\n",
            "24   05/28/19  112-0000000-0000025             Visa - 0001  Amazon.com                    NaN    your_email@gmail.com      05/28/19             Your Name             1 YOUR STREET                        NaN               ANYTOWN                     ME           00001-0001      Shipped                     USPS(0001)     13.95             0.00                   0.00                 0         0.00          13.95  Your Name\n",
            "25   05/29/19  112-0000000-0000026             Visa - 0001  Amazon.com                    NaN    your_email@gmail.com      05/30/19             Your Name             1 YOUR STREET                        NaN               ANYTOWN                     ME           00001-0001      Shipped                     USPS(0001)      9.99             0.00                   0.00                 0         0.00           9.99  Your Name\n",
            "26   05/30/19  112-0000000-0000027             Visa - 0001  Amazon.com                    NaN    your_email@gmail.com      06/01/19             Your Name             1 YOUR STREET                        NaN               ANYTOWN                     ME           00001-0001      Shipped                      UPS(0002)     10.98             0.00                   0.60                 0         0.60          11.58  Your Name\n",
            "27   05/30/19  112-0000000-0000028             Visa - 0001  Amazon.com                    NaN    your_email@gmail.com      05/30/19             Your Name             1 YOUR STREET                        NaN               ANYTOWN                     ME           00001-0001      Shipped                     USPS(0001)     32.98             0.00                   0.82                 0         0.82          33.80  Your Name\n",
            "28   06/03/19  112-0000000-0000029             Visa - 0001  Amazon.com                    NaN    your_email@gmail.com      06/05/19             Your Name             1 YOUR STREET                        NaN               ANYTOWN                     ME           00001-0001      Shipped                     USPS(0001)     28.99             0.00                   0.00                 0         0.00          28.99  Your Name\n",
            "29   06/03/19  112-0000000-0000030             Visa - 0001  Amazon.com                    NaN    your_email@gmail.com      06/05/19             Your Name             1 YOUR STREET                        NaN               ANYTOWN                     ME           00001-0001      Shipped                      UPS(0002)     13.88             0.00                   0.00                 0         0.00          13.88  Your Name\n",
            "30   06/05/19  112-0000000-0000031             Visa - 0001  Amazon.com                    NaN    your_email@gmail.com      06/05/19             Your Name             1 YOUR STREET                        NaN               ANYTOWN                     ME           00001-0001      Shipped                     USPS(0001)     11.62             0.00                   0.64                 0         0.64          12.26  Your Name\n",
            "31   06/18/19  112-0000000-0000032             Visa - 0001  Amazon.com                    NaN    your_email@gmail.com      06/19/19             Your Name             1 YOUR STREET                        NaN               ANYTOWN                     ME           00001-0001      Shipped                     USPS(0001)     11.98             0.00                   0.66                 0         0.66          12.64  Your Name\n",
            "32   06/25/19  112-0000000-0000033             Visa - 0001  Amazon.com                    NaN    your_email@gmail.com      06/26/19             Your Name             1 YOUR STREET                        NaN               ANYTOWN                     ME           00001-0001      Shipped                      UPS(0002)     51.99             0.00                   0.00                 0         0.00          51.99  Your Name\n",
            "33   06/25/19  112-0000000-0000034             Visa - 0001  Amazon.com                    NaN    your_email@gmail.com      06/26/19             Your Name             1 YOUR STREET                        NaN               ANYTOWN                     ME           00001-0001      Shipped                     USPS(0001)     10.59             0.00                   0.00                 0         0.00          10.59  Your Name\n",
            "34   07/03/19  112-0000000-0000035             Visa - 0001  Amazon.com                    NaN    your_email@gmail.com      07/04/19             Your Name             1 YOUR STREET                        NaN               ANYTOWN                     ME           00001-0001      Shipped                     USPS(0001)      7.94             3.99                   0.00                 0         0.00          11.93  Your Name\n",
            "35   07/03/19  112-0000000-0000036             Visa - 0001  Amazon.com                    NaN    your_email@gmail.com      07/05/19             Your Name             1 YOUR STREET                        NaN               ANYTOWN                     ME           00001-0001      Shipped                     USPS(0001)      8.32             7.96                   0.00                 0         0.00          16.28  Your Name\n",
            "36   07/03/19  112-0000000-0000037             Visa - 0001  Amazon.com                    NaN    your_email@gmail.com      07/08/19             Your Name             1 YOUR STREET                        NaN               ANYTOWN                     ME           00001-0001      Shipped                     USPS(0001)     25.62             0.00                   0.85                 0         0.85          26.47  Your Name\n",
            "37   07/03/19  112-0000000-0000038             Visa - 0001  Amazon.com                    NaN    your_email@gmail.com      07/05/19             Your Name             1 YOUR STREET                        NaN               ANYTOWN                     ME           00001-0001      Shipped                     USPS(0001)      0.52             4.95                   0.00                 0         0.00           5.47  Your Name\n",
            "38   07/03/19  112-0000000-0000039             Visa - 0001  Amazon.com                    NaN    your_email@gmail.com      07/04/19             Your Name             1 YOUR STREET                        NaN               ANYTOWN                     ME           00001-0001      Shipped                     USPS(0001)      5.43             3.99                   0.00                 0         0.00           9.42  Your Name\n",
            "39   07/06/19  112-0000000-0000040             Visa - 5555  Amazon.com                    NaN    your_email@gmail.com      07/07/19             Your Name             1 YOUR STREET                        NaN               ANYTOWN                     ME           00001-0001      Shipped                     USPS(0001)     12.99             0.00                   0.00                 0         0.00          12.99  Your Name\n",
            "40   07/06/19  112-0000000-0000041             Visa - 5555  Amazon.com                    NaN    your_email@gmail.com      07/08/19             Your Name             1 YOUR STREET                        NaN               ANYTOWN                     ME           00001-0001      Shipped                     USPS(0001)    102.47             0.00                   4.95                 0         4.95         107.42  Your Name\n",
            "41   07/06/19  112-0000000-0000042             Visa - 5555  Amazon.com                    NaN    your_email@gmail.com      07/07/19             Your Name             1 YOUR STREET                        NaN               ANYTOWN                     ME           00001-0001      Shipped                      UPS(0002)     79.97             0.00                   0.00                10         0.00          69.97  Your Name\n",
            "42   07/06/19  112-0000000-0000043             Visa - 5555  Amazon.com                    NaN    your_email@gmail.com      07/08/19             Your Name             1 YOUR STREET                        NaN               ANYTOWN                     ME           00001-0001      Shipped                     USPS(0001)     49.99             0.00                   0.00                 4         0.00          45.99  Your Name\n",
            "43   07/06/19  112-0000000-0000044             Visa - 0001  Amazon.com                    NaN    your_email@gmail.com      07/07/19             Your Name             1 YOUR STREET                        NaN               ANYTOWN                     ME           00001-0001      Shipped                     USPS(0001)    199.99             0.00                  11.00                 0        11.00         210.99  Your Name\n",
            "44   07/07/19  112-0000000-0000045             Visa - 0001  Amazon.com                    NaN    your_email@gmail.com      07/08/19             Your Name             1 YOUR STREET                        NaN               ANYTOWN                     ME           00001-0001      Shipped                      UPS(0002)     41.97             0.00                   0.00                 0         0.00          41.97  Your Name\n",
            "45   07/09/19  112-0000000-0000046             Visa - 0001  Amazon.com                    NaN    your_email@gmail.com      07/09/19             Your Name             1 YOUR STREET                        NaN               ANYTOWN                     ME           00001-0001      Shipped                     USPS(0001)     15.60             0.00                   0.86                 0         0.86          16.46  Your Name\n",
            "46   07/17/19  112-0000000-0000047             Visa - 0001  Amazon.com                    NaN    your_email@gmail.com      07/18/19             Your Name             1 YOUR STREET                        NaN               ANYTOWN                     ME           00001-0001      Shipped                     USPS(0001)     36.49             0.00                   2.01                 0         2.01          38.50  Your Name\n",
            "47   07/18/19  112-0000000-0000048             Visa - 0001  Amazon.com                    NaN    your_email@gmail.com      07/19/19             Your Name             1 YOUR STREET                        NaN               ANYTOWN                     ME           00001-0001      Shipped                      UPS(0002)     15.95             0.00                   0.00                 0         0.00          15.95  Your Name\n",
            "48   07/18/19  112-0000000-0000049             Visa - 0001  Amazon.com                    NaN    your_email@gmail.com      07/18/19             Your Name             1 YOUR STREET                        NaN               ANYTOWN                     ME           00001-0001      Shipped                     USPS(0001)     99.63             0.00                   3.34                 0         3.34         102.97  Your Name\n",
            "49   07/18/19  112-0000000-0000050             Visa - 0001  Amazon.com                    NaN    your_email@gmail.com      07/18/19             Your Name             1 YOUR STREET                        NaN               ANYTOWN                     ME           00001-0001      Shipped                     USPS(0001)     12.78             0.00                   0.70                 0         0.70          13.48  Your Name\n",
            "50   07/18/19  112-0000000-0000051             Visa - 0001  Amazon.com                    NaN    your_email@gmail.com      07/18/19             Your Name             1 YOUR STREET                        NaN               ANYTOWN                     ME           00001-0001      Shipped                     USPS(0001)     12.78             0.00                   0.70                 0         0.70          13.48  Your Name\n",
            "51   07/21/19  112-0000000-0000052             Visa - 0001  Amazon.com                    NaN    your_email@gmail.com      07/21/19             Your Name             1 YOUR STREET                        NaN               ANYTOWN                     ME           00001-0001      Shipped                     USPS(0001)      6.49             0.00                   0.36                 0         0.36           6.85  Your Name\n",
            "52   07/21/19  112-0000000-0000053             Visa - 0001  Amazon.com                    NaN    your_email@gmail.com      07/22/19             Your Name             1 YOUR STREET                        NaN               ANYTOWN                     ME           00001-0001      Shipped                     USPS(0001)      5.76             0.00                   0.00                 0         0.00           5.76  Your Name\n",
            "53   07/23/19  112-0000000-0000054             Visa - 0001  Amazon.com                    NaN    your_email@gmail.com      07/23/19             Your Name             1 YOUR STREET                        NaN               ANYTOWN                     ME           00001-0001      Shipped                      UPS(0002)     42.93             0.00                   2.36                 0         2.36          45.29  Your Name\n",
            "54   07/30/19  112-0000000-0000055             Visa - 0001  Amazon.com                    NaN    your_email@gmail.com      07/31/19             Your Name             1 YOUR STREET                        NaN               ANYTOWN                     ME           00001-0001      Shipped                     USPS(0001)     49.99             0.00                   0.00                15         0.00          34.99  Your Name\n",
            "55   07/30/19  112-0000000-0000056             Visa - 0001  Amazon.com                    NaN    your_email@gmail.com      08/01/19             Your Name             1 YOUR STREET                        NaN               ANYTOWN                     ME           00001-0001      Shipped                     USPS(0001)      6.30             0.00                   0.00                 0         0.00           6.30  Your Name\n",
            "56   07/30/19  112-0000000-0000057             Visa - 0001  Amazon.com                    NaN    your_email@gmail.com      08/01/19             Your Name             1 YOUR STREET                        NaN               ANYTOWN                     ME           00001-0001      Shipped                     USPS(0001)      5.99             0.00                   0.05                 5         0.05           1.04  Your Name\n",
            "57   07/31/19  112-0000000-0000058             Visa - 0001  Amazon.com                    NaN    your_email@gmail.com      07/31/19             Your Name             1 YOUR STREET                        NaN               ANYTOWN                     ME           00001-0001      Shipped                      UPS(0002)     35.99             0.00                   0.00                 0         0.00          35.99  Your Name\n",
            "58   07/31/19  112-0000000-0000059             Visa - 0001  Amazon.com                    NaN    your_email@gmail.com      08/01/19           Your Friend    5 FRIEND STREET APT. 1                        NaN            WASHINGTON                     DC           20001-5497      Shipped                      UPS(0002)     54.88             0.00                   3.29                 0         3.29          58.17  Your Name\n"
          ]
        }
      ]
    },
    {
      "cell_type": "code",
      "source": [
        "df_april = df5.loc[0: 9]\n",
        "print(df_april.to_string())"
      ],
      "metadata": {
        "colab": {
          "base_uri": "https://localhost:8080/"
        },
        "id": "tud8warWC7JU",
        "outputId": "b5fd7046-b394-4506-f160-a60c7d18b84a"
      },
      "execution_count": null,
      "outputs": [
        {
          "output_type": "stream",
          "name": "stdout",
          "text": [
            "  Order Date             Order ID Payment Instrument Type     Website  Purchase Order Number Ordering Customer Email Shipment Date Shipping Address Name Shipping Address Street 1  Shipping Address Street 2 Shipping Address City Shipping Address State Shipping Address Zip Order Status Carrier Name & Tracking Number  Subtotal  Shipping Charge  Tax Before Promotions  Total Promotions  Tax Charged  Total Charged Buyer Name\n",
            "0   04/01/19  112-0000000-0000001             Visa - 0001  Amazon.com                    NaN    your_email@gmail.com      04/01/19             Your Name             1 YOUR STREET                        NaN               ANYTOWN                     ME           00001-0001      Shipped                     USPS(0001)     35.00              0.0                   1.93                 0         1.93          36.93  Your Name\n",
            "1   04/01/19  112-0000000-0000002             Visa - 0001  Amazon.com                    NaN    your_email@gmail.com      04/01/19             Your Name             1 YOUR STREET                        NaN               ANYTOWN                     ME           00001-0001      Shipped                     USPS(0001)     16.99              0.0                   0.00                 0         0.00          16.99  Your Name\n",
            "2   04/01/19  112-0000000-0000003             Visa - 0001  Amazon.com                    NaN    your_email@gmail.com      04/01/19             Your Name             1 YOUR STREET                        NaN               ANYTOWN                     ME           00001-0001      Shipped                     USPS(0001)      9.99              0.0                   0.00                 0         0.00           9.99  Your Name\n",
            "3   04/04/19  112-0000000-0000004             Visa - 0001  Amazon.com                    NaN    your_email@gmail.com      04/05/19             Your Name             1 YOUR STREET                        NaN               ANYTOWN                     ME           00001-0001      Shipped                      UPS(0002)    147.98              0.0                   8.14                 0         8.14         156.12  Your Name\n",
            "4   04/05/19  112-0000000-0000005             Visa - 0001  Amazon.com                    NaN    your_email@gmail.com      04/07/19             Your Name             1 YOUR STREET                        NaN               ANYTOWN                     ME           00001-0001      Shipped                     USPS(0001)     14.99              0.0                   0.00                 0         0.00          14.99  Your Name\n",
            "5   04/05/19  112-0000000-0000006             Visa - 0001  Amazon.com                    NaN    your_email@gmail.com      04/08/19             Your Name             1 YOUR STREET                        NaN               ANYTOWN                     ME           00001-0001      Shipped                     USPS(0001)     11.99              0.0                   0.66                 0         0.66          12.65  Your Name\n",
            "6   04/07/19  112-0000000-0000007             Visa - 0001  Amazon.com                    NaN    your_email@gmail.com      04/08/19             Your Name             1 YOUR STREET                        NaN               ANYTOWN                     ME           00001-0001      Shipped                     USPS(0001)     38.98              0.0                   1.65                 0         1.65          40.63  Your Name\n",
            "7   04/08/19  112-0000000-0000008             Visa - 0001  Amazon.com                    NaN    your_email@gmail.com      04/08/19             Your Name             1 YOUR STREET                        NaN               ANYTOWN                     ME           00001-0001      Shipped                      UPS(0002)     44.99              0.0                   0.00                 0         0.00          44.99  Your Name\n",
            "8   04/20/19  112-0000000-0000009             Visa - 0001  Amazon.com                    NaN    your_email@gmail.com      04/21/19             Your Name             1 YOUR STREET                        NaN               ANYTOWN                     ME           00001-0001      Shipped                     USPS(0001)     27.30              0.0                   1.50                 0         1.50          28.80  Your Name\n",
            "9   04/23/19  112-0000000-0000010             Visa - 0001  Amazon.com                    NaN    your_email@gmail.com      04/24/19             Your Name             1 YOUR STREET                        NaN               ANYTOWN                     ME           00001-0001      Shipped                      UPS(0002)     37.08              0.0                   0.00                 0         0.00          37.08  Your Name\n"
          ]
        }
      ]
    },
    {
      "cell_type": "code",
      "source": [
        "spent_in_april = df_april[\"Total Charged\"].mean()\n",
        "print(spent_in_april)"
      ],
      "metadata": {
        "colab": {
          "base_uri": "https://localhost:8080/"
        },
        "id": "HUNBS1EzDINB",
        "outputId": "bc5ea779-9b2f-4b3d-b88c-d4cbd58b6043"
      },
      "execution_count": null,
      "outputs": [
        {
          "output_type": "stream",
          "name": "stdout",
          "text": [
            "39.917\n"
          ]
        }
      ]
    },
    {
      "cell_type": "code",
      "source": [
        "df_may = df5.loc[10:27]\n",
        "print(df_may.to_string())"
      ],
      "metadata": {
        "colab": {
          "base_uri": "https://localhost:8080/"
        },
        "id": "KR2Qbf75DVBT",
        "outputId": "fae0f89e-f9f9-47dd-ff5f-1f43a2be3c86"
      },
      "execution_count": null,
      "outputs": [
        {
          "output_type": "stream",
          "name": "stdout",
          "text": [
            "   Order Date             Order ID Payment Instrument Type     Website  Purchase Order Number Ordering Customer Email Shipment Date Shipping Address Name Shipping Address Street 1  Shipping Address Street 2 Shipping Address City Shipping Address State Shipping Address Zip Order Status Carrier Name & Tracking Number  Subtotal  Shipping Charge  Tax Before Promotions  Total Promotions  Tax Charged  Total Charged Buyer Name\n",
            "10   05/05/19  112-0000000-0000011             Visa - 0001  Amazon.com                    NaN    your_email@gmail.com      05/07/19             Your Name             1 YOUR STREET                        NaN               ANYTOWN                     ME           00001-0001      Shipped               China Post(0003)     12.99              0.0                   0.00                 0         0.00          12.99  Your Name\n",
            "11   05/06/19  112-0000000-0000012             Visa - 0001  Amazon.com                    NaN    your_email@gmail.com      05/07/19             Your Name             1 YOUR STREET                        NaN               ANYTOWN                     ME           00001-0001      Shipped                     USPS(0001)      7.20              0.0                   0.40                 0         0.40           7.60  Your Name\n",
            "12   05/10/19  112-0000000-0000013             Visa - 0001  Amazon.com                    NaN    your_email@gmail.com      05/12/19             Your Name             1 YOUR STREET                        NaN               ANYTOWN                     ME           00001-0001      Shipped                     USPS(0001)     27.99              0.0                   0.00                 0         0.00          27.99  Your Name\n",
            "13   05/14/19  112-0000000-0000014             Visa - 0001  Amazon.com                    NaN    your_email@gmail.com      05/15/19             Your Name             1 YOUR STREET                        NaN               ANYTOWN                     ME           00001-0001      Shipped                     USPS(0001)     15.32              0.0                   0.84                 0         0.84          16.16  Your Name\n",
            "14   05/18/19  112-0000000-0000015             Visa - 0001  Amazon.com                    NaN    your_email@gmail.com      05/19/19             Your Name             1 YOUR STREET                        NaN               ANYTOWN                     ME           00001-0001      Shipped                     USPS(0001)      9.95              0.0                   0.55                 0         0.55          10.50  Your Name\n",
            "15   05/19/19  112-0000000-0000016             Visa - 0001  Amazon.com                    NaN    your_email@gmail.com      05/20/19             Your Name             1 YOUR STREET                        NaN               ANYTOWN                     ME           00001-0001      Shipped                     USPS(0001)     38.89              0.0                   0.00                 0         0.00          38.89  Your Name\n",
            "16   05/21/19  112-0000000-0000017             Visa - 0001  Amazon.com                    NaN    your_email@gmail.com      05/22/19             Your Name             1 YOUR STREET                        NaN               ANYTOWN                     ME           00001-0001      Shipped                     USPS(0001)      8.95              0.0                   0.49                 0         0.49           9.44  Your Name\n",
            "17   05/21/19  112-0000000-0000018             Visa - 0001  Amazon.com                    NaN    your_email@gmail.com      05/22/19             Your Name             1 YOUR STREET                        NaN               ANYTOWN                     ME           00001-0001      Shipped                     USPS(0001)     12.99              0.0                   0.00                 0         0.00          12.99  Your Name\n",
            "18   05/21/19  112-0000000-0000019             Visa - 5555  Amazon.com                    NaN    your_email@gmail.com      05/22/19             Your Name             1 YOUR STREET                        NaN               ANYTOWN                     ME           00001-0001      Shipped                     USPS(0001)      7.99              0.0                   0.00                 0         0.00           7.99  Your Name\n",
            "19   05/22/19  112-0000000-0000020             Visa - 5555  Amazon.com                    NaN    your_email@gmail.com      05/22/19             Your Name             1 YOUR STREET                        NaN               ANYTOWN                     ME           00001-0001      Shipped                     USPS(0001)     16.98              0.0                   0.93                 0         0.93          17.91  Your Name\n",
            "20   05/22/19  112-0000000-0000021             Visa - 5555  Amazon.com                    NaN    your_email@gmail.com      05/23/19             Your Name             1 YOUR STREET                        NaN               ANYTOWN                     ME           00001-0001      Shipped                     USPS(0001)     35.00              0.0                   1.92                 0         1.92          36.92  Your Name\n",
            "21   05/22/19  112-0000000-0000022             Visa - 5555  Amazon.com                    NaN    your_email@gmail.com      05/23/19             Your Name             1 YOUR STREET                        NaN               ANYTOWN                     ME           00001-0001      Shipped                     USPS(0001)      7.50              0.0                   0.41                 0         0.41           7.91  Your Name\n",
            "22   05/24/19  112-0000000-0000023             Visa - 0001  Amazon.com                    NaN    your_email@gmail.com      05/25/19             Your Name             1 YOUR STREET                        NaN               ANYTOWN                     ME           00001-0001      Shipped                     USPS(0001)      7.67              0.0                   0.00                 0         0.00           7.67  Your Name\n",
            "23   05/25/19  112-0000000-0000024             Visa - 0001  Amazon.com                    NaN    your_email@gmail.com      05/27/19             Your Name             1 YOUR STREET                        NaN               ANYTOWN                     ME           00001-0001      Shipped                     USPS(0001)      9.80              0.0                   0.00                 0         0.00           9.80  Your Name\n",
            "24   05/28/19  112-0000000-0000025             Visa - 0001  Amazon.com                    NaN    your_email@gmail.com      05/28/19             Your Name             1 YOUR STREET                        NaN               ANYTOWN                     ME           00001-0001      Shipped                     USPS(0001)     13.95              0.0                   0.00                 0         0.00          13.95  Your Name\n",
            "25   05/29/19  112-0000000-0000026             Visa - 0001  Amazon.com                    NaN    your_email@gmail.com      05/30/19             Your Name             1 YOUR STREET                        NaN               ANYTOWN                     ME           00001-0001      Shipped                     USPS(0001)      9.99              0.0                   0.00                 0         0.00           9.99  Your Name\n",
            "26   05/30/19  112-0000000-0000027             Visa - 0001  Amazon.com                    NaN    your_email@gmail.com      06/01/19             Your Name             1 YOUR STREET                        NaN               ANYTOWN                     ME           00001-0001      Shipped                      UPS(0002)     10.98              0.0                   0.60                 0         0.60          11.58  Your Name\n",
            "27   05/30/19  112-0000000-0000028             Visa - 0001  Amazon.com                    NaN    your_email@gmail.com      05/30/19             Your Name             1 YOUR STREET                        NaN               ANYTOWN                     ME           00001-0001      Shipped                     USPS(0001)     32.98              0.0                   0.82                 0         0.82          33.80  Your Name\n"
          ]
        }
      ]
    },
    {
      "cell_type": "code",
      "source": [
        "spent_in_may = df_may[\"Total Charged\"].mean()\n",
        "print(spent_in_may)"
      ],
      "metadata": {
        "colab": {
          "base_uri": "https://localhost:8080/"
        },
        "id": "5434PSOsDXcQ",
        "outputId": "1513b5d3-ad49-4ca4-93b5-685045f47066"
      },
      "execution_count": null,
      "outputs": [
        {
          "output_type": "stream",
          "name": "stdout",
          "text": [
            "16.337777777777777\n"
          ]
        }
      ]
    },
    {
      "cell_type": "code",
      "source": [
        "df_june = df5.loc[28:33]\n",
        "print(df_june.to_string())"
      ],
      "metadata": {
        "colab": {
          "base_uri": "https://localhost:8080/"
        },
        "id": "MWkFwsqfDlVa",
        "outputId": "19960ded-1627-4be0-cff3-70f250ab368d"
      },
      "execution_count": null,
      "outputs": [
        {
          "output_type": "stream",
          "name": "stdout",
          "text": [
            "   Order Date             Order ID Payment Instrument Type     Website  Purchase Order Number Ordering Customer Email Shipment Date Shipping Address Name Shipping Address Street 1  Shipping Address Street 2 Shipping Address City Shipping Address State Shipping Address Zip Order Status Carrier Name & Tracking Number  Subtotal  Shipping Charge  Tax Before Promotions  Total Promotions  Tax Charged  Total Charged Buyer Name\n",
            "28   06/03/19  112-0000000-0000029             Visa - 0001  Amazon.com                    NaN    your_email@gmail.com      06/05/19             Your Name             1 YOUR STREET                        NaN               ANYTOWN                     ME           00001-0001      Shipped                     USPS(0001)     28.99              0.0                   0.00                 0         0.00          28.99  Your Name\n",
            "29   06/03/19  112-0000000-0000030             Visa - 0001  Amazon.com                    NaN    your_email@gmail.com      06/05/19             Your Name             1 YOUR STREET                        NaN               ANYTOWN                     ME           00001-0001      Shipped                      UPS(0002)     13.88              0.0                   0.00                 0         0.00          13.88  Your Name\n",
            "30   06/05/19  112-0000000-0000031             Visa - 0001  Amazon.com                    NaN    your_email@gmail.com      06/05/19             Your Name             1 YOUR STREET                        NaN               ANYTOWN                     ME           00001-0001      Shipped                     USPS(0001)     11.62              0.0                   0.64                 0         0.64          12.26  Your Name\n",
            "31   06/18/19  112-0000000-0000032             Visa - 0001  Amazon.com                    NaN    your_email@gmail.com      06/19/19             Your Name             1 YOUR STREET                        NaN               ANYTOWN                     ME           00001-0001      Shipped                     USPS(0001)     11.98              0.0                   0.66                 0         0.66          12.64  Your Name\n",
            "32   06/25/19  112-0000000-0000033             Visa - 0001  Amazon.com                    NaN    your_email@gmail.com      06/26/19             Your Name             1 YOUR STREET                        NaN               ANYTOWN                     ME           00001-0001      Shipped                      UPS(0002)     51.99              0.0                   0.00                 0         0.00          51.99  Your Name\n",
            "33   06/25/19  112-0000000-0000034             Visa - 0001  Amazon.com                    NaN    your_email@gmail.com      06/26/19             Your Name             1 YOUR STREET                        NaN               ANYTOWN                     ME           00001-0001      Shipped                     USPS(0001)     10.59              0.0                   0.00                 0         0.00          10.59  Your Name\n"
          ]
        }
      ]
    },
    {
      "cell_type": "code",
      "source": [
        "spent_in_june = df_june[\"Total Charged\"].mean()\n",
        "print(spent_in_june)"
      ],
      "metadata": {
        "colab": {
          "base_uri": "https://localhost:8080/"
        },
        "id": "A-GtdMFBDo9V",
        "outputId": "69a9d868-5994-4c44-9544-b4b95f94632c"
      },
      "execution_count": null,
      "outputs": [
        {
          "output_type": "stream",
          "name": "stdout",
          "text": [
            "21.724999999999998\n"
          ]
        }
      ]
    },
    {
      "cell_type": "code",
      "source": [
        "df_july = df5.loc[34:]\n",
        "print(df_july.to_string())"
      ],
      "metadata": {
        "colab": {
          "base_uri": "https://localhost:8080/"
        },
        "id": "iuA3m-0IDt96",
        "outputId": "91def7ac-0358-470c-a02e-5ab334707ab2"
      },
      "execution_count": null,
      "outputs": [
        {
          "output_type": "stream",
          "name": "stdout",
          "text": [
            "   Order Date             Order ID Payment Instrument Type     Website  Purchase Order Number Ordering Customer Email Shipment Date Shipping Address Name Shipping Address Street 1  Shipping Address Street 2 Shipping Address City Shipping Address State Shipping Address Zip Order Status Carrier Name & Tracking Number  Subtotal  Shipping Charge  Tax Before Promotions  Total Promotions  Tax Charged  Total Charged Buyer Name\n",
            "34   07/03/19  112-0000000-0000035             Visa - 0001  Amazon.com                    NaN    your_email@gmail.com      07/04/19             Your Name             1 YOUR STREET                        NaN               ANYTOWN                     ME           00001-0001      Shipped                     USPS(0001)      7.94             3.99                   0.00                 0         0.00          11.93  Your Name\n",
            "35   07/03/19  112-0000000-0000036             Visa - 0001  Amazon.com                    NaN    your_email@gmail.com      07/05/19             Your Name             1 YOUR STREET                        NaN               ANYTOWN                     ME           00001-0001      Shipped                     USPS(0001)      8.32             7.96                   0.00                 0         0.00          16.28  Your Name\n",
            "36   07/03/19  112-0000000-0000037             Visa - 0001  Amazon.com                    NaN    your_email@gmail.com      07/08/19             Your Name             1 YOUR STREET                        NaN               ANYTOWN                     ME           00001-0001      Shipped                     USPS(0001)     25.62             0.00                   0.85                 0         0.85          26.47  Your Name\n",
            "37   07/03/19  112-0000000-0000038             Visa - 0001  Amazon.com                    NaN    your_email@gmail.com      07/05/19             Your Name             1 YOUR STREET                        NaN               ANYTOWN                     ME           00001-0001      Shipped                     USPS(0001)      0.52             4.95                   0.00                 0         0.00           5.47  Your Name\n",
            "38   07/03/19  112-0000000-0000039             Visa - 0001  Amazon.com                    NaN    your_email@gmail.com      07/04/19             Your Name             1 YOUR STREET                        NaN               ANYTOWN                     ME           00001-0001      Shipped                     USPS(0001)      5.43             3.99                   0.00                 0         0.00           9.42  Your Name\n",
            "39   07/06/19  112-0000000-0000040             Visa - 5555  Amazon.com                    NaN    your_email@gmail.com      07/07/19             Your Name             1 YOUR STREET                        NaN               ANYTOWN                     ME           00001-0001      Shipped                     USPS(0001)     12.99             0.00                   0.00                 0         0.00          12.99  Your Name\n",
            "40   07/06/19  112-0000000-0000041             Visa - 5555  Amazon.com                    NaN    your_email@gmail.com      07/08/19             Your Name             1 YOUR STREET                        NaN               ANYTOWN                     ME           00001-0001      Shipped                     USPS(0001)    102.47             0.00                   4.95                 0         4.95         107.42  Your Name\n",
            "41   07/06/19  112-0000000-0000042             Visa - 5555  Amazon.com                    NaN    your_email@gmail.com      07/07/19             Your Name             1 YOUR STREET                        NaN               ANYTOWN                     ME           00001-0001      Shipped                      UPS(0002)     79.97             0.00                   0.00                10         0.00          69.97  Your Name\n",
            "42   07/06/19  112-0000000-0000043             Visa - 5555  Amazon.com                    NaN    your_email@gmail.com      07/08/19             Your Name             1 YOUR STREET                        NaN               ANYTOWN                     ME           00001-0001      Shipped                     USPS(0001)     49.99             0.00                   0.00                 4         0.00          45.99  Your Name\n",
            "43   07/06/19  112-0000000-0000044             Visa - 0001  Amazon.com                    NaN    your_email@gmail.com      07/07/19             Your Name             1 YOUR STREET                        NaN               ANYTOWN                     ME           00001-0001      Shipped                     USPS(0001)    199.99             0.00                  11.00                 0        11.00         210.99  Your Name\n",
            "44   07/07/19  112-0000000-0000045             Visa - 0001  Amazon.com                    NaN    your_email@gmail.com      07/08/19             Your Name             1 YOUR STREET                        NaN               ANYTOWN                     ME           00001-0001      Shipped                      UPS(0002)     41.97             0.00                   0.00                 0         0.00          41.97  Your Name\n",
            "45   07/09/19  112-0000000-0000046             Visa - 0001  Amazon.com                    NaN    your_email@gmail.com      07/09/19             Your Name             1 YOUR STREET                        NaN               ANYTOWN                     ME           00001-0001      Shipped                     USPS(0001)     15.60             0.00                   0.86                 0         0.86          16.46  Your Name\n",
            "46   07/17/19  112-0000000-0000047             Visa - 0001  Amazon.com                    NaN    your_email@gmail.com      07/18/19             Your Name             1 YOUR STREET                        NaN               ANYTOWN                     ME           00001-0001      Shipped                     USPS(0001)     36.49             0.00                   2.01                 0         2.01          38.50  Your Name\n",
            "47   07/18/19  112-0000000-0000048             Visa - 0001  Amazon.com                    NaN    your_email@gmail.com      07/19/19             Your Name             1 YOUR STREET                        NaN               ANYTOWN                     ME           00001-0001      Shipped                      UPS(0002)     15.95             0.00                   0.00                 0         0.00          15.95  Your Name\n",
            "48   07/18/19  112-0000000-0000049             Visa - 0001  Amazon.com                    NaN    your_email@gmail.com      07/18/19             Your Name             1 YOUR STREET                        NaN               ANYTOWN                     ME           00001-0001      Shipped                     USPS(0001)     99.63             0.00                   3.34                 0         3.34         102.97  Your Name\n",
            "49   07/18/19  112-0000000-0000050             Visa - 0001  Amazon.com                    NaN    your_email@gmail.com      07/18/19             Your Name             1 YOUR STREET                        NaN               ANYTOWN                     ME           00001-0001      Shipped                     USPS(0001)     12.78             0.00                   0.70                 0         0.70          13.48  Your Name\n",
            "50   07/18/19  112-0000000-0000051             Visa - 0001  Amazon.com                    NaN    your_email@gmail.com      07/18/19             Your Name             1 YOUR STREET                        NaN               ANYTOWN                     ME           00001-0001      Shipped                     USPS(0001)     12.78             0.00                   0.70                 0         0.70          13.48  Your Name\n",
            "51   07/21/19  112-0000000-0000052             Visa - 0001  Amazon.com                    NaN    your_email@gmail.com      07/21/19             Your Name             1 YOUR STREET                        NaN               ANYTOWN                     ME           00001-0001      Shipped                     USPS(0001)      6.49             0.00                   0.36                 0         0.36           6.85  Your Name\n",
            "52   07/21/19  112-0000000-0000053             Visa - 0001  Amazon.com                    NaN    your_email@gmail.com      07/22/19             Your Name             1 YOUR STREET                        NaN               ANYTOWN                     ME           00001-0001      Shipped                     USPS(0001)      5.76             0.00                   0.00                 0         0.00           5.76  Your Name\n",
            "53   07/23/19  112-0000000-0000054             Visa - 0001  Amazon.com                    NaN    your_email@gmail.com      07/23/19             Your Name             1 YOUR STREET                        NaN               ANYTOWN                     ME           00001-0001      Shipped                      UPS(0002)     42.93             0.00                   2.36                 0         2.36          45.29  Your Name\n",
            "54   07/30/19  112-0000000-0000055             Visa - 0001  Amazon.com                    NaN    your_email@gmail.com      07/31/19             Your Name             1 YOUR STREET                        NaN               ANYTOWN                     ME           00001-0001      Shipped                     USPS(0001)     49.99             0.00                   0.00                15         0.00          34.99  Your Name\n",
            "55   07/30/19  112-0000000-0000056             Visa - 0001  Amazon.com                    NaN    your_email@gmail.com      08/01/19             Your Name             1 YOUR STREET                        NaN               ANYTOWN                     ME           00001-0001      Shipped                     USPS(0001)      6.30             0.00                   0.00                 0         0.00           6.30  Your Name\n",
            "56   07/30/19  112-0000000-0000057             Visa - 0001  Amazon.com                    NaN    your_email@gmail.com      08/01/19             Your Name             1 YOUR STREET                        NaN               ANYTOWN                     ME           00001-0001      Shipped                     USPS(0001)      5.99             0.00                   0.05                 5         0.05           1.04  Your Name\n",
            "57   07/31/19  112-0000000-0000058             Visa - 0001  Amazon.com                    NaN    your_email@gmail.com      07/31/19             Your Name             1 YOUR STREET                        NaN               ANYTOWN                     ME           00001-0001      Shipped                      UPS(0002)     35.99             0.00                   0.00                 0         0.00          35.99  Your Name\n",
            "58   07/31/19  112-0000000-0000059             Visa - 0001  Amazon.com                    NaN    your_email@gmail.com      08/01/19           Your Friend    5 FRIEND STREET APT. 1                        NaN            WASHINGTON                     DC           20001-5497      Shipped                      UPS(0002)     54.88             0.00                   3.29                 0         3.29          58.17  Your Name\n"
          ]
        }
      ]
    },
    {
      "cell_type": "code",
      "source": [
        "spent_in_july = df_july[\"Total Charged\"].mean()\n",
        "print(spent_in_july)"
      ],
      "metadata": {
        "colab": {
          "base_uri": "https://localhost:8080/"
        },
        "id": "02VCVdWeDxOg",
        "outputId": "77598c17-0abf-42e7-ce0d-a3a9d4a72f2e"
      },
      "execution_count": null,
      "outputs": [
        {
          "output_type": "stream",
          "name": "stdout",
          "text": [
            "21.724999999999998\n"
          ]
        }
      ]
    },
    {
      "cell_type": "code",
      "source": [
        "average_total_spent = df5[\"Total Charged\"].mean()\n",
        "print(average_total_spent)"
      ],
      "metadata": {
        "colab": {
          "base_uri": "https://localhost:8080/"
        },
        "id": "jTFPH8BdD-CC",
        "outputId": "a60eac57-3f81-4ec3-c521-e4309462f510"
      },
      "execution_count": null,
      "outputs": [
        {
          "output_type": "stream",
          "name": "stdout",
          "text": [
            "30.131016949152546\n"
          ]
        }
      ]
    },
    {
      "cell_type": "code",
      "source": [
        "median_total_spent = df5[\"Total Charged\"].median()\n",
        "print(median_total_spent)"
      ],
      "metadata": {
        "colab": {
          "base_uri": "https://localhost:8080/"
        },
        "id": "yBbbFMVkEKDk",
        "outputId": "e9351834-87cf-49d4-d0a5-a809ea45d6fa"
      },
      "execution_count": null,
      "outputs": [
        {
          "output_type": "stream",
          "name": "stdout",
          "text": [
            "15.95\n"
          ]
        }
      ]
    },
    {
      "cell_type": "code",
      "source": [
        "max_total_spent = df5[\"Total Charged\"].max()\n",
        "print(max_total_spent)"
      ],
      "metadata": {
        "colab": {
          "base_uri": "https://localhost:8080/"
        },
        "id": "PXNImmASEN_p",
        "outputId": "ea1c3522-a4c8-465a-da35-1c374324c50c"
      },
      "execution_count": null,
      "outputs": [
        {
          "output_type": "stream",
          "name": "stdout",
          "text": [
            "210.99\n"
          ]
        }
      ]
    },
    {
      "cell_type": "code",
      "source": [
        "min_total_spent = df5[\"Total Charged\"].min()\n",
        "print(min_total_spent)"
      ],
      "metadata": {
        "colab": {
          "base_uri": "https://localhost:8080/"
        },
        "id": "ssPcm8FMESyJ",
        "outputId": "8bf5e46e-a487-4648-d009-382c92aaf792"
      },
      "execution_count": null,
      "outputs": [
        {
          "output_type": "stream",
          "name": "stdout",
          "text": [
            "1.04\n"
          ]
        }
      ]
    },
    {
      "cell_type": "code",
      "source": [
        "std_total_spent = df5[\"Total Charged\"].std()\n",
        "print(sd_total_spent)"
      ],
      "metadata": {
        "colab": {
          "base_uri": "https://localhost:8080/",
          "height": 189
        },
        "id": "x6qHPmnHEUgD",
        "outputId": "e2aa9eed-6cd6-4abe-95fe-c391918708d2"
      },
      "execution_count": null,
      "outputs": [
        {
          "output_type": "error",
          "ename": "NameError",
          "evalue": "ignored",
          "traceback": [
            "\u001b[0;31m---------------------------------------------------------------------------\u001b[0m",
            "\u001b[0;31mNameError\u001b[0m                                 Traceback (most recent call last)",
            "\u001b[0;32m<ipython-input-40-9ae6f27b1d9d>\u001b[0m in \u001b[0;36m<module>\u001b[0;34m\u001b[0m\n\u001b[1;32m      1\u001b[0m \u001b[0mstd_total_spent\u001b[0m \u001b[0;34m=\u001b[0m \u001b[0mdf5\u001b[0m\u001b[0;34m[\u001b[0m\u001b[0;34m\"Total Charged\"\u001b[0m\u001b[0;34m]\u001b[0m\u001b[0;34m.\u001b[0m\u001b[0mstd\u001b[0m\u001b[0;34m(\u001b[0m\u001b[0;34m)\u001b[0m\u001b[0;34m\u001b[0m\u001b[0;34m\u001b[0m\u001b[0m\n\u001b[0;32m----> 2\u001b[0;31m \u001b[0mprint\u001b[0m\u001b[0;34m(\u001b[0m\u001b[0msd_total_spent\u001b[0m\u001b[0;34m)\u001b[0m\u001b[0;34m\u001b[0m\u001b[0;34m\u001b[0m\u001b[0m\n\u001b[0m",
            "\u001b[0;31mNameError\u001b[0m: name 'sd_total_spent' is not defined"
          ]
        }
      ]
    },
    {
      "cell_type": "code",
      "source": [
        "df6 = df5.cumsum()\n",
        "df6.plot()"
      ],
      "metadata": {
        "colab": {
          "base_uri": "https://localhost:8080/",
          "height": 283
        },
        "id": "Czkqd4NBLBT6",
        "outputId": "6f240c40-2492-4bc6-c3d7-28d8755b4a85"
      },
      "execution_count": null,
      "outputs": [
        {
          "output_type": "execute_result",
          "data": {
            "text/plain": [
              "<matplotlib.axes._subplots.AxesSubplot at 0x7f77c2883250>"
            ]
          },
          "metadata": {},
          "execution_count": 48
        },
        {
          "output_type": "display_data",
          "data": {
            "text/plain": [
              "<Figure size 432x288 with 1 Axes>"
            ],
            "image/png": "[encoded data removed]"
          },
          "metadata": {
            "needs_background": "light"
          }
        }
      ]
    },
    {
      "cell_type": "code",
      "source": [
        "april_total_spent = df5.loc[0:9, \"Total Charged\"]\n",
        "df8 = april_total_spent.cumsum()\n",
        "april_total_spent.plot()"
      ],
      "metadata": {
        "colab": {
          "base_uri": "https://localhost:8080/",
          "height": 283
        },
        "id": "zqhp2lSrQCAa",
        "outputId": "ac0ee89c-0e14-47bd-97c5-e1d4a37b21d3"
      },
      "execution_count": null,
      "outputs": [
        {
          "output_type": "execute_result",
          "data": {
            "text/plain": [
              "<matplotlib.axes._subplots.AxesSubplot at 0x7f77b5b2e150>"
            ]
          },
          "metadata": {},
          "execution_count": 58
        },
        {
          "output_type": "display_data",
          "data": {
            "text/plain": [
              "<Figure size 432x288 with 1 Axes>"
            ],
            "image/png": "[encoded data removed]"
          },
          "metadata": {
            "needs_background": "light"
          }
        }
      ]
    },
    {
      "cell_type": "code",
      "source": [
        "may_total_spent = df5.loc[10:27, \"Total Charged\"]\n",
        "df9 = may_total_spent.cumsum()\n",
        "may_total_spent.plot()"
      ],
      "metadata": {
        "colab": {
          "base_uri": "https://localhost:8080/",
          "height": 284
        },
        "id": "aQ-Ojaa8QZtC",
        "outputId": "417b4eeb-7120-4fe0-9f5f-40cd100c696b"
      },
      "execution_count": null,
      "outputs": [
        {
          "output_type": "execute_result",
          "data": {
            "text/plain": [
              "<matplotlib.axes._subplots.AxesSubplot at 0x7f77b3d09310>"
            ]
          },
          "metadata": {},
          "execution_count": 59
        },
        {
          "output_type": "display_data",
          "data": {
            "text/plain": [
              "<Figure size 432x288 with 1 Axes>"
            ],
            "image/png": "[encoded data removed]"
          },
          "metadata": {
            "needs_background": "light"
          }
        }
      ]
    },
    {
      "cell_type": "code",
      "source": [
        "june_total_spent = df5.loc[28:33, \"Total Charged\"]\n",
        "df10 = june_total_spent.cumsum()\n",
        "june_total_spent.plot()"
      ],
      "metadata": {
        "colab": {
          "base_uri": "https://localhost:8080/",
          "height": 283
        },
        "id": "fi-5DoWOQlyo",
        "outputId": "d1114bc0-f736-4ca2-c654-6c27d5a6a8a1"
      },
      "execution_count": null,
      "outputs": [
        {
          "output_type": "execute_result",
          "data": {
            "text/plain": [
              "<matplotlib.axes._subplots.AxesSubplot at 0x7f77b3c5a1d0>"
            ]
          },
          "metadata": {},
          "execution_count": 62
        },
        {
          "output_type": "display_data",
          "data": {
            "text/plain": [
              "<Figure size 432x288 with 1 Axes>"
            ],
            "image/png": "[encoded data removed]"
          },
          "metadata": {
            "needs_background": "light"
          }
        }
      ]
    },
    {
      "cell_type": "code",
      "source": [
        "july_total_spent = df5.loc[34:, \"Total Charged\"]\n",
        "df7 = july_total_spent.cumsum()\n",
        "july_total_spent.plot()"
      ],
      "metadata": {
        "colab": {
          "base_uri": "https://localhost:8080/",
          "height": 283
        },
        "id": "lpymh8ATMXf9",
        "outputId": "7dbebdb7-8a10-4af6-8053-678650b9b8d9"
      },
      "execution_count": null,
      "outputs": [
        {
          "output_type": "execute_result",
          "data": {
            "text/plain": [
              "<matplotlib.axes._subplots.AxesSubplot at 0x7f77b3bd60d0>"
            ]
          },
          "metadata": {},
          "execution_count": 63
        },
        {
          "output_type": "display_data",
          "data": {
            "text/plain": [
              "<Figure size 432x288 with 1 Axes>"
            ],
            "image/png": "[encoded data removed]"
          },
          "metadata": {
            "needs_background": "light"
          }
        }
      ]
    },
    {
      "cell_type": "code",
      "source": [
        "import matplotlib.pyplot as plt\n",
        "df5[\"Total Charged\"].plot(kind = 'hist')\n"
      ],
      "metadata": {
        "colab": {
          "base_uri": "https://localhost:8080/",
          "height": 283
        },
        "id": "Gqjcyow0m4Sb",
        "outputId": "a61bd0a7-7712-4c06-df21-884948509ad8"
      },
      "execution_count": null,
      "outputs": [
        {
          "output_type": "execute_result",
          "data": {
            "text/plain": [
              "<matplotlib.axes._subplots.AxesSubplot at 0x7f933c365750>"
            ]
          },
          "metadata": {},
          "execution_count": 22
        },
        {
          "output_type": "display_data",
          "data": {
            "text/plain": [
              "<Figure size 432x288 with 1 Axes>"
            ],
            "image/png": "[encoded data removed]"
          },
          "metadata": {
            "needs_background": "light"
          }
        }
      ]
    }
  ]
}