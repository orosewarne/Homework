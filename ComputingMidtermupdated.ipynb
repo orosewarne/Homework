{
  "nbformat": 4,
  "nbformat_minor": 0,
  "metadata": {
    "colab": {
      "provenance": [],
      "authorship_tag": "ABX9TyMYkD8aRJxIIhG4Bfbm3m2h",
      "include_colab_link": true
    },
    "kernelspec": {
      "name": "python3",
      "display_name": "Python 3"
    },
    "language_info": {
      "name": "python"
    }
  },
  "cells": [
    {
      "cell_type": "markdown",
      "metadata": {
        "id": "view-in-github",
        "colab_type": "text"
      },
      "source": [
        "<a href=\"https://colab.research.google.com/github/orosewarne/Homework/blob/main/ComputingMidtermupdated.ipynb\" target=\"_parent\"><img src=\"https://colab.research.google.com/assets/colab-badge.svg\" alt=\"Open In Colab\"/></a>"
      ]
    },
    {
      "cell_type": "code",
      "execution_count": 12,
      "metadata": {
        "colab": {
          "base_uri": "https://localhost:8080/"
        },
        "id": "rXAunFBT_Ydu",
        "outputId": "6d8681c0-693d-497b-ef0e-e6721426de24"
      },
      "outputs": [
        {
          "output_type": "stream",
          "name": "stdout",
          "text": [
            "2,4,6,8,4,5,2,1,9,0,4,6,7,4,3,2,1,9,10,3,7,9,6,0,1,3,5,6,7,8,9,10,2,3,6,8,9,10,6,7,4,3\n",
            "2,1,9,10,3,7,9,6,0,1,3,5,6,7,8,9,10,2,3,6,8,9,10,2,4,6,8,4,5,2,1,9,0,4,6,7,4,3,2,1,9,10,3,7,9,6\n",
            "4,5,2,1,9,0,4,6,7,4,3,2,1,9,10,3,7,9,6,0,1,3,5,6,7,8,9,10,2,3,6,8,9,10,6,7,4,3,6,8,4,5,2\n",
            "10,3,7,9,6,0,1,3,5,6,7,8,9,10,2,3,6,8,9,10,2,4,6,8,4,5,2,1,9,0,4,6,7,4\n",
            "2,4,6,8,4,5,2,1,9,0,4,6,7,4,3,2,1,9,10,3,7,9,6\n"
          ]
        }
      ],
      "source": [
        "f = \"numbers.txt\"\n",
        "numbersfile = open(f, \"r\")\n",
        "numbers = print(numbersfile.read())\n",
        "#numbers = numbersfile.read()\n",
        "#numbers"
      ]
    },
    {
      "cell_type": "code",
      "source": [
        "import pandas as pd\n",
        "df = open(f, \"r\")\n",
        "print(df.read())"
      ],
      "metadata": {
        "colab": {
          "base_uri": "https://localhost:8080/"
        },
        "id": "biWL-14uBLRc",
        "outputId": "151b70c6-6f3b-4e81-ba69-92493de30438"
      },
      "execution_count": 15,
      "outputs": [
        {
          "output_type": "stream",
          "name": "stdout",
          "text": [
            "2,4,6,8,4,5,2,1,9,0,4,6,7,4,3,2,1,9,10,3,7,9,6,0,1,3,5,6,7,8,9,10,2,3,6,8,9,10,6,7,4,3\n",
            "2,1,9,10,3,7,9,6,0,1,3,5,6,7,8,9,10,2,3,6,8,9,10,2,4,6,8,4,5,2,1,9,0,4,6,7,4,3,2,1,9,10,3,7,9,6\n",
            "4,5,2,1,9,0,4,6,7,4,3,2,1,9,10,3,7,9,6,0,1,3,5,6,7,8,9,10,2,3,6,8,9,10,6,7,4,3,6,8,4,5,2\n",
            "10,3,7,9,6,0,1,3,5,6,7,8,9,10,2,3,6,8,9,10,2,4,6,8,4,5,2,1,9,0,4,6,7,4\n",
            "2,4,6,8,4,5,2,1,9,0,4,6,7,4,3,2,1,9,10,3,7,9,6\n"
          ]
        }
      ]
    },
    {
      "cell_type": "code",
      "source": [
        "frequency = {}\n",
        "for item in numbersfile: \n",
        "  if item in frequency:\n",
        "    frequency[item] += 1\n",
        "\n",
        "  else: \n",
        "      frequency[item] = 1\n",
        "\n",
        "print(frequency)"
      ],
      "metadata": {
        "colab": {
          "base_uri": "https://localhost:8080/"
        },
        "id": "aoIJI-fiAimF",
        "outputId": "2ce7ff49-dd83-41df-a655-de7861ab4e68"
      },
      "execution_count": 44,
      "outputs": [
        {
          "output_type": "stream",
          "name": "stdout",
          "text": [
            "{}\n"
          ]
        }
      ]
    },
    {
      "cell_type": "markdown",
      "source": [
        "AMAZON ORDERS"
      ],
      "metadata": {
        "id": "J_InSVb8EiKA"
      }
    },
    {
      "cell_type": "code",
      "source": [
        "df5 = pd.read_csv('amazon-orders-done.csv')\n",
        "print(df5)"
      ],
      "metadata": {
        "colab": {
          "base_uri": "https://localhost:8080/"
        },
        "id": "RlmsBwrACD68",
        "outputId": "d0725d42-d4ab-41eb-f712-20851a852cf8"
      },
      "execution_count": 20,
      "outputs": [
        {
          "output_type": "stream",
          "name": "stdout",
          "text": [
            "   Order Date             Order ID Payment Instrument Type     Website  \\\n",
            "0    04/01/19  112-0000000-0000001             Visa - 0001  Amazon.com   \n",
            "1    04/01/19  112-0000000-0000002             Visa - 0001  Amazon.com   \n",
            "2    04/01/19  112-0000000-0000003             Visa - 0001  Amazon.com   \n",
            "3    04/04/19  112-0000000-0000004             Visa - 0001  Amazon.com   \n",
            "4    04/05/19  112-0000000-0000005             Visa - 0001  Amazon.com   \n",
            "5    04/05/19  112-0000000-0000006             Visa - 0001  Amazon.com   \n",
            "6    04/07/19  112-0000000-0000007             Visa - 0001  Amazon.com   \n",
            "7    04/08/19  112-0000000-0000008             Visa - 0001  Amazon.com   \n",
            "8    04/20/19  112-0000000-0000009             Visa - 0001  Amazon.com   \n",
            "9    04/23/19  112-0000000-0000010             Visa - 0001  Amazon.com   \n",
            "10   05/05/19  112-0000000-0000011             Visa - 0001  Amazon.com   \n",
            "11   05/06/19  112-0000000-0000012             Visa - 0001  Amazon.com   \n",
            "12   05/10/19  112-0000000-0000013             Visa - 0001  Amazon.com   \n",
            "13   05/14/19  112-0000000-0000014             Visa - 0001  Amazon.com   \n",
            "14   05/18/19  112-0000000-0000015             Visa - 0001  Amazon.com   \n",
            "15   05/19/19  112-0000000-0000016             Visa - 0001  Amazon.com   \n",
            "16   05/21/19  112-0000000-0000017             Visa - 0001  Amazon.com   \n",
            "17   05/21/19  112-0000000-0000018             Visa - 0001  Amazon.com   \n",
            "18   05/21/19  112-0000000-0000019             Visa - 5555  Amazon.com   \n",
            "19   05/22/19  112-0000000-0000020             Visa - 5555  Amazon.com   \n",
            "20   05/22/19  112-0000000-0000021             Visa - 5555  Amazon.com   \n",
            "21   05/22/19  112-0000000-0000022             Visa - 5555  Amazon.com   \n",
            "22   05/24/19  112-0000000-0000023             Visa - 0001  Amazon.com   \n",
            "23   05/25/19  112-0000000-0000024             Visa - 0001  Amazon.com   \n",
            "24   05/28/19  112-0000000-0000025             Visa - 0001  Amazon.com   \n",
            "25   05/29/19  112-0000000-0000026             Visa - 0001  Amazon.com   \n",
            "26   05/30/19  112-0000000-0000027             Visa - 0001  Amazon.com   \n",
            "27   05/30/19  112-0000000-0000028             Visa - 0001  Amazon.com   \n",
            "28   06/03/19  112-0000000-0000029             Visa - 0001  Amazon.com   \n",
            "29   06/03/19  112-0000000-0000030             Visa - 0001  Amazon.com   \n",
            "30   06/05/19  112-0000000-0000031             Visa - 0001  Amazon.com   \n",
            "31   06/18/19  112-0000000-0000032             Visa - 0001  Amazon.com   \n",
            "32   06/25/19  112-0000000-0000033             Visa - 0001  Amazon.com   \n",
            "33   06/25/19  112-0000000-0000034             Visa - 0001  Amazon.com   \n",
            "34   07/03/19  112-0000000-0000035             Visa - 0001  Amazon.com   \n",
            "35   07/03/19  112-0000000-0000036             Visa - 0001  Amazon.com   \n",
            "36   07/03/19  112-0000000-0000037             Visa - 0001  Amazon.com   \n",
            "37   07/03/19  112-0000000-0000038             Visa - 0001  Amazon.com   \n",
            "38   07/03/19  112-0000000-0000039             Visa - 0001  Amazon.com   \n",
            "39   07/06/19  112-0000000-0000040             Visa - 5555  Amazon.com   \n",
            "40   07/06/19  112-0000000-0000041             Visa - 5555  Amazon.com   \n",
            "41   07/06/19  112-0000000-0000042             Visa - 5555  Amazon.com   \n",
            "42   07/06/19  112-0000000-0000043             Visa - 5555  Amazon.com   \n",
            "43   07/06/19  112-0000000-0000044             Visa - 0001  Amazon.com   \n",
            "44   07/07/19  112-0000000-0000045             Visa - 0001  Amazon.com   \n",
            "45   07/09/19  112-0000000-0000046             Visa - 0001  Amazon.com   \n",
            "46   07/17/19  112-0000000-0000047             Visa - 0001  Amazon.com   \n",
            "47   07/18/19  112-0000000-0000048             Visa - 0001  Amazon.com   \n",
            "48   07/18/19  112-0000000-0000049             Visa - 0001  Amazon.com   \n",
            "49   07/18/19  112-0000000-0000050             Visa - 0001  Amazon.com   \n",
            "50   07/18/19  112-0000000-0000051             Visa - 0001  Amazon.com   \n",
            "51   07/21/19  112-0000000-0000052             Visa - 0001  Amazon.com   \n",
            "52   07/21/19  112-0000000-0000053             Visa - 0001  Amazon.com   \n",
            "53   07/23/19  112-0000000-0000054             Visa - 0001  Amazon.com   \n",
            "54   07/30/19  112-0000000-0000055             Visa - 0001  Amazon.com   \n",
            "55   07/30/19  112-0000000-0000056             Visa - 0001  Amazon.com   \n",
            "56   07/30/19  112-0000000-0000057             Visa - 0001  Amazon.com   \n",
            "57   07/31/19  112-0000000-0000058             Visa - 0001  Amazon.com   \n",
            "58   07/31/19  112-0000000-0000059             Visa - 0001  Amazon.com   \n",
            "\n",
            "    Purchase Order Number Ordering Customer Email Shipment Date  \\\n",
            "0                     NaN    your_email@gmail.com      04/01/19   \n",
            "1                     NaN    your_email@gmail.com      04/01/19   \n",
            "2                     NaN    your_email@gmail.com      04/01/19   \n",
            "3                     NaN    your_email@gmail.com      04/05/19   \n",
            "4                     NaN    your_email@gmail.com      04/07/19   \n",
            "5                     NaN    your_email@gmail.com      04/08/19   \n",
            "6                     NaN    your_email@gmail.com      04/08/19   \n",
            "7                     NaN    your_email@gmail.com      04/08/19   \n",
            "8                     NaN    your_email@gmail.com      04/21/19   \n",
            "9                     NaN    your_email@gmail.com      04/24/19   \n",
            "10                    NaN    your_email@gmail.com      05/07/19   \n",
            "11                    NaN    your_email@gmail.com      05/07/19   \n",
            "12                    NaN    your_email@gmail.com      05/12/19   \n",
            "13                    NaN    your_email@gmail.com      05/15/19   \n",
            "14                    NaN    your_email@gmail.com      05/19/19   \n",
            "15                    NaN    your_email@gmail.com      05/20/19   \n",
            "16                    NaN    your_email@gmail.com      05/22/19   \n",
            "17                    NaN    your_email@gmail.com      05/22/19   \n",
            "18                    NaN    your_email@gmail.com      05/22/19   \n",
            "19                    NaN    your_email@gmail.com      05/22/19   \n",
            "20                    NaN    your_email@gmail.com      05/23/19   \n",
            "21                    NaN    your_email@gmail.com      05/23/19   \n",
            "22                    NaN    your_email@gmail.com      05/25/19   \n",
            "23                    NaN    your_email@gmail.com      05/27/19   \n",
            "24                    NaN    your_email@gmail.com      05/28/19   \n",
            "25                    NaN    your_email@gmail.com      05/30/19   \n",
            "26                    NaN    your_email@gmail.com      06/01/19   \n",
            "27                    NaN    your_email@gmail.com      05/30/19   \n",
            "28                    NaN    your_email@gmail.com      06/05/19   \n",
            "29                    NaN    your_email@gmail.com      06/05/19   \n",
            "30                    NaN    your_email@gmail.com      06/05/19   \n",
            "31                    NaN    your_email@gmail.com      06/19/19   \n",
            "32                    NaN    your_email@gmail.com      06/26/19   \n",
            "33                    NaN    your_email@gmail.com      06/26/19   \n",
            "34                    NaN    your_email@gmail.com      07/04/19   \n",
            "35                    NaN    your_email@gmail.com      07/05/19   \n",
            "36                    NaN    your_email@gmail.com      07/08/19   \n",
            "37                    NaN    your_email@gmail.com      07/05/19   \n",
            "38                    NaN    your_email@gmail.com      07/04/19   \n",
            "39                    NaN    your_email@gmail.com      07/07/19   \n",
            "40                    NaN    your_email@gmail.com      07/08/19   \n",
            "41                    NaN    your_email@gmail.com      07/07/19   \n",
            "42                    NaN    your_email@gmail.com      07/08/19   \n",
            "43                    NaN    your_email@gmail.com      07/07/19   \n",
            "44                    NaN    your_email@gmail.com      07/08/19   \n",
            "45                    NaN    your_email@gmail.com      07/09/19   \n",
            "46                    NaN    your_email@gmail.com      07/18/19   \n",
            "47                    NaN    your_email@gmail.com      07/19/19   \n",
            "48                    NaN    your_email@gmail.com      07/18/19   \n",
            "49                    NaN    your_email@gmail.com      07/18/19   \n",
            "50                    NaN    your_email@gmail.com      07/18/19   \n",
            "51                    NaN    your_email@gmail.com      07/21/19   \n",
            "52                    NaN    your_email@gmail.com      07/22/19   \n",
            "53                    NaN    your_email@gmail.com      07/23/19   \n",
            "54                    NaN    your_email@gmail.com      07/31/19   \n",
            "55                    NaN    your_email@gmail.com      08/01/19   \n",
            "56                    NaN    your_email@gmail.com      08/01/19   \n",
            "57                    NaN    your_email@gmail.com      07/31/19   \n",
            "58                    NaN    your_email@gmail.com      08/01/19   \n",
            "\n",
            "   Shipping Address Name Shipping Address Street 1  Shipping Address Street 2  \\\n",
            "0              Your Name             1 YOUR STREET                        NaN   \n",
            "1              Your Name             1 YOUR STREET                        NaN   \n",
            "2              Your Name             1 YOUR STREET                        NaN   \n",
            "3              Your Name             1 YOUR STREET                        NaN   \n",
            "4              Your Name             1 YOUR STREET                        NaN   \n",
            "5              Your Name             1 YOUR STREET                        NaN   \n",
            "6              Your Name             1 YOUR STREET                        NaN   \n",
            "7              Your Name             1 YOUR STREET                        NaN   \n",
            "8              Your Name             1 YOUR STREET                        NaN   \n",
            "9              Your Name             1 YOUR STREET                        NaN   \n",
            "10             Your Name             1 YOUR STREET                        NaN   \n",
            "11             Your Name             1 YOUR STREET                        NaN   \n",
            "12             Your Name             1 YOUR STREET                        NaN   \n",
            "13             Your Name             1 YOUR STREET                        NaN   \n",
            "14             Your Name             1 YOUR STREET                        NaN   \n",
            "15             Your Name             1 YOUR STREET                        NaN   \n",
            "16             Your Name             1 YOUR STREET                        NaN   \n",
            "17             Your Name             1 YOUR STREET                        NaN   \n",
            "18             Your Name             1 YOUR STREET                        NaN   \n",
            "19             Your Name             1 YOUR STREET                        NaN   \n",
            "20             Your Name             1 YOUR STREET                        NaN   \n",
            "21             Your Name             1 YOUR STREET                        NaN   \n",
            "22             Your Name             1 YOUR STREET                        NaN   \n",
            "23             Your Name             1 YOUR STREET                        NaN   \n",
            "24             Your Name             1 YOUR STREET                        NaN   \n",
            "25             Your Name             1 YOUR STREET                        NaN   \n",
            "26             Your Name             1 YOUR STREET                        NaN   \n",
            "27             Your Name             1 YOUR STREET                        NaN   \n",
            "28             Your Name             1 YOUR STREET                        NaN   \n",
            "29             Your Name             1 YOUR STREET                        NaN   \n",
            "30             Your Name             1 YOUR STREET                        NaN   \n",
            "31             Your Name             1 YOUR STREET                        NaN   \n",
            "32             Your Name             1 YOUR STREET                        NaN   \n",
            "33             Your Name             1 YOUR STREET                        NaN   \n",
            "34             Your Name             1 YOUR STREET                        NaN   \n",
            "35             Your Name             1 YOUR STREET                        NaN   \n",
            "36             Your Name             1 YOUR STREET                        NaN   \n",
            "37             Your Name             1 YOUR STREET                        NaN   \n",
            "38             Your Name             1 YOUR STREET                        NaN   \n",
            "39             Your Name             1 YOUR STREET                        NaN   \n",
            "40             Your Name             1 YOUR STREET                        NaN   \n",
            "41             Your Name             1 YOUR STREET                        NaN   \n",
            "42             Your Name             1 YOUR STREET                        NaN   \n",
            "43             Your Name             1 YOUR STREET                        NaN   \n",
            "44             Your Name             1 YOUR STREET                        NaN   \n",
            "45             Your Name             1 YOUR STREET                        NaN   \n",
            "46             Your Name             1 YOUR STREET                        NaN   \n",
            "47             Your Name             1 YOUR STREET                        NaN   \n",
            "48             Your Name             1 YOUR STREET                        NaN   \n",
            "49             Your Name             1 YOUR STREET                        NaN   \n",
            "50             Your Name             1 YOUR STREET                        NaN   \n",
            "51             Your Name             1 YOUR STREET                        NaN   \n",
            "52             Your Name             1 YOUR STREET                        NaN   \n",
            "53             Your Name             1 YOUR STREET                        NaN   \n",
            "54             Your Name             1 YOUR STREET                        NaN   \n",
            "55             Your Name             1 YOUR STREET                        NaN   \n",
            "56             Your Name             1 YOUR STREET                        NaN   \n",
            "57             Your Name             1 YOUR STREET                        NaN   \n",
            "58           Your Friend    5 FRIEND STREET APT. 1                        NaN   \n",
            "\n",
            "    ... Shipping Address Zip Order Status Carrier Name & Tracking Number  \\\n",
            "0   ...           00001-0001      Shipped                     USPS(0001)   \n",
            "1   ...           00001-0001      Shipped                     USPS(0001)   \n",
            "2   ...           00001-0001      Shipped                     USPS(0001)   \n",
            "3   ...           00001-0001      Shipped                      UPS(0002)   \n",
            "4   ...           00001-0001      Shipped                     USPS(0001)   \n",
            "5   ...           00001-0001      Shipped                     USPS(0001)   \n",
            "6   ...           00001-0001      Shipped                     USPS(0001)   \n",
            "7   ...           00001-0001      Shipped                      UPS(0002)   \n",
            "8   ...           00001-0001      Shipped                     USPS(0001)   \n",
            "9   ...           00001-0001      Shipped                      UPS(0002)   \n",
            "10  ...           00001-0001      Shipped               China Post(0003)   \n",
            "11  ...           00001-0001      Shipped                     USPS(0001)   \n",
            "12  ...           00001-0001      Shipped                     USPS(0001)   \n",
            "13  ...           00001-0001      Shipped                     USPS(0001)   \n",
            "14  ...           00001-0001      Shipped                     USPS(0001)   \n",
            "15  ...           00001-0001      Shipped                     USPS(0001)   \n",
            "16  ...           00001-0001      Shipped                     USPS(0001)   \n",
            "17  ...           00001-0001      Shipped                     USPS(0001)   \n",
            "18  ...           00001-0001      Shipped                     USPS(0001)   \n",
            "19  ...           00001-0001      Shipped                     USPS(0001)   \n",
            "20  ...           00001-0001      Shipped                     USPS(0001)   \n",
            "21  ...           00001-0001      Shipped                     USPS(0001)   \n",
            "22  ...           00001-0001      Shipped                     USPS(0001)   \n",
            "23  ...           00001-0001      Shipped                     USPS(0001)   \n",
            "24  ...           00001-0001      Shipped                     USPS(0001)   \n",
            "25  ...           00001-0001      Shipped                     USPS(0001)   \n",
            "26  ...           00001-0001      Shipped                      UPS(0002)   \n",
            "27  ...           00001-0001      Shipped                     USPS(0001)   \n",
            "28  ...           00001-0001      Shipped                     USPS(0001)   \n",
            "29  ...           00001-0001      Shipped                      UPS(0002)   \n",
            "30  ...           00001-0001      Shipped                     USPS(0001)   \n",
            "31  ...           00001-0001      Shipped                     USPS(0001)   \n",
            "32  ...           00001-0001      Shipped                      UPS(0002)   \n",
            "33  ...           00001-0001      Shipped                     USPS(0001)   \n",
            "34  ...           00001-0001      Shipped                     USPS(0001)   \n",
            "35  ...           00001-0001      Shipped                     USPS(0001)   \n",
            "36  ...           00001-0001      Shipped                     USPS(0001)   \n",
            "37  ...           00001-0001      Shipped                     USPS(0001)   \n",
            "38  ...           00001-0001      Shipped                     USPS(0001)   \n",
            "39  ...           00001-0001      Shipped                     USPS(0001)   \n",
            "40  ...           00001-0001      Shipped                     USPS(0001)   \n",
            "41  ...           00001-0001      Shipped                      UPS(0002)   \n",
            "42  ...           00001-0001      Shipped                     USPS(0001)   \n",
            "43  ...           00001-0001      Shipped                     USPS(0001)   \n",
            "44  ...           00001-0001      Shipped                      UPS(0002)   \n",
            "45  ...           00001-0001      Shipped                     USPS(0001)   \n",
            "46  ...           00001-0001      Shipped                     USPS(0001)   \n",
            "47  ...           00001-0001      Shipped                      UPS(0002)   \n",
            "48  ...           00001-0001      Shipped                     USPS(0001)   \n",
            "49  ...           00001-0001      Shipped                     USPS(0001)   \n",
            "50  ...           00001-0001      Shipped                     USPS(0001)   \n",
            "51  ...           00001-0001      Shipped                     USPS(0001)   \n",
            "52  ...           00001-0001      Shipped                     USPS(0001)   \n",
            "53  ...           00001-0001      Shipped                      UPS(0002)   \n",
            "54  ...           00001-0001      Shipped                     USPS(0001)   \n",
            "55  ...           00001-0001      Shipped                     USPS(0001)   \n",
            "56  ...           00001-0001      Shipped                     USPS(0001)   \n",
            "57  ...           00001-0001      Shipped                      UPS(0002)   \n",
            "58  ...           20001-5497      Shipped                      UPS(0002)   \n",
            "\n",
            "   Subtotal Shipping Charge  Tax Before Promotions  Total Promotions  \\\n",
            "0     35.00            0.00                   1.93                 0   \n",
            "1     16.99            0.00                   0.00                 0   \n",
            "2      9.99            0.00                   0.00                 0   \n",
            "3    147.98            0.00                   8.14                 0   \n",
            "4     14.99            0.00                   0.00                 0   \n",
            "5     11.99            0.00                   0.66                 0   \n",
            "6     38.98            0.00                   1.65                 0   \n",
            "7     44.99            0.00                   0.00                 0   \n",
            "8     27.30            0.00                   1.50                 0   \n",
            "9     37.08            0.00                   0.00                 0   \n",
            "10    12.99            0.00                   0.00                 0   \n",
            "11     7.20            0.00                   0.40                 0   \n",
            "12    27.99            0.00                   0.00                 0   \n",
            "13    15.32            0.00                   0.84                 0   \n",
            "14     9.95            0.00                   0.55                 0   \n",
            "15    38.89            0.00                   0.00                 0   \n",
            "16     8.95            0.00                   0.49                 0   \n",
            "17    12.99            0.00                   0.00                 0   \n",
            "18     7.99            0.00                   0.00                 0   \n",
            "19    16.98            0.00                   0.93                 0   \n",
            "20    35.00            0.00                   1.92                 0   \n",
            "21     7.50            0.00                   0.41                 0   \n",
            "22     7.67            0.00                   0.00                 0   \n",
            "23     9.80            0.00                   0.00                 0   \n",
            "24    13.95            0.00                   0.00                 0   \n",
            "25     9.99            0.00                   0.00                 0   \n",
            "26    10.98            0.00                   0.60                 0   \n",
            "27    32.98            0.00                   0.82                 0   \n",
            "28    28.99            0.00                   0.00                 0   \n",
            "29    13.88            0.00                   0.00                 0   \n",
            "30    11.62            0.00                   0.64                 0   \n",
            "31    11.98            0.00                   0.66                 0   \n",
            "32    51.99            0.00                   0.00                 0   \n",
            "33    10.59            0.00                   0.00                 0   \n",
            "34     7.94            3.99                   0.00                 0   \n",
            "35     8.32            7.96                   0.00                 0   \n",
            "36    25.62            0.00                   0.85                 0   \n",
            "37     0.52            4.95                   0.00                 0   \n",
            "38     5.43            3.99                   0.00                 0   \n",
            "39    12.99            0.00                   0.00                 0   \n",
            "40   102.47            0.00                   4.95                 0   \n",
            "41    79.97            0.00                   0.00                10   \n",
            "42    49.99            0.00                   0.00                 4   \n",
            "43   199.99            0.00                  11.00                 0   \n",
            "44    41.97            0.00                   0.00                 0   \n",
            "45    15.60            0.00                   0.86                 0   \n",
            "46    36.49            0.00                   2.01                 0   \n",
            "47    15.95            0.00                   0.00                 0   \n",
            "48    99.63            0.00                   3.34                 0   \n",
            "49    12.78            0.00                   0.70                 0   \n",
            "50    12.78            0.00                   0.70                 0   \n",
            "51     6.49            0.00                   0.36                 0   \n",
            "52     5.76            0.00                   0.00                 0   \n",
            "53    42.93            0.00                   2.36                 0   \n",
            "54    49.99            0.00                   0.00                15   \n",
            "55     6.30            0.00                   0.00                 0   \n",
            "56     5.99            0.00                   0.05                 5   \n",
            "57    35.99            0.00                   0.00                 0   \n",
            "58    54.88            0.00                   3.29                 0   \n",
            "\n",
            "    Tax Charged  Total Charged  Buyer Name  \n",
            "0          1.93          36.93   Your Name  \n",
            "1          0.00          16.99   Your Name  \n",
            "2          0.00           9.99   Your Name  \n",
            "3          8.14         156.12   Your Name  \n",
            "4          0.00          14.99   Your Name  \n",
            "5          0.66          12.65   Your Name  \n",
            "6          1.65          40.63   Your Name  \n",
            "7          0.00          44.99   Your Name  \n",
            "8          1.50          28.80   Your Name  \n",
            "9          0.00          37.08   Your Name  \n",
            "10         0.00          12.99   Your Name  \n",
            "11         0.40           7.60   Your Name  \n",
            "12         0.00          27.99   Your Name  \n",
            "13         0.84          16.16   Your Name  \n",
            "14         0.55          10.50   Your Name  \n",
            "15         0.00          38.89   Your Name  \n",
            "16         0.49           9.44   Your Name  \n",
            "17         0.00          12.99   Your Name  \n",
            "18         0.00           7.99   Your Name  \n",
            "19         0.93          17.91   Your Name  \n",
            "20         1.92          36.92   Your Name  \n",
            "21         0.41           7.91   Your Name  \n",
            "22         0.00           7.67   Your Name  \n",
            "23         0.00           9.80   Your Name  \n",
            "24         0.00          13.95   Your Name  \n",
            "25         0.00           9.99   Your Name  \n",
            "26         0.60          11.58   Your Name  \n",
            "27         0.82          33.80   Your Name  \n",
            "28         0.00          28.99   Your Name  \n",
            "29         0.00          13.88   Your Name  \n",
            "30         0.64          12.26   Your Name  \n",
            "31         0.66          12.64   Your Name  \n",
            "32         0.00          51.99   Your Name  \n",
            "33         0.00          10.59   Your Name  \n",
            "34         0.00          11.93   Your Name  \n",
            "35         0.00          16.28   Your Name  \n",
            "36         0.85          26.47   Your Name  \n",
            "37         0.00           5.47   Your Name  \n",
            "38         0.00           9.42   Your Name  \n",
            "39         0.00          12.99   Your Name  \n",
            "40         4.95         107.42   Your Name  \n",
            "41         0.00          69.97   Your Name  \n",
            "42         0.00          45.99   Your Name  \n",
            "43        11.00         210.99   Your Name  \n",
            "44         0.00          41.97   Your Name  \n",
            "45         0.86          16.46   Your Name  \n",
            "46         2.01          38.50   Your Name  \n",
            "47         0.00          15.95   Your Name  \n",
            "48         3.34         102.97   Your Name  \n",
            "49         0.70          13.48   Your Name  \n",
            "50         0.70          13.48   Your Name  \n",
            "51         0.36           6.85   Your Name  \n",
            "52         0.00           5.76   Your Name  \n",
            "53         2.36          45.29   Your Name  \n",
            "54         0.00          34.99   Your Name  \n",
            "55         0.00           6.30   Your Name  \n",
            "56         0.05           1.04   Your Name  \n",
            "57         0.00          35.99   Your Name  \n",
            "58         3.29          58.17   Your Name  \n",
            "\n",
            "[59 rows x 22 columns]\n"
          ]
        }
      ]
    },
    {
      "cell_type": "code",
      "source": [
        "df_april = df5.loc[0: 9]\n",
        "print(df_april)"
      ],
      "metadata": {
        "colab": {
          "base_uri": "https://localhost:8080/"
        },
        "id": "tud8warWC7JU",
        "outputId": "6b1f4d8b-6f16-413d-b2f8-718d99c8a6bf"
      },
      "execution_count": 21,
      "outputs": [
        {
          "output_type": "stream",
          "name": "stdout",
          "text": [
            "  Order Date             Order ID Payment Instrument Type     Website  \\\n",
            "0   04/01/19  112-0000000-0000001             Visa - 0001  Amazon.com   \n",
            "1   04/01/19  112-0000000-0000002             Visa - 0001  Amazon.com   \n",
            "2   04/01/19  112-0000000-0000003             Visa - 0001  Amazon.com   \n",
            "3   04/04/19  112-0000000-0000004             Visa - 0001  Amazon.com   \n",
            "4   04/05/19  112-0000000-0000005             Visa - 0001  Amazon.com   \n",
            "5   04/05/19  112-0000000-0000006             Visa - 0001  Amazon.com   \n",
            "6   04/07/19  112-0000000-0000007             Visa - 0001  Amazon.com   \n",
            "7   04/08/19  112-0000000-0000008             Visa - 0001  Amazon.com   \n",
            "8   04/20/19  112-0000000-0000009             Visa - 0001  Amazon.com   \n",
            "9   04/23/19  112-0000000-0000010             Visa - 0001  Amazon.com   \n",
            "\n",
            "   Purchase Order Number Ordering Customer Email Shipment Date  \\\n",
            "0                    NaN    your_email@gmail.com      04/01/19   \n",
            "1                    NaN    your_email@gmail.com      04/01/19   \n",
            "2                    NaN    your_email@gmail.com      04/01/19   \n",
            "3                    NaN    your_email@gmail.com      04/05/19   \n",
            "4                    NaN    your_email@gmail.com      04/07/19   \n",
            "5                    NaN    your_email@gmail.com      04/08/19   \n",
            "6                    NaN    your_email@gmail.com      04/08/19   \n",
            "7                    NaN    your_email@gmail.com      04/08/19   \n",
            "8                    NaN    your_email@gmail.com      04/21/19   \n",
            "9                    NaN    your_email@gmail.com      04/24/19   \n",
            "\n",
            "  Shipping Address Name Shipping Address Street 1  Shipping Address Street 2  \\\n",
            "0             Your Name             1 YOUR STREET                        NaN   \n",
            "1             Your Name             1 YOUR STREET                        NaN   \n",
            "2             Your Name             1 YOUR STREET                        NaN   \n",
            "3             Your Name             1 YOUR STREET                        NaN   \n",
            "4             Your Name             1 YOUR STREET                        NaN   \n",
            "5             Your Name             1 YOUR STREET                        NaN   \n",
            "6             Your Name             1 YOUR STREET                        NaN   \n",
            "7             Your Name             1 YOUR STREET                        NaN   \n",
            "8             Your Name             1 YOUR STREET                        NaN   \n",
            "9             Your Name             1 YOUR STREET                        NaN   \n",
            "\n",
            "   ... Shipping Address Zip Order Status Carrier Name & Tracking Number  \\\n",
            "0  ...           00001-0001      Shipped                     USPS(0001)   \n",
            "1  ...           00001-0001      Shipped                     USPS(0001)   \n",
            "2  ...           00001-0001      Shipped                     USPS(0001)   \n",
            "3  ...           00001-0001      Shipped                      UPS(0002)   \n",
            "4  ...           00001-0001      Shipped                     USPS(0001)   \n",
            "5  ...           00001-0001      Shipped                     USPS(0001)   \n",
            "6  ...           00001-0001      Shipped                     USPS(0001)   \n",
            "7  ...           00001-0001      Shipped                      UPS(0002)   \n",
            "8  ...           00001-0001      Shipped                     USPS(0001)   \n",
            "9  ...           00001-0001      Shipped                      UPS(0002)   \n",
            "\n",
            "  Subtotal Shipping Charge  Tax Before Promotions  Total Promotions  \\\n",
            "0    35.00             0.0                   1.93                 0   \n",
            "1    16.99             0.0                   0.00                 0   \n",
            "2     9.99             0.0                   0.00                 0   \n",
            "3   147.98             0.0                   8.14                 0   \n",
            "4    14.99             0.0                   0.00                 0   \n",
            "5    11.99             0.0                   0.66                 0   \n",
            "6    38.98             0.0                   1.65                 0   \n",
            "7    44.99             0.0                   0.00                 0   \n",
            "8    27.30             0.0                   1.50                 0   \n",
            "9    37.08             0.0                   0.00                 0   \n",
            "\n",
            "   Tax Charged  Total Charged  Buyer Name  \n",
            "0         1.93          36.93   Your Name  \n",
            "1         0.00          16.99   Your Name  \n",
            "2         0.00           9.99   Your Name  \n",
            "3         8.14         156.12   Your Name  \n",
            "4         0.00          14.99   Your Name  \n",
            "5         0.66          12.65   Your Name  \n",
            "6         1.65          40.63   Your Name  \n",
            "7         0.00          44.99   Your Name  \n",
            "8         1.50          28.80   Your Name  \n",
            "9         0.00          37.08   Your Name  \n",
            "\n",
            "[10 rows x 22 columns]\n"
          ]
        }
      ]
    },
    {
      "cell_type": "code",
      "source": [
        "spent_in_april = df_april[\"Total Charged\"].mean()\n",
        "print(spent_in_april)"
      ],
      "metadata": {
        "colab": {
          "base_uri": "https://localhost:8080/"
        },
        "id": "HUNBS1EzDINB",
        "outputId": "bc5ea779-9b2f-4b3d-b88c-d4cbd58b6043"
      },
      "execution_count": 23,
      "outputs": [
        {
          "output_type": "stream",
          "name": "stdout",
          "text": [
            "39.917\n"
          ]
        }
      ]
    },
    {
      "cell_type": "code",
      "source": [
        "df_may = df5.loc[10:27]\n",
        "print(df_may)"
      ],
      "metadata": {
        "colab": {
          "base_uri": "https://localhost:8080/"
        },
        "id": "KR2Qbf75DVBT",
        "outputId": "36064056-a9b9-44e9-b4d4-860ce9b0ce97"
      },
      "execution_count": 24,
      "outputs": [
        {
          "output_type": "stream",
          "name": "stdout",
          "text": [
            "   Order Date             Order ID Payment Instrument Type     Website  \\\n",
            "10   05/05/19  112-0000000-0000011             Visa - 0001  Amazon.com   \n",
            "11   05/06/19  112-0000000-0000012             Visa - 0001  Amazon.com   \n",
            "12   05/10/19  112-0000000-0000013             Visa - 0001  Amazon.com   \n",
            "13   05/14/19  112-0000000-0000014             Visa - 0001  Amazon.com   \n",
            "14   05/18/19  112-0000000-0000015             Visa - 0001  Amazon.com   \n",
            "15   05/19/19  112-0000000-0000016             Visa - 0001  Amazon.com   \n",
            "16   05/21/19  112-0000000-0000017             Visa - 0001  Amazon.com   \n",
            "17   05/21/19  112-0000000-0000018             Visa - 0001  Amazon.com   \n",
            "18   05/21/19  112-0000000-0000019             Visa - 5555  Amazon.com   \n",
            "19   05/22/19  112-0000000-0000020             Visa - 5555  Amazon.com   \n",
            "20   05/22/19  112-0000000-0000021             Visa - 5555  Amazon.com   \n",
            "21   05/22/19  112-0000000-0000022             Visa - 5555  Amazon.com   \n",
            "22   05/24/19  112-0000000-0000023             Visa - 0001  Amazon.com   \n",
            "23   05/25/19  112-0000000-0000024             Visa - 0001  Amazon.com   \n",
            "24   05/28/19  112-0000000-0000025             Visa - 0001  Amazon.com   \n",
            "25   05/29/19  112-0000000-0000026             Visa - 0001  Amazon.com   \n",
            "26   05/30/19  112-0000000-0000027             Visa - 0001  Amazon.com   \n",
            "27   05/30/19  112-0000000-0000028             Visa - 0001  Amazon.com   \n",
            "\n",
            "    Purchase Order Number Ordering Customer Email Shipment Date  \\\n",
            "10                    NaN    your_email@gmail.com      05/07/19   \n",
            "11                    NaN    your_email@gmail.com      05/07/19   \n",
            "12                    NaN    your_email@gmail.com      05/12/19   \n",
            "13                    NaN    your_email@gmail.com      05/15/19   \n",
            "14                    NaN    your_email@gmail.com      05/19/19   \n",
            "15                    NaN    your_email@gmail.com      05/20/19   \n",
            "16                    NaN    your_email@gmail.com      05/22/19   \n",
            "17                    NaN    your_email@gmail.com      05/22/19   \n",
            "18                    NaN    your_email@gmail.com      05/22/19   \n",
            "19                    NaN    your_email@gmail.com      05/22/19   \n",
            "20                    NaN    your_email@gmail.com      05/23/19   \n",
            "21                    NaN    your_email@gmail.com      05/23/19   \n",
            "22                    NaN    your_email@gmail.com      05/25/19   \n",
            "23                    NaN    your_email@gmail.com      05/27/19   \n",
            "24                    NaN    your_email@gmail.com      05/28/19   \n",
            "25                    NaN    your_email@gmail.com      05/30/19   \n",
            "26                    NaN    your_email@gmail.com      06/01/19   \n",
            "27                    NaN    your_email@gmail.com      05/30/19   \n",
            "\n",
            "   Shipping Address Name Shipping Address Street 1  Shipping Address Street 2  \\\n",
            "10             Your Name             1 YOUR STREET                        NaN   \n",
            "11             Your Name             1 YOUR STREET                        NaN   \n",
            "12             Your Name             1 YOUR STREET                        NaN   \n",
            "13             Your Name             1 YOUR STREET                        NaN   \n",
            "14             Your Name             1 YOUR STREET                        NaN   \n",
            "15             Your Name             1 YOUR STREET                        NaN   \n",
            "16             Your Name             1 YOUR STREET                        NaN   \n",
            "17             Your Name             1 YOUR STREET                        NaN   \n",
            "18             Your Name             1 YOUR STREET                        NaN   \n",
            "19             Your Name             1 YOUR STREET                        NaN   \n",
            "20             Your Name             1 YOUR STREET                        NaN   \n",
            "21             Your Name             1 YOUR STREET                        NaN   \n",
            "22             Your Name             1 YOUR STREET                        NaN   \n",
            "23             Your Name             1 YOUR STREET                        NaN   \n",
            "24             Your Name             1 YOUR STREET                        NaN   \n",
            "25             Your Name             1 YOUR STREET                        NaN   \n",
            "26             Your Name             1 YOUR STREET                        NaN   \n",
            "27             Your Name             1 YOUR STREET                        NaN   \n",
            "\n",
            "    ... Shipping Address Zip Order Status Carrier Name & Tracking Number  \\\n",
            "10  ...           00001-0001      Shipped               China Post(0003)   \n",
            "11  ...           00001-0001      Shipped                     USPS(0001)   \n",
            "12  ...           00001-0001      Shipped                     USPS(0001)   \n",
            "13  ...           00001-0001      Shipped                     USPS(0001)   \n",
            "14  ...           00001-0001      Shipped                     USPS(0001)   \n",
            "15  ...           00001-0001      Shipped                     USPS(0001)   \n",
            "16  ...           00001-0001      Shipped                     USPS(0001)   \n",
            "17  ...           00001-0001      Shipped                     USPS(0001)   \n",
            "18  ...           00001-0001      Shipped                     USPS(0001)   \n",
            "19  ...           00001-0001      Shipped                     USPS(0001)   \n",
            "20  ...           00001-0001      Shipped                     USPS(0001)   \n",
            "21  ...           00001-0001      Shipped                     USPS(0001)   \n",
            "22  ...           00001-0001      Shipped                     USPS(0001)   \n",
            "23  ...           00001-0001      Shipped                     USPS(0001)   \n",
            "24  ...           00001-0001      Shipped                     USPS(0001)   \n",
            "25  ...           00001-0001      Shipped                     USPS(0001)   \n",
            "26  ...           00001-0001      Shipped                      UPS(0002)   \n",
            "27  ...           00001-0001      Shipped                     USPS(0001)   \n",
            "\n",
            "   Subtotal Shipping Charge  Tax Before Promotions  Total Promotions  \\\n",
            "10    12.99             0.0                   0.00                 0   \n",
            "11     7.20             0.0                   0.40                 0   \n",
            "12    27.99             0.0                   0.00                 0   \n",
            "13    15.32             0.0                   0.84                 0   \n",
            "14     9.95             0.0                   0.55                 0   \n",
            "15    38.89             0.0                   0.00                 0   \n",
            "16     8.95             0.0                   0.49                 0   \n",
            "17    12.99             0.0                   0.00                 0   \n",
            "18     7.99             0.0                   0.00                 0   \n",
            "19    16.98             0.0                   0.93                 0   \n",
            "20    35.00             0.0                   1.92                 0   \n",
            "21     7.50             0.0                   0.41                 0   \n",
            "22     7.67             0.0                   0.00                 0   \n",
            "23     9.80             0.0                   0.00                 0   \n",
            "24    13.95             0.0                   0.00                 0   \n",
            "25     9.99             0.0                   0.00                 0   \n",
            "26    10.98             0.0                   0.60                 0   \n",
            "27    32.98             0.0                   0.82                 0   \n",
            "\n",
            "    Tax Charged  Total Charged  Buyer Name  \n",
            "10         0.00          12.99   Your Name  \n",
            "11         0.40           7.60   Your Name  \n",
            "12         0.00          27.99   Your Name  \n",
            "13         0.84          16.16   Your Name  \n",
            "14         0.55          10.50   Your Name  \n",
            "15         0.00          38.89   Your Name  \n",
            "16         0.49           9.44   Your Name  \n",
            "17         0.00          12.99   Your Name  \n",
            "18         0.00           7.99   Your Name  \n",
            "19         0.93          17.91   Your Name  \n",
            "20         1.92          36.92   Your Name  \n",
            "21         0.41           7.91   Your Name  \n",
            "22         0.00           7.67   Your Name  \n",
            "23         0.00           9.80   Your Name  \n",
            "24         0.00          13.95   Your Name  \n",
            "25         0.00           9.99   Your Name  \n",
            "26         0.60          11.58   Your Name  \n",
            "27         0.82          33.80   Your Name  \n",
            "\n",
            "[18 rows x 22 columns]\n"
          ]
        }
      ]
    },
    {
      "cell_type": "code",
      "source": [
        "spent_in_may = df_may[\"Total Charged\"].mean()\n",
        "print(spent_in_may)"
      ],
      "metadata": {
        "colab": {
          "base_uri": "https://localhost:8080/"
        },
        "id": "5434PSOsDXcQ",
        "outputId": "1513b5d3-ad49-4ca4-93b5-685045f47066"
      },
      "execution_count": 26,
      "outputs": [
        {
          "output_type": "stream",
          "name": "stdout",
          "text": [
            "16.337777777777777\n"
          ]
        }
      ]
    },
    {
      "cell_type": "code",
      "source": [
        "df_june = df5.loc[28:33]\n",
        "print(df_june)"
      ],
      "metadata": {
        "colab": {
          "base_uri": "https://localhost:8080/"
        },
        "id": "MWkFwsqfDlVa",
        "outputId": "109932bc-99a8-4a0f-8fc4-077ff8b62f3d"
      },
      "execution_count": 27,
      "outputs": [
        {
          "output_type": "stream",
          "name": "stdout",
          "text": [
            "   Order Date             Order ID Payment Instrument Type     Website  \\\n",
            "28   06/03/19  112-0000000-0000029             Visa - 0001  Amazon.com   \n",
            "29   06/03/19  112-0000000-0000030             Visa - 0001  Amazon.com   \n",
            "30   06/05/19  112-0000000-0000031             Visa - 0001  Amazon.com   \n",
            "31   06/18/19  112-0000000-0000032             Visa - 0001  Amazon.com   \n",
            "32   06/25/19  112-0000000-0000033             Visa - 0001  Amazon.com   \n",
            "33   06/25/19  112-0000000-0000034             Visa - 0001  Amazon.com   \n",
            "\n",
            "    Purchase Order Number Ordering Customer Email Shipment Date  \\\n",
            "28                    NaN    your_email@gmail.com      06/05/19   \n",
            "29                    NaN    your_email@gmail.com      06/05/19   \n",
            "30                    NaN    your_email@gmail.com      06/05/19   \n",
            "31                    NaN    your_email@gmail.com      06/19/19   \n",
            "32                    NaN    your_email@gmail.com      06/26/19   \n",
            "33                    NaN    your_email@gmail.com      06/26/19   \n",
            "\n",
            "   Shipping Address Name Shipping Address Street 1  Shipping Address Street 2  \\\n",
            "28             Your Name             1 YOUR STREET                        NaN   \n",
            "29             Your Name             1 YOUR STREET                        NaN   \n",
            "30             Your Name             1 YOUR STREET                        NaN   \n",
            "31             Your Name             1 YOUR STREET                        NaN   \n",
            "32             Your Name             1 YOUR STREET                        NaN   \n",
            "33             Your Name             1 YOUR STREET                        NaN   \n",
            "\n",
            "    ... Shipping Address Zip Order Status Carrier Name & Tracking Number  \\\n",
            "28  ...           00001-0001      Shipped                     USPS(0001)   \n",
            "29  ...           00001-0001      Shipped                      UPS(0002)   \n",
            "30  ...           00001-0001      Shipped                     USPS(0001)   \n",
            "31  ...           00001-0001      Shipped                     USPS(0001)   \n",
            "32  ...           00001-0001      Shipped                      UPS(0002)   \n",
            "33  ...           00001-0001      Shipped                     USPS(0001)   \n",
            "\n",
            "   Subtotal Shipping Charge  Tax Before Promotions  Total Promotions  \\\n",
            "28    28.99             0.0                   0.00                 0   \n",
            "29    13.88             0.0                   0.00                 0   \n",
            "30    11.62             0.0                   0.64                 0   \n",
            "31    11.98             0.0                   0.66                 0   \n",
            "32    51.99             0.0                   0.00                 0   \n",
            "33    10.59             0.0                   0.00                 0   \n",
            "\n",
            "    Tax Charged  Total Charged  Buyer Name  \n",
            "28         0.00          28.99   Your Name  \n",
            "29         0.00          13.88   Your Name  \n",
            "30         0.64          12.26   Your Name  \n",
            "31         0.66          12.64   Your Name  \n",
            "32         0.00          51.99   Your Name  \n",
            "33         0.00          10.59   Your Name  \n",
            "\n",
            "[6 rows x 22 columns]\n"
          ]
        }
      ]
    },
    {
      "cell_type": "code",
      "source": [
        "spent_in_june = df_june[\"Total Charged\"].mean()\n",
        "print(spent_in_june)"
      ],
      "metadata": {
        "colab": {
          "base_uri": "https://localhost:8080/"
        },
        "id": "A-GtdMFBDo9V",
        "outputId": "69a9d868-5994-4c44-9544-b4b95f94632c"
      },
      "execution_count": 28,
      "outputs": [
        {
          "output_type": "stream",
          "name": "stdout",
          "text": [
            "21.724999999999998\n"
          ]
        }
      ]
    },
    {
      "cell_type": "code",
      "source": [
        "df_july = df5.loc[28:33]\n",
        "print(df_july)"
      ],
      "metadata": {
        "colab": {
          "base_uri": "https://localhost:8080/"
        },
        "id": "iuA3m-0IDt96",
        "outputId": "2075845e-b891-4c99-8a6b-3833cb75da71"
      },
      "execution_count": 30,
      "outputs": [
        {
          "output_type": "stream",
          "name": "stdout",
          "text": [
            "   Order Date             Order ID Payment Instrument Type     Website  \\\n",
            "28   06/03/19  112-0000000-0000029             Visa - 0001  Amazon.com   \n",
            "29   06/03/19  112-0000000-0000030             Visa - 0001  Amazon.com   \n",
            "30   06/05/19  112-0000000-0000031             Visa - 0001  Amazon.com   \n",
            "31   06/18/19  112-0000000-0000032             Visa - 0001  Amazon.com   \n",
            "32   06/25/19  112-0000000-0000033             Visa - 0001  Amazon.com   \n",
            "33   06/25/19  112-0000000-0000034             Visa - 0001  Amazon.com   \n",
            "\n",
            "    Purchase Order Number Ordering Customer Email Shipment Date  \\\n",
            "28                    NaN    your_email@gmail.com      06/05/19   \n",
            "29                    NaN    your_email@gmail.com      06/05/19   \n",
            "30                    NaN    your_email@gmail.com      06/05/19   \n",
            "31                    NaN    your_email@gmail.com      06/19/19   \n",
            "32                    NaN    your_email@gmail.com      06/26/19   \n",
            "33                    NaN    your_email@gmail.com      06/26/19   \n",
            "\n",
            "   Shipping Address Name Shipping Address Street 1  Shipping Address Street 2  \\\n",
            "28             Your Name             1 YOUR STREET                        NaN   \n",
            "29             Your Name             1 YOUR STREET                        NaN   \n",
            "30             Your Name             1 YOUR STREET                        NaN   \n",
            "31             Your Name             1 YOUR STREET                        NaN   \n",
            "32             Your Name             1 YOUR STREET                        NaN   \n",
            "33             Your Name             1 YOUR STREET                        NaN   \n",
            "\n",
            "    ... Shipping Address Zip Order Status Carrier Name & Tracking Number  \\\n",
            "28  ...           00001-0001      Shipped                     USPS(0001)   \n",
            "29  ...           00001-0001      Shipped                      UPS(0002)   \n",
            "30  ...           00001-0001      Shipped                     USPS(0001)   \n",
            "31  ...           00001-0001      Shipped                     USPS(0001)   \n",
            "32  ...           00001-0001      Shipped                      UPS(0002)   \n",
            "33  ...           00001-0001      Shipped                     USPS(0001)   \n",
            "\n",
            "   Subtotal Shipping Charge  Tax Before Promotions  Total Promotions  \\\n",
            "28    28.99             0.0                   0.00                 0   \n",
            "29    13.88             0.0                   0.00                 0   \n",
            "30    11.62             0.0                   0.64                 0   \n",
            "31    11.98             0.0                   0.66                 0   \n",
            "32    51.99             0.0                   0.00                 0   \n",
            "33    10.59             0.0                   0.00                 0   \n",
            "\n",
            "    Tax Charged  Total Charged  Buyer Name  \n",
            "28         0.00          28.99   Your Name  \n",
            "29         0.00          13.88   Your Name  \n",
            "30         0.64          12.26   Your Name  \n",
            "31         0.66          12.64   Your Name  \n",
            "32         0.00          51.99   Your Name  \n",
            "33         0.00          10.59   Your Name  \n",
            "\n",
            "[6 rows x 22 columns]\n"
          ]
        }
      ]
    },
    {
      "cell_type": "code",
      "source": [
        "spent_in_july = df_july[\"Total Charged\"].mean()\n",
        "print(spent_in_july)"
      ],
      "metadata": {
        "colab": {
          "base_uri": "https://localhost:8080/"
        },
        "id": "02VCVdWeDxOg",
        "outputId": "77598c17-0abf-42e7-ce0d-a3a9d4a72f2e"
      },
      "execution_count": 31,
      "outputs": [
        {
          "output_type": "stream",
          "name": "stdout",
          "text": [
            "21.724999999999998\n"
          ]
        }
      ]
    },
    {
      "cell_type": "code",
      "source": [
        "average_total_spent = df5[\"Total Charged\"].mean()\n",
        "print(average_total_spent)"
      ],
      "metadata": {
        "colab": {
          "base_uri": "https://localhost:8080/"
        },
        "id": "jTFPH8BdD-CC",
        "outputId": "a60eac57-3f81-4ec3-c521-e4309462f510"
      },
      "execution_count": 33,
      "outputs": [
        {
          "output_type": "stream",
          "name": "stdout",
          "text": [
            "30.131016949152546\n"
          ]
        }
      ]
    },
    {
      "cell_type": "code",
      "source": [
        "median_total_spent = df5[\"Total Charged\"].median()\n",
        "print(median_total_spent)"
      ],
      "metadata": {
        "colab": {
          "base_uri": "https://localhost:8080/"
        },
        "id": "yBbbFMVkEKDk",
        "outputId": "e9351834-87cf-49d4-d0a5-a809ea45d6fa"
      },
      "execution_count": 35,
      "outputs": [
        {
          "output_type": "stream",
          "name": "stdout",
          "text": [
            "15.95\n"
          ]
        }
      ]
    },
    {
      "cell_type": "code",
      "source": [
        "max_total_spent = df5[\"Total Charged\"].max()\n",
        "print(max_total_spent)"
      ],
      "metadata": {
        "colab": {
          "base_uri": "https://localhost:8080/"
        },
        "id": "PXNImmASEN_p",
        "outputId": "ea1c3522-a4c8-465a-da35-1c374324c50c"
      },
      "execution_count": 37,
      "outputs": [
        {
          "output_type": "stream",
          "name": "stdout",
          "text": [
            "210.99\n"
          ]
        }
      ]
    },
    {
      "cell_type": "code",
      "source": [
        "min_total_spent = df5[\"Total Charged\"].min()\n",
        "print(min_total_spent)"
      ],
      "metadata": {
        "colab": {
          "base_uri": "https://localhost:8080/"
        },
        "id": "ssPcm8FMESyJ",
        "outputId": "8bf5e46e-a487-4648-d009-382c92aaf792"
      },
      "execution_count": 39,
      "outputs": [
        {
          "output_type": "stream",
          "name": "stdout",
          "text": [
            "1.04\n"
          ]
        }
      ]
    },
    {
      "cell_type": "code",
      "source": [
        "std_total_spent = df5[\"Total Charged\"].std()\n",
        "print(sd_total_spent)"
      ],
      "metadata": {
        "colab": {
          "base_uri": "https://localhost:8080/",
          "height": 189
        },
        "id": "x6qHPmnHEUgD",
        "outputId": "e2aa9eed-6cd6-4abe-95fe-c391918708d2"
      },
      "execution_count": 40,
      "outputs": [
        {
          "output_type": "error",
          "ename": "NameError",
          "evalue": "ignored",
          "traceback": [
            "\u001b[0;31m---------------------------------------------------------------------------\u001b[0m",
            "\u001b[0;31mNameError\u001b[0m                                 Traceback (most recent call last)",
            "\u001b[0;32m<ipython-input-40-9ae6f27b1d9d>\u001b[0m in \u001b[0;36m<module>\u001b[0;34m\u001b[0m\n\u001b[1;32m      1\u001b[0m \u001b[0mstd_total_spent\u001b[0m \u001b[0;34m=\u001b[0m \u001b[0mdf5\u001b[0m\u001b[0;34m[\u001b[0m\u001b[0;34m\"Total Charged\"\u001b[0m\u001b[0;34m]\u001b[0m\u001b[0;34m.\u001b[0m\u001b[0mstd\u001b[0m\u001b[0;34m(\u001b[0m\u001b[0;34m)\u001b[0m\u001b[0;34m\u001b[0m\u001b[0;34m\u001b[0m\u001b[0m\n\u001b[0;32m----> 2\u001b[0;31m \u001b[0mprint\u001b[0m\u001b[0;34m(\u001b[0m\u001b[0msd_total_spent\u001b[0m\u001b[0;34m)\u001b[0m\u001b[0;34m\u001b[0m\u001b[0;34m\u001b[0m\u001b[0m\n\u001b[0m",
            "\u001b[0;31mNameError\u001b[0m: name 'sd_total_spent' is not defined"
          ]
        }
      ]
    }
  ]
}